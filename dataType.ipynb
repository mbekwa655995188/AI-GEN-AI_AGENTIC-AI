{
 "cells": [
  {
   "cell_type": "code",
   "execution_count": 1,
   "id": "4ab19e31-8a6c-4a50-b4d4-b981e80419c4",
   "metadata": {},
   "outputs": [
    {
     "data": {
      "text/plain": [
       "8"
      ]
     },
     "execution_count": 1,
     "metadata": {},
     "output_type": "execute_result"
    }
   ],
   "source": [
    "i = 8 \n",
    "i"
   ]
  },
  {
   "cell_type": "code",
   "execution_count": 2,
   "id": "b0264529-1f3d-4c56-b91c-7a6208ec9413",
   "metadata": {},
   "outputs": [
    {
     "data": {
      "text/plain": [
       "int"
      ]
     },
     "execution_count": 2,
     "metadata": {},
     "output_type": "execute_result"
    }
   ],
   "source": [
    "type(i)"
   ]
  },
  {
   "cell_type": "code",
   "execution_count": 3,
   "id": "702ec7fb-cd2a-4531-b827-ed86652e2fad",
   "metadata": {},
   "outputs": [
    {
     "data": {
      "text/plain": [
       "100.34"
      ]
     },
     "execution_count": 3,
     "metadata": {},
     "output_type": "execute_result"
    }
   ],
   "source": [
    "f = 100.34\n",
    "f"
   ]
  },
  {
   "cell_type": "code",
   "execution_count": 4,
   "id": "e36fd36f-a64a-4831-beb4-22280a75dc56",
   "metadata": {},
   "outputs": [
    {
     "data": {
      "text/plain": [
       "float"
      ]
     },
     "execution_count": 4,
     "metadata": {},
     "output_type": "execute_result"
    }
   ],
   "source": [
    "type(f)"
   ]
  },
  {
   "cell_type": "code",
   "execution_count": 5,
   "id": "f0bef392-26f8-448f-a197-80642378f931",
   "metadata": {},
   "outputs": [
    {
     "ename": "SyntaxError",
     "evalue": "invalid decimal literal (1208836307.py, line 1)",
     "output_type": "error",
     "traceback": [
      "\u001b[1;36m  Cell \u001b[1;32mIn[5], line 1\u001b[1;36m\u001b[0m\n\u001b[1;33m    1f = 2.4e0\u001b[0m\n\u001b[1;37m    ^\u001b[0m\n\u001b[1;31mSyntaxError\u001b[0m\u001b[1;31m:\u001b[0m invalid decimal literal\n"
     ]
    }
   ],
   "source": [
    "1f = 2.4e0\n",
    "1f"
   ]
  },
  {
   "cell_type": "code",
   "execution_count": 6,
   "id": "791fb5f4-b596-4cba-9c94-656b7af0519d",
   "metadata": {},
   "outputs": [
    {
     "data": {
      "text/plain": [
       "2.4"
      ]
     },
     "execution_count": 6,
     "metadata": {},
     "output_type": "execute_result"
    }
   ],
   "source": [
    "f1 =2.4e0\n",
    "f1"
   ]
  },
  {
   "cell_type": "code",
   "execution_count": 7,
   "id": "3ea94a5e-6a04-4d97-9771-ddddc3fe1f50",
   "metadata": {},
   "outputs": [
    {
     "data": {
      "text/plain": [
       "24.0"
      ]
     },
     "execution_count": 7,
     "metadata": {},
     "output_type": "execute_result"
    }
   ],
   "source": [
    "f2 =2.4e1\n",
    "f2"
   ]
  },
  {
   "cell_type": "code",
   "execution_count": 8,
   "id": "7765c3a0-3a9c-4164-951f-0ea238ece685",
   "metadata": {},
   "outputs": [
    {
     "data": {
      "text/plain": [
       "240.0"
      ]
     },
     "execution_count": 8,
     "metadata": {},
     "output_type": "execute_result"
    }
   ],
   "source": [
    "f3 = 2.4e2\n",
    "f3"
   ]
  },
  {
   "cell_type": "code",
   "execution_count": 9,
   "id": "67902cce-d22c-459c-8485-a7b88a686fb4",
   "metadata": {},
   "outputs": [
    {
     "data": {
      "text/plain": [
       "3200.0"
      ]
     },
     "execution_count": 9,
     "metadata": {},
     "output_type": "execute_result"
    }
   ],
   "source": [
    "f4 = 3.2E3\n",
    "f4"
   ]
  },
  {
   "cell_type": "code",
   "execution_count": null,
   "id": "3e17cbbc-927f-4534-ac63-4cb888ffe908",
   "metadata": {},
   "outputs": [],
   "source": [
    "# Complex == (1 + 2j)"
   ]
  },
  {
   "cell_type": "code",
   "execution_count": 11,
   "id": "47ad6e6b-a1e4-45dd-aece-646b88b52443",
   "metadata": {},
   "outputs": [
    {
     "data": {
      "text/plain": [
       "(10+20j)"
      ]
     },
     "execution_count": 11,
     "metadata": {},
     "output_type": "execute_result"
    }
   ],
   "source": [
    "c = 10 + 20j\n",
    "c"
   ]
  },
  {
   "cell_type": "code",
   "execution_count": 12,
   "id": "f7cdf590-bda4-48be-9ec6-95193d5500d2",
   "metadata": {},
   "outputs": [
    {
     "data": {
      "text/plain": [
       "complex"
      ]
     },
     "execution_count": 12,
     "metadata": {},
     "output_type": "execute_result"
    }
   ],
   "source": [
    "type(c)"
   ]
  },
  {
   "cell_type": "code",
   "execution_count": 13,
   "id": "5828196b-b667-4cb0-9f11-c2202e21c279",
   "metadata": {},
   "outputs": [
    {
     "data": {
      "text/plain": [
       "10.0"
      ]
     },
     "execution_count": 13,
     "metadata": {},
     "output_type": "execute_result"
    }
   ],
   "source": [
    "c.real"
   ]
  },
  {
   "cell_type": "code",
   "execution_count": 14,
   "id": "90f06857-3d5c-43d5-a7f6-66a8f558fef5",
   "metadata": {},
   "outputs": [
    {
     "data": {
      "text/plain": [
       "20.0"
      ]
     },
     "execution_count": 14,
     "metadata": {},
     "output_type": "execute_result"
    }
   ],
   "source": [
    "c.imag"
   ]
  },
  {
   "cell_type": "code",
   "execution_count": 21,
   "id": "ac45e828-aa3a-48a7-bd6a-7bbbf7b6c02f",
   "metadata": {},
   "outputs": [],
   "source": [
    "c1 = 5 + 2j \n",
    "c2 = 3 + 6j"
   ]
  },
  {
   "cell_type": "code",
   "execution_count": 22,
   "id": "3925dc25-0b9d-4629-97ff-daaf96e070a3",
   "metadata": {},
   "outputs": [
    {
     "name": "stdout",
     "output_type": "stream",
     "text": [
      "(8+8j)\n"
     ]
    }
   ],
   "source": [
    "print(c1 + c2)"
   ]
  },
  {
   "cell_type": "code",
   "execution_count": null,
   "id": "0c292764-0730-4828-bd5d-d363f2e862db",
   "metadata": {},
   "outputs": [],
   "source": [
    "Boolean "
   ]
  },
  {
   "cell_type": "code",
   "execution_count": 23,
   "id": "0b67d40c-d727-40ff-ad2f-db316501c7d3",
   "metadata": {},
   "outputs": [
    {
     "ename": "NameError",
     "evalue": "name 'true' is not defined",
     "output_type": "error",
     "traceback": [
      "\u001b[1;31m---------------------------------------------------------------------------\u001b[0m",
      "\u001b[1;31mNameError\u001b[0m                                 Traceback (most recent call last)",
      "Cell \u001b[1;32mIn[23], line 1\u001b[0m\n\u001b[1;32m----> 1\u001b[0m true\n",
      "\u001b[1;31mNameError\u001b[0m: name 'true' is not defined"
     ]
    }
   ],
   "source": [
    "true "
   ]
  },
  {
   "cell_type": "code",
   "execution_count": 24,
   "id": "903a0616-6b96-4794-a67c-120f4db4ac48",
   "metadata": {},
   "outputs": [
    {
     "data": {
      "text/plain": [
       "True"
      ]
     },
     "execution_count": 24,
     "metadata": {},
     "output_type": "execute_result"
    }
   ],
   "source": [
    "True"
   ]
  },
  {
   "cell_type": "code",
   "execution_count": 25,
   "id": "b004552e-3e7f-4e69-9c6c-2b4fe36f98c8",
   "metadata": {},
   "outputs": [
    {
     "data": {
      "text/plain": [
       "False"
      ]
     },
     "execution_count": 25,
     "metadata": {},
     "output_type": "execute_result"
    }
   ],
   "source": [
    "False"
   ]
  },
  {
   "cell_type": "code",
   "execution_count": 26,
   "id": "245c9680-c593-44f9-b7dd-f6f4d76ccc61",
   "metadata": {},
   "outputs": [
    {
     "data": {
      "text/plain": [
       "2"
      ]
     },
     "execution_count": 26,
     "metadata": {},
     "output_type": "execute_result"
    }
   ],
   "source": [
    "True + True "
   ]
  },
  {
   "cell_type": "code",
   "execution_count": 27,
   "id": "76911113-f304-4708-b984-5500e5af4f56",
   "metadata": {},
   "outputs": [
    {
     "data": {
      "text/plain": [
       "1"
      ]
     },
     "execution_count": 27,
     "metadata": {},
     "output_type": "execute_result"
    }
   ],
   "source": [
    "True - False"
   ]
  },
  {
   "cell_type": "code",
   "execution_count": 28,
   "id": "ce733e6d-fce8-4c74-be68-c3fe1b67b091",
   "metadata": {},
   "outputs": [
    {
     "data": {
      "text/plain": [
       "-1"
      ]
     },
     "execution_count": 28,
     "metadata": {},
     "output_type": "execute_result"
    }
   ],
   "source": [
    "False - True "
   ]
  },
  {
   "cell_type": "code",
   "execution_count": 29,
   "id": "e2c3a2a9-1127-4226-81e8-29f2c4010788",
   "metadata": {},
   "outputs": [
    {
     "data": {
      "text/plain": [
       "0"
      ]
     },
     "execution_count": 29,
     "metadata": {},
     "output_type": "execute_result"
    }
   ],
   "source": [
    "False * True"
   ]
  },
  {
   "cell_type": "code",
   "execution_count": 31,
   "id": "72f062b3-3f39-4f4d-8611-1b34985dcddc",
   "metadata": {},
   "outputs": [
    {
     "data": {
      "text/plain": [
       "1"
      ]
     },
     "execution_count": 31,
     "metadata": {},
     "output_type": "execute_result"
    }
   ],
   "source": [
    "False * True + True "
   ]
  },
  {
   "cell_type": "code",
   "execution_count": 32,
   "id": "abc71fa5-f675-406a-997d-f8027666ab82",
   "metadata": {},
   "outputs": [
    {
     "data": {
      "text/plain": [
       "0.0"
      ]
     },
     "execution_count": 32,
     "metadata": {},
     "output_type": "execute_result"
    }
   ],
   "source": [
    "False /True "
   ]
  },
  {
   "cell_type": "code",
   "execution_count": 33,
   "id": "ac5b7035-91b7-45ca-ad9b-884981792de5",
   "metadata": {},
   "outputs": [
    {
     "data": {
      "text/plain": [
       "0"
      ]
     },
     "execution_count": 33,
     "metadata": {},
     "output_type": "execute_result"
    }
   ],
   "source": [
    "False //True # (float division )"
   ]
  },
  {
   "cell_type": "code",
   "execution_count": 34,
   "id": "f88cf372-0f87-4774-ba23-3cf2bfd7d38e",
   "metadata": {},
   "outputs": [
    {
     "ename": "ZeroDivisionError",
     "evalue": "division by zero",
     "output_type": "error",
     "traceback": [
      "\u001b[1;31m---------------------------------------------------------------------------\u001b[0m",
      "\u001b[1;31mZeroDivisionError\u001b[0m                         Traceback (most recent call last)",
      "Cell \u001b[1;32mIn[34], line 1\u001b[0m\n\u001b[1;32m----> 1\u001b[0m \u001b[38;5;28;01mTrue\u001b[39;00m \u001b[38;5;241m/\u001b[39m\u001b[38;5;28;01mFalse\u001b[39;00m\n",
      "\u001b[1;31mZeroDivisionError\u001b[0m: division by zero"
     ]
    }
   ],
   "source": [
    "True /False "
   ]
  },
  {
   "cell_type": "markdown",
   "id": "65aaaec5-3810-45a7-9f60-6188f9ef6220",
   "metadata": {},
   "source": [
    "String"
   ]
  },
  {
   "cell_type": "code",
   "execution_count": 36,
   "id": "ea37cbb7-03bf-4fa4-bb73-74bfa26c4014",
   "metadata": {},
   "outputs": [
    {
     "data": {
      "text/plain": [
       "'Welcome to Prankas '"
      ]
     },
     "execution_count": 36,
     "metadata": {},
     "output_type": "execute_result"
    }
   ],
   "source": [
    "s = \"Welcome to Prankas \"\n",
    "s"
   ]
  },
  {
   "cell_type": "code",
   "execution_count": 37,
   "id": "dd5367ff-09f0-4701-b40a-e01d8161894d",
   "metadata": {},
   "outputs": [
    {
     "data": {
      "text/plain": [
       "'a3max'"
      ]
     },
     "execution_count": 37,
     "metadata": {},
     "output_type": "execute_result"
    }
   ],
   "source": [
    "s2 = \"a3max\"\n",
    "s2 "
   ]
  },
  {
   "cell_type": "code",
   "execution_count": 39,
   "id": "4ee07450-d78f-448b-8eaf-b6d7b1e40aaa",
   "metadata": {},
   "outputs": [
    {
     "data": {
      "text/plain": [
       "' a3max\\nlemuel\\nelvina '"
      ]
     },
     "execution_count": 39,
     "metadata": {},
     "output_type": "execute_result"
    }
   ],
   "source": [
    "s3 = ''' a3max\n",
    "lemuel\n",
    "elvina '''\n",
    "s3 "
   ]
  },
  {
   "cell_type": "code",
   "execution_count": null,
   "id": "cb914678-c283-4015-ae32-f566a28e3dc9",
   "metadata": {},
   "outputs": [],
   "source": []
  }
 ],
 "metadata": {
  "kernelspec": {
   "display_name": "Python 3 (ipykernel)",
   "language": "python",
   "name": "python3"
  },
  "language_info": {
   "codemirror_mode": {
    "name": "ipython",
    "version": 3
   },
   "file_extension": ".py",
   "mimetype": "text/x-python",
   "name": "python",
   "nbconvert_exporter": "python",
   "pygments_lexer": "ipython3",
   "version": "3.13.5"
  }
 },
 "nbformat": 4,
 "nbformat_minor": 5
}
