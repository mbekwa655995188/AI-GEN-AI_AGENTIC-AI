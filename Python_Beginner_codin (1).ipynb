{
 "cells": [
  {
   "cell_type": "markdown",
   "id": "7e5f9c10-b66d-4ed0-a495-6e2b13850821",
   "metadata": {},
   "source": [
    "i = 8 \n",
    "i"
   ]
  },
  {
   "cell_type": "code",
   "execution_count": 2,
   "id": "b0264529-1f3d-4c56-b91c-7a6208ec9413",
   "metadata": {},
   "outputs": [
    {
     "data": {
      "text/plain": [
       "int"
      ]
     },
     "execution_count": 2,
     "metadata": {},
     "output_type": "execute_result"
    }
   ],
   "source": [
    "type(i)"
   ]
  },
  {
   "cell_type": "code",
   "execution_count": 3,
   "id": "702ec7fb-cd2a-4531-b827-ed86652e2fad",
   "metadata": {},
   "outputs": [
    {
     "data": {
      "text/plain": [
       "100.34"
      ]
     },
     "execution_count": 3,
     "metadata": {},
     "output_type": "execute_result"
    }
   ],
   "source": [
    "f = 100.34\n",
    "f"
   ]
  },
  {
   "cell_type": "code",
   "execution_count": 4,
   "id": "e36fd36f-a64a-4831-beb4-22280a75dc56",
   "metadata": {},
   "outputs": [
    {
     "data": {
      "text/plain": [
       "float"
      ]
     },
     "execution_count": 4,
     "metadata": {},
     "output_type": "execute_result"
    }
   ],
   "source": [
    "type(f)"
   ]
  },
  {
   "cell_type": "code",
   "execution_count": 5,
   "id": "f0bef392-26f8-448f-a197-80642378f931",
   "metadata": {},
   "outputs": [
    {
     "ename": "SyntaxError",
     "evalue": "invalid decimal literal (1208836307.py, line 1)",
     "output_type": "error",
     "traceback": [
      "\u001b[1;36m  Cell \u001b[1;32mIn[5], line 1\u001b[1;36m\u001b[0m\n\u001b[1;33m    1f = 2.4e0\u001b[0m\n\u001b[1;37m    ^\u001b[0m\n\u001b[1;31mSyntaxError\u001b[0m\u001b[1;31m:\u001b[0m invalid decimal literal\n"
     ]
    }
   ],
   "source": [
    "1f = 2.4e0\n",
    "1f"
   ]
  },
  {
   "cell_type": "code",
   "execution_count": 6,
   "id": "791fb5f4-b596-4cba-9c94-656b7af0519d",
   "metadata": {},
   "outputs": [
    {
     "data": {
      "text/plain": [
       "2.4"
      ]
     },
     "execution_count": 6,
     "metadata": {},
     "output_type": "execute_result"
    }
   ],
   "source": [
    "f1 =2.4e0\n",
    "f1"
   ]
  },
  {
   "cell_type": "code",
   "execution_count": 7,
   "id": "3ea94a5e-6a04-4d97-9771-ddddc3fe1f50",
   "metadata": {},
   "outputs": [
    {
     "data": {
      "text/plain": [
       "24.0"
      ]
     },
     "execution_count": 7,
     "metadata": {},
     "output_type": "execute_result"
    }
   ],
   "source": [
    "f2 =2.4e1\n",
    "f2"
   ]
  },
  {
   "cell_type": "code",
   "execution_count": 8,
   "id": "7765c3a0-3a9c-4164-951f-0ea238ece685",
   "metadata": {},
   "outputs": [
    {
     "data": {
      "text/plain": [
       "240.0"
      ]
     },
     "execution_count": 8,
     "metadata": {},
     "output_type": "execute_result"
    }
   ],
   "source": [
    "f3 = 2.4e2\n",
    "f3"
   ]
  },
  {
   "cell_type": "code",
   "execution_count": 9,
   "id": "67902cce-d22c-459c-8485-a7b88a686fb4",
   "metadata": {},
   "outputs": [
    {
     "data": {
      "text/plain": [
       "3200.0"
      ]
     },
     "execution_count": 9,
     "metadata": {},
     "output_type": "execute_result"
    }
   ],
   "source": [
    "f4 = 3.2E3\n",
    "f4"
   ]
  },
  {
   "cell_type": "code",
   "execution_count": null,
   "id": "3e17cbbc-927f-4534-ac63-4cb888ffe908",
   "metadata": {},
   "outputs": [],
   "source": [
    "# Complex == (1 + 2j)"
   ]
  },
  {
   "cell_type": "code",
   "execution_count": 11,
   "id": "47ad6e6b-a1e4-45dd-aece-646b88b52443",
   "metadata": {},
   "outputs": [
    {
     "data": {
      "text/plain": [
       "(10+20j)"
      ]
     },
     "execution_count": 11,
     "metadata": {},
     "output_type": "execute_result"
    }
   ],
   "source": [
    "c = 10 + 20j\n",
    "c"
   ]
  },
  {
   "cell_type": "code",
   "execution_count": 12,
   "id": "f7cdf590-bda4-48be-9ec6-95193d5500d2",
   "metadata": {},
   "outputs": [
    {
     "data": {
      "text/plain": [
       "complex"
      ]
     },
     "execution_count": 12,
     "metadata": {},
     "output_type": "execute_result"
    }
   ],
   "source": [
    "type(c)"
   ]
  },
  {
   "cell_type": "code",
   "execution_count": 13,
   "id": "5828196b-b667-4cb0-9f11-c2202e21c279",
   "metadata": {},
   "outputs": [
    {
     "data": {
      "text/plain": [
       "10.0"
      ]
     },
     "execution_count": 13,
     "metadata": {},
     "output_type": "execute_result"
    }
   ],
   "source": [
    "c.real"
   ]
  },
  {
   "cell_type": "code",
   "execution_count": 14,
   "id": "90f06857-3d5c-43d5-a7f6-66a8f558fef5",
   "metadata": {},
   "outputs": [
    {
     "data": {
      "text/plain": [
       "20.0"
      ]
     },
     "execution_count": 14,
     "metadata": {},
     "output_type": "execute_result"
    }
   ],
   "source": [
    "c.imag"
   ]
  },
  {
   "cell_type": "code",
   "execution_count": 21,
   "id": "ac45e828-aa3a-48a7-bd6a-7bbbf7b6c02f",
   "metadata": {},
   "outputs": [],
   "source": [
    "c1 = 5 + 2j \n",
    "c2 = 3 + 6j"
   ]
  },
  {
   "cell_type": "code",
   "execution_count": 22,
   "id": "3925dc25-0b9d-4629-97ff-daaf96e070a3",
   "metadata": {},
   "outputs": [
    {
     "name": "stdout",
     "output_type": "stream",
     "text": [
      "(8+8j)\n"
     ]
    }
   ],
   "source": [
    "print(c1 + c2)"
   ]
  },
  {
   "cell_type": "code",
   "execution_count": null,
   "id": "0c292764-0730-4828-bd5d-d363f2e862db",
   "metadata": {},
   "outputs": [],
   "source": [
    "Boolean "
   ]
  },
  {
   "cell_type": "code",
   "execution_count": 23,
   "id": "0b67d40c-d727-40ff-ad2f-db316501c7d3",
   "metadata": {},
   "outputs": [
    {
     "ename": "NameError",
     "evalue": "name 'true' is not defined",
     "output_type": "error",
     "traceback": [
      "\u001b[1;31m---------------------------------------------------------------------------\u001b[0m",
      "\u001b[1;31mNameError\u001b[0m                                 Traceback (most recent call last)",
      "Cell \u001b[1;32mIn[23], line 1\u001b[0m\n\u001b[1;32m----> 1\u001b[0m true\n",
      "\u001b[1;31mNameError\u001b[0m: name 'true' is not defined"
     ]
    }
   ],
   "source": [
    "true "
   ]
  },
  {
   "cell_type": "code",
   "execution_count": 24,
   "id": "903a0616-6b96-4794-a67c-120f4db4ac48",
   "metadata": {},
   "outputs": [
    {
     "data": {
      "text/plain": [
       "True"
      ]
     },
     "execution_count": 24,
     "metadata": {},
     "output_type": "execute_result"
    }
   ],
   "source": [
    "True"
   ]
  },
  {
   "cell_type": "code",
   "execution_count": 25,
   "id": "b004552e-3e7f-4e69-9c6c-2b4fe36f98c8",
   "metadata": {},
   "outputs": [
    {
     "data": {
      "text/plain": [
       "False"
      ]
     },
     "execution_count": 25,
     "metadata": {},
     "output_type": "execute_result"
    }
   ],
   "source": [
    "False"
   ]
  },
  {
   "cell_type": "code",
   "execution_count": 26,
   "id": "245c9680-c593-44f9-b7dd-f6f4d76ccc61",
   "metadata": {},
   "outputs": [
    {
     "data": {
      "text/plain": [
       "2"
      ]
     },
     "execution_count": 26,
     "metadata": {},
     "output_type": "execute_result"
    }
   ],
   "source": [
    "True + True "
   ]
  },
  {
   "cell_type": "code",
   "execution_count": 27,
   "id": "76911113-f304-4708-b984-5500e5af4f56",
   "metadata": {},
   "outputs": [
    {
     "data": {
      "text/plain": [
       "1"
      ]
     },
     "execution_count": 27,
     "metadata": {},
     "output_type": "execute_result"
    }
   ],
   "source": [
    "True - False"
   ]
  },
  {
   "cell_type": "code",
   "execution_count": 28,
   "id": "ce733e6d-fce8-4c74-be68-c3fe1b67b091",
   "metadata": {},
   "outputs": [
    {
     "data": {
      "text/plain": [
       "-1"
      ]
     },
     "execution_count": 28,
     "metadata": {},
     "output_type": "execute_result"
    }
   ],
   "source": [
    "False - True "
   ]
  },
  {
   "cell_type": "code",
   "execution_count": 29,
   "id": "e2c3a2a9-1127-4226-81e8-29f2c4010788",
   "metadata": {},
   "outputs": [
    {
     "data": {
      "text/plain": [
       "0"
      ]
     },
     "execution_count": 29,
     "metadata": {},
     "output_type": "execute_result"
    }
   ],
   "source": [
    "False * True"
   ]
  },
  {
   "cell_type": "code",
   "execution_count": 31,
   "id": "72f062b3-3f39-4f4d-8611-1b34985dcddc",
   "metadata": {},
   "outputs": [
    {
     "data": {
      "text/plain": [
       "1"
      ]
     },
     "execution_count": 31,
     "metadata": {},
     "output_type": "execute_result"
    }
   ],
   "source": [
    "False * True + True "
   ]
  },
  {
   "cell_type": "code",
   "execution_count": 32,
   "id": "abc71fa5-f675-406a-997d-f8027666ab82",
   "metadata": {},
   "outputs": [
    {
     "data": {
      "text/plain": [
       "0.0"
      ]
     },
     "execution_count": 32,
     "metadata": {},
     "output_type": "execute_result"
    }
   ],
   "source": [
    "False /True "
   ]
  },
  {
   "cell_type": "code",
   "execution_count": 33,
   "id": "ac5b7035-91b7-45ca-ad9b-884981792de5",
   "metadata": {},
   "outputs": [
    {
     "data": {
      "text/plain": [
       "0"
      ]
     },
     "execution_count": 33,
     "metadata": {},
     "output_type": "execute_result"
    }
   ],
   "source": [
    "False //True # (float division )"
   ]
  },
  {
   "cell_type": "code",
   "execution_count": 34,
   "id": "f88cf372-0f87-4774-ba23-3cf2bfd7d38e",
   "metadata": {},
   "outputs": [
    {
     "ename": "ZeroDivisionError",
     "evalue": "division by zero",
     "output_type": "error",
     "traceback": [
      "\u001b[1;31m---------------------------------------------------------------------------\u001b[0m",
      "\u001b[1;31mZeroDivisionError\u001b[0m                         Traceback (most recent call last)",
      "Cell \u001b[1;32mIn[34], line 1\u001b[0m\n\u001b[1;32m----> 1\u001b[0m \u001b[38;5;28;01mTrue\u001b[39;00m \u001b[38;5;241m/\u001b[39m\u001b[38;5;28;01mFalse\u001b[39;00m\n",
      "\u001b[1;31mZeroDivisionError\u001b[0m: division by zero"
     ]
    }
   ],
   "source": [
    "True /False "
   ]
  },
  {
   "cell_type": "markdown",
   "id": "65aaaec5-3810-45a7-9f60-6188f9ef6220",
   "metadata": {},
   "source": [
    "String"
   ]
  },
  {
   "cell_type": "code",
   "execution_count": 36,
   "id": "ea37cbb7-03bf-4fa4-bb73-74bfa26c4014",
   "metadata": {},
   "outputs": [
    {
     "data": {
      "text/plain": [
       "'Welcome to Prankas '"
      ]
     },
     "execution_count": 36,
     "metadata": {},
     "output_type": "execute_result"
    }
   ],
   "source": [
    "s = \"Welcome to Prankas \"\n",
    "s"
   ]
  },
  {
   "cell_type": "code",
   "execution_count": 37,
   "id": "dd5367ff-09f0-4701-b40a-e01d8161894d",
   "metadata": {},
   "outputs": [
    {
     "data": {
      "text/plain": [
       "'a3max'"
      ]
     },
     "execution_count": 37,
     "metadata": {},
     "output_type": "execute_result"
    }
   ],
   "source": [
    "s2 = \"a3max\"\n",
    "s2 "
   ]
  },
  {
   "cell_type": "code",
   "execution_count": 39,
   "id": "4ee07450-d78f-448b-8eaf-b6d7b1e40aaa",
   "metadata": {},
   "outputs": [
    {
     "data": {
      "text/plain": [
       "' a3max\\nlemuel\\nelvina '"
      ]
     },
     "execution_count": 39,
     "metadata": {},
     "output_type": "execute_result"
    }
   ],
   "source": [
    "s3 = ''' a3max\n",
    "lemuel\n",
    "elvina '''\n",
    "s3 "
   ]
  },
  {
   "cell_type": "markdown",
   "id": "5216d2ca-c939-4734-bfba-cf97585aa4b6",
   "metadata": {},
   "source": [
    "1st- Type Casting "
   ]
  },
  {
   "cell_type": "code",
   "execution_count": 2,
   "id": "3b38dcc1-e056-41fb-a54c-6d9d5759321a",
   "metadata": {},
   "outputs": [
    {
     "data": {
      "text/plain": [
       "110"
      ]
     },
     "execution_count": 2,
     "metadata": {},
     "output_type": "execute_result"
    }
   ],
   "source": [
    "int(110.10)"
   ]
  },
  {
   "cell_type": "code",
   "execution_count": 3,
   "id": "4570eaa8-0d50-42eb-8d88-391c4d8e6aef",
   "metadata": {},
   "outputs": [
    {
     "ename": "TypeError",
     "evalue": "'float' object cannot be interpreted as an integer",
     "output_type": "error",
     "traceback": [
      "\u001b[1;31m---------------------------------------------------------------------------\u001b[0m",
      "\u001b[1;31mTypeError\u001b[0m                                 Traceback (most recent call last)",
      "Cell \u001b[1;32mIn[3], line 1\u001b[0m\n\u001b[1;32m----> 1\u001b[0m \u001b[38;5;28mint\u001b[39m(\u001b[38;5;241m110.10\u001b[39m,\u001b[38;5;241m230.45\u001b[39m)\n",
      "\u001b[1;31mTypeError\u001b[0m: 'float' object cannot be interpreted as an integer"
     ]
    }
   ],
   "source": [
    "int(110.10,230.45)"
   ]
  },
  {
   "cell_type": "code",
   "execution_count": 4,
   "id": "d290a9a3-d061-4a1d-8672-0a761b0259d3",
   "metadata": {},
   "outputs": [
    {
     "data": {
      "text/plain": [
       "1"
      ]
     },
     "execution_count": 4,
     "metadata": {},
     "output_type": "execute_result"
    }
   ],
   "source": [
    "int(True)"
   ]
  },
  {
   "cell_type": "code",
   "execution_count": 5,
   "id": "2cab6771-7907-4295-b02d-cfa4217ef250",
   "metadata": {},
   "outputs": [
    {
     "data": {
      "text/plain": [
       "2"
      ]
     },
     "execution_count": 5,
     "metadata": {},
     "output_type": "execute_result"
    }
   ],
   "source": [
    "int(True +True )"
   ]
  },
  {
   "cell_type": "code",
   "execution_count": 6,
   "id": "67bb6c61-b020-4b6f-a71d-4f5cd8a5eb77",
   "metadata": {},
   "outputs": [
    {
     "data": {
      "text/plain": [
       "0"
      ]
     },
     "execution_count": 6,
     "metadata": {},
     "output_type": "execute_result"
    }
   ],
   "source": [
    "int(False)"
   ]
  },
  {
   "cell_type": "code",
   "execution_count": 7,
   "id": "e0c3c1b3-e4fe-49b3-86e4-6ac66c6f6690",
   "metadata": {},
   "outputs": [
    {
     "ename": "TypeError",
     "evalue": "int() can't convert non-string with explicit base",
     "output_type": "error",
     "traceback": [
      "\u001b[1;31m---------------------------------------------------------------------------\u001b[0m",
      "\u001b[1;31mTypeError\u001b[0m                                 Traceback (most recent call last)",
      "Cell \u001b[1;32mIn[7], line 1\u001b[0m\n\u001b[1;32m----> 1\u001b[0m \u001b[38;5;28mint\u001b[39m(\u001b[38;5;28;01mTrue\u001b[39;00m, \u001b[38;5;28;01mFalse\u001b[39;00m)\n",
      "\u001b[1;31mTypeError\u001b[0m: int() can't convert non-string with explicit base"
     ]
    }
   ],
   "source": [
    "int(True, False)"
   ]
  },
  {
   "cell_type": "code",
   "execution_count": 8,
   "id": "908d05e7-5b75-43ad-9475-b35c36eab756",
   "metadata": {},
   "outputs": [
    {
     "ename": "TypeError",
     "evalue": "int() argument must be a string, a bytes-like object or a real number, not 'complex'",
     "output_type": "error",
     "traceback": [
      "\u001b[1;31m---------------------------------------------------------------------------\u001b[0m",
      "\u001b[1;31mTypeError\u001b[0m                                 Traceback (most recent call last)",
      "Cell \u001b[1;32mIn[8], line 1\u001b[0m\n\u001b[1;32m----> 1\u001b[0m \u001b[38;5;28mint\u001b[39m(\u001b[38;5;241m10\u001b[39m\u001b[38;5;241m+\u001b[39m \u001b[38;5;241m20\u001b[39mj)\n",
      "\u001b[1;31mTypeError\u001b[0m: int() argument must be a string, a bytes-like object or a real number, not 'complex'"
     ]
    }
   ],
   "source": [
    "int(10+ 20j)  #complex "
   ]
  },
  {
   "cell_type": "code",
   "execution_count": 9,
   "id": "8357fa2b-67c6-4d02-a0e9-fa35c1a45ecc",
   "metadata": {},
   "outputs": [
    {
     "data": {
      "text/plain": [
       "10"
      ]
     },
     "execution_count": 9,
     "metadata": {},
     "output_type": "execute_result"
    }
   ],
   "source": [
    "int('10') # number string "
   ]
  },
  {
   "cell_type": "code",
   "execution_count": 10,
   "id": "0083db0a-a929-4e84-83ca-e0ff72e313f9",
   "metadata": {},
   "outputs": [
    {
     "ename": "ValueError",
     "evalue": "invalid literal for int() with base 10: 'ten'",
     "output_type": "error",
     "traceback": [
      "\u001b[1;31m---------------------------------------------------------------------------\u001b[0m",
      "\u001b[1;31mValueError\u001b[0m                                Traceback (most recent call last)",
      "Cell \u001b[1;32mIn[10], line 1\u001b[0m\n\u001b[1;32m----> 1\u001b[0m \u001b[38;5;28mint\u001b[39m(\u001b[38;5;124m\"\u001b[39m\u001b[38;5;124mten\u001b[39m\u001b[38;5;124m\"\u001b[39m)\n",
      "\u001b[1;31mValueError\u001b[0m: invalid literal for int() with base 10: 'ten'"
     ]
    }
   ],
   "source": [
    "int(\"ten\")"
   ]
  },
  {
   "cell_type": "markdown",
   "id": "46e66ddf-9c48-4dbc-a676-41051b416ab3",
   "metadata": {},
   "source": [
    "We learned like all other data type to int complete"
   ]
  },
  {
   "cell_type": "code",
   "execution_count": 11,
   "id": "e8e026cd-e928-4950-bf4a-ab8be58e9e3e",
   "metadata": {},
   "outputs": [
    {
     "data": {
      "text/plain": [
       "10.0"
      ]
     },
     "execution_count": 11,
     "metadata": {},
     "output_type": "execute_result"
    }
   ],
   "source": [
    "float(10)"
   ]
  },
  {
   "cell_type": "code",
   "execution_count": 12,
   "id": "1ff9b85d-630c-46ec-aa8b-4d5f4effb1d7",
   "metadata": {},
   "outputs": [
    {
     "data": {
      "text/plain": [
       "1.0"
      ]
     },
     "execution_count": 12,
     "metadata": {},
     "output_type": "execute_result"
    }
   ],
   "source": [
    "float(True)"
   ]
  },
  {
   "cell_type": "code",
   "execution_count": 13,
   "id": "2bb15c19-90fb-4513-8732-cc89603c04c6",
   "metadata": {},
   "outputs": [
    {
     "ename": "TypeError",
     "evalue": "float expected at most 1 argument, got 2",
     "output_type": "error",
     "traceback": [
      "\u001b[1;31m---------------------------------------------------------------------------\u001b[0m",
      "\u001b[1;31mTypeError\u001b[0m                                 Traceback (most recent call last)",
      "Cell \u001b[1;32mIn[13], line 1\u001b[0m\n\u001b[1;32m----> 1\u001b[0m \u001b[38;5;28mfloat\u001b[39m(\u001b[38;5;28;01mTrue\u001b[39;00m ,\u001b[38;5;28;01mFalse\u001b[39;00m)\n",
      "\u001b[1;31mTypeError\u001b[0m: float expected at most 1 argument, got 2"
     ]
    }
   ],
   "source": [
    "float(True ,False)"
   ]
  },
  {
   "cell_type": "code",
   "execution_count": 14,
   "id": "6a4049ac-341d-4717-8f9a-759fedde06e7",
   "metadata": {},
   "outputs": [
    {
     "ename": "TypeError",
     "evalue": "float() argument must be a string or a real number, not 'complex'",
     "output_type": "error",
     "traceback": [
      "\u001b[1;31m---------------------------------------------------------------------------\u001b[0m",
      "\u001b[1;31mTypeError\u001b[0m                                 Traceback (most recent call last)",
      "Cell \u001b[1;32mIn[14], line 1\u001b[0m\n\u001b[1;32m----> 1\u001b[0m \u001b[38;5;28mfloat\u001b[39m(\u001b[38;5;241m1\u001b[39m \u001b[38;5;241m+\u001b[39m \u001b[38;5;241m2\u001b[39mj)\n",
      "\u001b[1;31mTypeError\u001b[0m: float() argument must be a string or a real number, not 'complex'"
     ]
    }
   ],
   "source": [
    "float(1 + 2j)"
   ]
  },
  {
   "cell_type": "code",
   "execution_count": 15,
   "id": "ecf94850-c3c2-409f-9eae-dbc3d7cf769e",
   "metadata": {},
   "outputs": [
    {
     "ename": "ValueError",
     "evalue": "could not convert string to float: 'ten'",
     "output_type": "error",
     "traceback": [
      "\u001b[1;31m---------------------------------------------------------------------------\u001b[0m",
      "\u001b[1;31mValueError\u001b[0m                                Traceback (most recent call last)",
      "Cell \u001b[1;32mIn[15], line 1\u001b[0m\n\u001b[1;32m----> 1\u001b[0m \u001b[38;5;28mfloat\u001b[39m(\u001b[38;5;124m'\u001b[39m\u001b[38;5;124mten\u001b[39m\u001b[38;5;124m'\u001b[39m)\n",
      "\u001b[1;31mValueError\u001b[0m: could not convert string to float: 'ten'"
     ]
    }
   ],
   "source": [
    "float('ten')"
   ]
  },
  {
   "cell_type": "code",
   "execution_count": null,
   "id": "e98543e2-4513-4f4d-ae5d-4848d0184855",
   "metadata": {},
   "outputs": [],
   "source": [
    "# other datatype to boal"
   ]
  },
  {
   "cell_type": "code",
   "execution_count": 16,
   "id": "069b1951-999d-4e41-aa44-88372278c122",
   "metadata": {},
   "outputs": [
    {
     "data": {
      "text/plain": [
       "True"
      ]
     },
     "execution_count": 16,
     "metadata": {},
     "output_type": "execute_result"
    }
   ],
   "source": [
    "bool(10)"
   ]
  },
  {
   "cell_type": "code",
   "execution_count": 17,
   "id": "618274c2-10a1-489e-8c50-afcea5c5257e",
   "metadata": {},
   "outputs": [
    {
     "data": {
      "text/plain": [
       "False"
      ]
     },
     "execution_count": 17,
     "metadata": {},
     "output_type": "execute_result"
    }
   ],
   "source": [
    "bool( ) # non zero parameter (no value assigned)"
   ]
  },
  {
   "cell_type": "code",
   "execution_count": 18,
   "id": "5c9b4b42-d578-4146-b92e-d159ab2f8f31",
   "metadata": {},
   "outputs": [
    {
     "data": {
      "text/plain": [
       "True"
      ]
     },
     "execution_count": 18,
     "metadata": {},
     "output_type": "execute_result"
    }
   ],
   "source": [
    "bool(10.45)"
   ]
  },
  {
   "cell_type": "code",
   "execution_count": 19,
   "id": "d3e4a4c4-f8c9-4184-9581-169db7964bad",
   "metadata": {},
   "outputs": [
    {
     "data": {
      "text/plain": [
       "True"
      ]
     },
     "execution_count": 19,
     "metadata": {},
     "output_type": "execute_result"
    }
   ],
   "source": [
    "bool(10 + 20j)"
   ]
  },
  {
   "cell_type": "code",
   "execution_count": 20,
   "id": "3e560b61-baf6-4d8f-8a94-9cb2715a9046",
   "metadata": {},
   "outputs": [
    {
     "data": {
      "text/plain": [
       "False"
      ]
     },
     "execution_count": 20,
     "metadata": {},
     "output_type": "execute_result"
    }
   ],
   "source": [
    "bool()"
   ]
  },
  {
   "cell_type": "code",
   "execution_count": 21,
   "id": "426e0886-a7b9-4b89-82fc-e6f01ac60385",
   "metadata": {},
   "outputs": [
    {
     "data": {
      "text/plain": [
       "True"
      ]
     },
     "execution_count": 21,
     "metadata": {},
     "output_type": "execute_result"
    }
   ],
   "source": [
    "bool('10')"
   ]
  },
  {
   "cell_type": "code",
   "execution_count": null,
   "id": "0d086fd5-7506-440a-b01b-ed9fa700ae06",
   "metadata": {},
   "outputs": [],
   "source": [
    "# From all datatype to string "
   ]
  },
  {
   "cell_type": "code",
   "execution_count": 22,
   "id": "78297ce2-e5ea-4cff-ae62-09e75bc47bee",
   "metadata": {},
   "outputs": [
    {
     "data": {
      "text/plain": [
       "'10'"
      ]
     },
     "execution_count": 22,
     "metadata": {},
     "output_type": "execute_result"
    }
   ],
   "source": [
    "str(10)"
   ]
  },
  {
   "cell_type": "code",
   "execution_count": 23,
   "id": "0c3f1d07-6fca-493d-8a9d-3d8e68d90b85",
   "metadata": {},
   "outputs": [
    {
     "data": {
      "text/plain": [
       "'10.9'"
      ]
     },
     "execution_count": 23,
     "metadata": {},
     "output_type": "execute_result"
    }
   ],
   "source": [
    "str(10.9)"
   ]
  },
  {
   "cell_type": "raw",
   "id": "c83f1de3-1831-4b49-bba4-8020af4293ee",
   "metadata": {},
   "source": []
  },
  {
   "cell_type": "code",
   "execution_count": 24,
   "id": "7739588a-b841-47a0-b119-42e3db2a028d",
   "metadata": {},
   "outputs": [
    {
     "data": {
      "text/plain": [
       "'True'"
      ]
     },
     "execution_count": 24,
     "metadata": {},
     "output_type": "execute_result"
    }
   ],
   "source": [
    "str(True)"
   ]
  },
  {
   "cell_type": "code",
   "execution_count": 25,
   "id": "e1141b3b-09e8-483d-9ebf-d32796fbf252",
   "metadata": {},
   "outputs": [
    {
     "data": {
      "text/plain": [
       "'False'"
      ]
     },
     "execution_count": 25,
     "metadata": {},
     "output_type": "execute_result"
    }
   ],
   "source": [
    "str(False)"
   ]
  },
  {
   "cell_type": "code",
   "execution_count": 26,
   "id": "062d1e6b-e99f-4d73-a4d6-08e456052435",
   "metadata": {},
   "outputs": [
    {
     "data": {
      "text/plain": [
       "'(1+2j)'"
      ]
     },
     "execution_count": 26,
     "metadata": {},
     "output_type": "execute_result"
    }
   ],
   "source": [
    "str(1 + 2j)"
   ]
  },
  {
   "cell_type": "code",
   "execution_count": null,
   "id": "a8b94e34-2193-49d3-923e-db658e00d7e1",
   "metadata": {},
   "outputs": [],
   "source": [
    "#from all other datatype to complex"
   ]
  },
  {
   "cell_type": "code",
   "execution_count": 27,
   "id": "2fb99247-7145-4872-a95b-d1fa9dd5e0e7",
   "metadata": {},
   "outputs": [
    {
     "data": {
      "text/plain": [
       "(10+0j)"
      ]
     },
     "execution_count": 27,
     "metadata": {},
     "output_type": "execute_result"
    }
   ],
   "source": [
    "complex(10)"
   ]
  },
  {
   "cell_type": "code",
   "execution_count": 28,
   "id": "b5492437-edfd-434e-b336-486b8db7e3ff",
   "metadata": {},
   "outputs": [
    {
     "data": {
      "text/plain": [
       "(10+20j)"
      ]
     },
     "execution_count": 28,
     "metadata": {},
     "output_type": "execute_result"
    }
   ],
   "source": [
    "complex(10 + 20j)"
   ]
  },
  {
   "cell_type": "code",
   "execution_count": 29,
   "id": "24ff63e0-1d6b-46fd-b006-a48c84fa6452",
   "metadata": {},
   "outputs": [
    {
     "ename": "TypeError",
     "evalue": "complex() takes at most 2 arguments (3 given)",
     "output_type": "error",
     "traceback": [
      "\u001b[1;31m---------------------------------------------------------------------------\u001b[0m",
      "\u001b[1;31mTypeError\u001b[0m                                 Traceback (most recent call last)",
      "Cell \u001b[1;32mIn[29], line 1\u001b[0m\n\u001b[1;32m----> 1\u001b[0m \u001b[38;5;28mcomplex\u001b[39m(\u001b[38;5;241m10\u001b[39m,\u001b[38;5;241m20\u001b[39m,\u001b[38;5;241m30\u001b[39m)\n",
      "\u001b[1;31mTypeError\u001b[0m: complex() takes at most 2 arguments (3 given)"
     ]
    }
   ],
   "source": [
    "complex(10,20,30)"
   ]
  },
  {
   "cell_type": "code",
   "execution_count": 30,
   "id": "1b2cb01d-0783-401f-a012-6afff5855084",
   "metadata": {},
   "outputs": [
    {
     "data": {
      "text/plain": [
       "(10.3+20.9j)"
      ]
     },
     "execution_count": 30,
     "metadata": {},
     "output_type": "execute_result"
    }
   ],
   "source": [
    "complex(10.3 + 20.9j)"
   ]
  },
  {
   "cell_type": "code",
   "execution_count": 31,
   "id": "cebdae99-4902-4df8-a329-74a720ced523",
   "metadata": {},
   "outputs": [
    {
     "ename": "ValueError",
     "evalue": "complex() arg is a malformed string",
     "output_type": "error",
     "traceback": [
      "\u001b[1;31m---------------------------------------------------------------------------\u001b[0m",
      "\u001b[1;31mValueError\u001b[0m                                Traceback (most recent call last)",
      "Cell \u001b[1;32mIn[31], line 1\u001b[0m\n\u001b[1;32m----> 1\u001b[0m \u001b[38;5;28mcomplex\u001b[39m(\u001b[38;5;124m'\u001b[39m\u001b[38;5;124mten\u001b[39m\u001b[38;5;124m'\u001b[39m)\n",
      "\u001b[1;31mValueError\u001b[0m: complex() arg is a malformed string"
     ]
    }
   ],
   "source": [
    "complex('ten')"
   ]
  },
  {
   "cell_type": "code",
   "execution_count": 32,
   "id": "22fa5fc7-4303-405e-91f2-148be8914bed",
   "metadata": {},
   "outputs": [
    {
     "data": {
      "text/plain": [
       "(1+0j)"
      ]
     },
     "execution_count": 32,
     "metadata": {},
     "output_type": "execute_result"
    }
   ],
   "source": [
    "complex(True )"
   ]
  },
  {
   "cell_type": "code",
   "execution_count": 33,
   "id": "da3a2ebf-a5a6-4d01-94ac-0ad49bacdd77",
   "metadata": {},
   "outputs": [
    {
     "data": {
      "text/plain": [
       "0j"
      ]
     },
     "execution_count": 33,
     "metadata": {},
     "output_type": "execute_result"
    }
   ],
   "source": [
    "complex(False)"
   ]
  },
  {
   "cell_type": "code",
   "execution_count": 34,
   "id": "f5a00bf2-14e1-49ad-8758-dc8ad27c141a",
   "metadata": {},
   "outputs": [
    {
     "ename": "TypeError",
     "evalue": "complex() can't take second arg if first is a string",
     "output_type": "error",
     "traceback": [
      "\u001b[1;31m---------------------------------------------------------------------------\u001b[0m",
      "\u001b[1;31mTypeError\u001b[0m                                 Traceback (most recent call last)",
      "Cell \u001b[1;32mIn[34], line 1\u001b[0m\n\u001b[1;32m----> 1\u001b[0m \u001b[38;5;28mcomplex\u001b[39m(\u001b[38;5;124m'\u001b[39m\u001b[38;5;124m10\u001b[39m\u001b[38;5;124m'\u001b[39m,\u001b[38;5;124m'\u001b[39m\u001b[38;5;124m20\u001b[39m\u001b[38;5;124m'\u001b[39m)\n",
      "\u001b[1;31mTypeError\u001b[0m: complex() can't take second arg if first is a string"
     ]
    }
   ],
   "source": [
    "complex('10','20')"
   ]
  },
  {
   "cell_type": "code",
   "execution_count": 35,
   "id": "7e170e58-3dec-4704-ac22-f4c002b3ac91",
   "metadata": {},
   "outputs": [
    {
     "ename": "TypeError",
     "evalue": "complex() second arg can't be a string",
     "output_type": "error",
     "traceback": [
      "\u001b[1;31m---------------------------------------------------------------------------\u001b[0m",
      "\u001b[1;31mTypeError\u001b[0m                                 Traceback (most recent call last)",
      "Cell \u001b[1;32mIn[35], line 1\u001b[0m\n\u001b[1;32m----> 1\u001b[0m \u001b[38;5;28mcomplex\u001b[39m(\u001b[38;5;241m10\u001b[39m ,\u001b[38;5;124m'\u001b[39m\u001b[38;5;124m20\u001b[39m\u001b[38;5;124m'\u001b[39m)\n",
      "\u001b[1;31mTypeError\u001b[0m: complex() second arg can't be a string"
     ]
    }
   ],
   "source": [
    "complex(10 ,'20')"
   ]
  },
  {
   "cell_type": "code",
   "execution_count": 36,
   "id": "4bc8461f-4018-43cc-9fc1-408a2dda5c78",
   "metadata": {},
   "outputs": [
    {
     "data": {
      "text/plain": [
       "(1020+0j)"
      ]
     },
     "execution_count": 36,
     "metadata": {},
     "output_type": "execute_result"
    }
   ],
   "source": [
    "complex('10'+ '20')"
   ]
  },
  {
   "cell_type": "markdown",
   "id": "53961d21-d840-4df8-ac3f-bf5a997de188",
   "metadata": {},
   "source": [
    "Pyhton Indexing "
   ]
  },
  {
   "cell_type": "code",
   "execution_count": 38,
   "id": "9e4420da-9c6b-4220-adc7-b58300908b00",
   "metadata": {},
   "outputs": [],
   "source": [
    "a = 20"
   ]
  },
  {
   "cell_type": "code",
   "execution_count": 39,
   "id": "550bfb61-d0c2-4d58-a699-b7112a321234",
   "metadata": {},
   "outputs": [
    {
     "data": {
      "text/plain": [
       "140722292766216"
      ]
     },
     "execution_count": 39,
     "metadata": {},
     "output_type": "execute_result"
    }
   ],
   "source": [
    "id(a)"
   ]
  },
  {
   "cell_type": "code",
   "execution_count": 40,
   "id": "12c8df80-90cf-449c-9b6d-894b5edd81e1",
   "metadata": {},
   "outputs": [],
   "source": [
    "b = 20"
   ]
  },
  {
   "cell_type": "code",
   "execution_count": 41,
   "id": "76495688-8d65-48ea-a695-4d430d9fbb70",
   "metadata": {},
   "outputs": [
    {
     "name": "stdout",
     "output_type": "stream",
     "text": [
      "140722292766216\n",
      "140722292766216\n"
     ]
    }
   ],
   "source": [
    "print(id(a))\n",
    "print(id(b))"
   ]
  },
  {
   "cell_type": "code",
   "execution_count": 42,
   "id": "7e508a29-a94a-4cd4-a96b-29fae25f20c6",
   "metadata": {},
   "outputs": [],
   "source": [
    "c = 30"
   ]
  },
  {
   "cell_type": "code",
   "execution_count": 43,
   "id": "04a23fa0-7b7e-47fc-a4b1-7a5f20d2c2fa",
   "metadata": {},
   "outputs": [
    {
     "name": "stdout",
     "output_type": "stream",
     "text": [
      "140722292766536\n"
     ]
    }
   ],
   "source": [
    "print(id(c))"
   ]
  },
  {
   "cell_type": "code",
   "execution_count": null,
   "id": "777a0fc3-b018-4a9e-9d5d-166579e6a593",
   "metadata": {},
   "outputs": [],
   "source": [
    "# String indexing "
   ]
  },
  {
   "cell_type": "code",
   "execution_count": 44,
   "id": "6891e727-aaa8-4a69-b4ec-88d660b9e81d",
   "metadata": {},
   "outputs": [
    {
     "data": {
      "text/plain": [
       "'a3max'"
      ]
     },
     "execution_count": 44,
     "metadata": {},
     "output_type": "execute_result"
    }
   ],
   "source": [
    "index = 'a3max'\n",
    "index"
   ]
  },
  {
   "cell_type": "code",
   "execution_count": 45,
   "id": "f7346325-706d-4f2b-9d1c-d7ecb9780003",
   "metadata": {},
   "outputs": [
    {
     "data": {
      "text/plain": [
       "'a'"
      ]
     },
     "execution_count": 45,
     "metadata": {},
     "output_type": "execute_result"
    }
   ],
   "source": [
    "index[0]"
   ]
  },
  {
   "cell_type": "code",
   "execution_count": 46,
   "id": "2ed07046-0105-495d-92b7-aaff8701694f",
   "metadata": {},
   "outputs": [
    {
     "data": {
      "text/plain": [
       "'m'"
      ]
     },
     "execution_count": 46,
     "metadata": {},
     "output_type": "execute_result"
    }
   ],
   "source": [
    "index[-3]"
   ]
  },
  {
   "cell_type": "code",
   "execution_count": 47,
   "id": "1f1e823a-7564-4a8d-ac8e-94c77221002a",
   "metadata": {},
   "outputs": [
    {
     "ename": "IndexError",
     "evalue": "string index out of range",
     "output_type": "error",
     "traceback": [
      "\u001b[1;31m---------------------------------------------------------------------------\u001b[0m",
      "\u001b[1;31mIndexError\u001b[0m                                Traceback (most recent call last)",
      "Cell \u001b[1;32mIn[47], line 1\u001b[0m\n\u001b[1;32m----> 1\u001b[0m index[\u001b[38;5;241m10\u001b[39m]\n",
      "\u001b[1;31mIndexError\u001b[0m: string index out of range"
     ]
    }
   ],
   "source": [
    "index[10]"
   ]
  },
  {
   "cell_type": "code",
   "execution_count": 48,
   "id": "648840d6-3d50-4bfc-955d-b7fdee69c03d",
   "metadata": {},
   "outputs": [
    {
     "name": "stdout",
     "output_type": "stream",
     "text": [
      "a\n",
      "3\n",
      "m\n",
      "a\n",
      "x\n"
     ]
    }
   ],
   "source": [
    "for i in index:\n",
    "    print(i)"
   ]
  },
  {
   "cell_type": "markdown",
   "id": "190b7144-f64f-4a0c-9b1b-39ea85092845",
   "metadata": {},
   "source": [
    "slicing concept merge along with indexing "
   ]
  },
  {
   "cell_type": "markdown",
   "id": "5ae262b7-6df8-4ece-b5e9-9fe3370e5fad",
   "metadata": {},
   "source": [
    "2nd September"
   ]
  },
  {
   "cell_type": "code",
   "execution_count": 3,
   "id": "5a074ff7-a4e3-462a-a58c-f60d18cb24fa",
   "metadata": {},
   "outputs": [],
   "source": [
    "index= \"a3max\""
   ]
  },
  {
   "cell_type": "code",
   "execution_count": 4,
   "id": "b4970a96-6958-4bca-ba1e-02b4d77c3a2d",
   "metadata": {},
   "outputs": [
    {
     "data": {
      "text/plain": [
       "'ma'"
      ]
     },
     "execution_count": 4,
     "metadata": {},
     "output_type": "execute_result"
    }
   ],
   "source": [
    "index[2:4]"
   ]
  },
  {
   "cell_type": "code",
   "execution_count": 5,
   "id": "e0b13f4b-4b53-4122-ae3a-561b1011edca",
   "metadata": {},
   "outputs": [
    {
     "data": {
      "text/plain": [
       "'hellopython'"
      ]
     },
     "execution_count": 5,
     "metadata": {},
     "output_type": "execute_result"
    }
   ],
   "source": [
    "ind = \"hellopython\"\n",
    "ind"
   ]
  },
  {
   "cell_type": "code",
   "execution_count": 6,
   "id": "3cb6ed43-df8f-4f79-a0b0-3e37192d19e9",
   "metadata": {},
   "outputs": [
    {
     "data": {
      "text/plain": [
       "'ellopython'"
      ]
     },
     "execution_count": 6,
     "metadata": {},
     "output_type": "execute_result"
    }
   ],
   "source": [
    "ind[1:]"
   ]
  },
  {
   "cell_type": "code",
   "execution_count": 7,
   "id": "c40fa1c9-8cb4-4a31-92fa-644445639f97",
   "metadata": {},
   "outputs": [
    {
     "data": {
      "text/plain": [
       "'hellopyt'"
      ]
     },
     "execution_count": 7,
     "metadata": {},
     "output_type": "execute_result"
    }
   ],
   "source": [
    "ind[: 8]"
   ]
  },
  {
   "cell_type": "code",
   "execution_count": 8,
   "id": "1360f1c4-4c14-4478-ad81-76ffcec6973a",
   "metadata": {},
   "outputs": [
    {
     "data": {
      "text/plain": [
       "'hon'"
      ]
     },
     "execution_count": 8,
     "metadata": {},
     "output_type": "execute_result"
    }
   ],
   "source": [
    "ind[-3: ]"
   ]
  },
  {
   "cell_type": "code",
   "execution_count": 9,
   "id": "7640adf2-b808-45aa-a35c-2022b07773b9",
   "metadata": {},
   "outputs": [
    {
     "data": {
      "text/plain": [
       "'hellopyt'"
      ]
     },
     "execution_count": 9,
     "metadata": {},
     "output_type": "execute_result"
    }
   ],
   "source": [
    "ind[: -3]"
   ]
  },
  {
   "cell_type": "code",
   "execution_count": 10,
   "id": "49cdba71-c7dc-4811-acc6-f12dab96eed1",
   "metadata": {},
   "outputs": [
    {
     "data": {
      "text/plain": [
       "5"
      ]
     },
     "execution_count": 10,
     "metadata": {},
     "output_type": "execute_result"
    }
   ],
   "source": [
    "len(index)"
   ]
  },
  {
   "cell_type": "code",
   "execution_count": 11,
   "id": "96d29f3d-dfc4-4672-bb80-1952b70ae9b5",
   "metadata": {},
   "outputs": [
    {
     "data": {
      "text/plain": [
       "'hello python'"
      ]
     },
     "execution_count": 11,
     "metadata": {},
     "output_type": "execute_result"
    }
   ],
   "source": [
    "str1 = \"hello python\"\n",
    "str1"
   ]
  },
  {
   "cell_type": "code",
   "execution_count": 12,
   "id": "4ceda597-229b-4144-bc72-41d5033d661c",
   "metadata": {},
   "outputs": [
    {
     "data": {
      "text/plain": [
       "''"
      ]
     },
     "execution_count": 12,
     "metadata": {},
     "output_type": "execute_result"
    }
   ],
   "source": [
    "str1[8:5]"
   ]
  },
  {
   "cell_type": "markdown",
   "id": "7a5792c8-7321-4526-8ec5-e08d99f59e17",
   "metadata": {},
   "source": [
    "del(str1)"
   ]
  },
  {
   "cell_type": "code",
   "execution_count": 13,
   "id": "5963d4ec-efd3-46dc-b8a5-67297f387536",
   "metadata": {},
   "outputs": [
    {
     "data": {
      "text/plain": [
       "'a3max'"
      ]
     },
     "execution_count": 13,
     "metadata": {},
     "output_type": "execute_result"
    }
   ],
   "source": [
    "index"
   ]
  },
  {
   "cell_type": "code",
   "execution_count": 14,
   "id": "5adbaebf-89a9-4b8e-b6b3-e7f80232feeb",
   "metadata": {},
   "outputs": [],
   "source": [
    "del(str1)"
   ]
  },
  {
   "cell_type": "code",
   "execution_count": 15,
   "id": "78fa8440-bbe7-4b5a-9797-71217a8d91b6",
   "metadata": {},
   "outputs": [
    {
     "data": {
      "text/plain": [
       "'a3max'"
      ]
     },
     "execution_count": 15,
     "metadata": {},
     "output_type": "execute_result"
    }
   ],
   "source": [
    "index[0:10]"
   ]
  },
  {
   "cell_type": "code",
   "execution_count": 16,
   "id": "af8285c9-5b98-40a3-af6c-7645c3843109",
   "metadata": {},
   "outputs": [
    {
     "data": {
      "text/plain": [
       "'amx'"
      ]
     },
     "execution_count": 16,
     "metadata": {},
     "output_type": "execute_result"
    }
   ],
   "source": [
    "index[0:10:2]"
   ]
  },
  {
   "cell_type": "code",
   "execution_count": 17,
   "id": "9991f568-a973-4267-ae41-3336d9510dfa",
   "metadata": {},
   "outputs": [
    {
     "data": {
      "text/plain": [
       "'ax'"
      ]
     },
     "execution_count": 17,
     "metadata": {},
     "output_type": "execute_result"
    }
   ],
   "source": [
    "index[0:5:4]"
   ]
  },
  {
   "cell_type": "code",
   "execution_count": 18,
   "id": "a3a9fa02-143a-40a9-b1ee-e770836b6e52",
   "metadata": {},
   "outputs": [
    {
     "data": {
      "text/plain": [
       "'helloall'"
      ]
     },
     "execution_count": 18,
     "metadata": {},
     "output_type": "execute_result"
    }
   ],
   "source": [
    "'hello' 'all'"
   ]
  },
  {
   "cell_type": "code",
   "execution_count": 19,
   "id": "410b81fa-251e-4ca8-a0c5-99ab50659497",
   "metadata": {},
   "outputs": [
    {
     "data": {
      "text/plain": [
       "'helloall'"
      ]
     },
     "execution_count": 19,
     "metadata": {},
     "output_type": "execute_result"
    }
   ],
   "source": [
    "'hello'+ 'all'"
   ]
  },
  {
   "cell_type": "code",
   "execution_count": 20,
   "id": "4108c24c-eaaa-4424-91d5-9be5b0995d75",
   "metadata": {},
   "outputs": [
    {
     "ename": "TypeError",
     "evalue": "can't multiply sequence by non-int of type 'str'",
     "output_type": "error",
     "traceback": [
      "\u001b[1;31m---------------------------------------------------------------------------\u001b[0m",
      "\u001b[1;31mTypeError\u001b[0m                                 Traceback (most recent call last)",
      "Cell \u001b[1;32mIn[20], line 1\u001b[0m\n\u001b[1;32m----> 1\u001b[0m \u001b[38;5;124m'\u001b[39m\u001b[38;5;124mhello\u001b[39m\u001b[38;5;124m'\u001b[39m\u001b[38;5;241m*\u001b[39m\u001b[38;5;124m'\u001b[39m\u001b[38;5;124mall\u001b[39m\u001b[38;5;124m'\u001b[39m\n",
      "\u001b[1;31mTypeError\u001b[0m: can't multiply sequence by non-int of type 'str'"
     ]
    }
   ],
   "source": [
    "'hello'*'all'"
   ]
  },
  {
   "cell_type": "markdown",
   "id": "a3dbfb01-e405-4f29-bc9c-d07dc58e0699",
   "metadata": {},
   "source": [
    "print()"
   ]
  },
  {
   "cell_type": "code",
   "execution_count": 21,
   "id": "b52f11db-20de-40f6-993a-613b63b3550d",
   "metadata": {},
   "outputs": [
    {
     "data": {
      "text/plain": [
       "20"
      ]
     },
     "execution_count": 21,
     "metadata": {},
     "output_type": "execute_result"
    }
   ],
   "source": [
    "a=  10 \n",
    "b = 20\n",
    "a\n",
    "b"
   ]
  },
  {
   "cell_type": "code",
   "execution_count": 22,
   "id": "554ea053-06b2-4643-9f23-12995484eb70",
   "metadata": {},
   "outputs": [
    {
     "name": "stdout",
     "output_type": "stream",
     "text": [
      "10\n",
      "28\n",
      "30\n"
     ]
    }
   ],
   "source": [
    "a = 10\n",
    "b = 28\n",
    "c = 30\n",
    "print(a)\n",
    "print(b)\n",
    "print(c)"
   ]
  },
  {
   "cell_type": "code",
   "execution_count": 23,
   "id": "7404f913-2301-46ba-8bfe-ffbc0b4ac356",
   "metadata": {},
   "outputs": [
    {
     "name": "stdout",
     "output_type": "stream",
     "text": [
      "10 28\n",
      "python\n",
      "10 28 python\n"
     ]
    }
   ],
   "source": [
    "print(10,28)\n",
    "print('python')\n",
    "print(10,28,'python')"
   ]
  },
  {
   "cell_type": "code",
   "execution_count": 27,
   "id": "64191705-bdf8-4e69-ad4c-4e4cf90a16c4",
   "metadata": {},
   "outputs": [
    {
     "name": "stdout",
     "output_type": "stream",
     "text": [
      "the addition of  20 and  30 is={}  50\n"
     ]
    }
   ],
   "source": [
    "num1 = 20  \n",
    "num = 30 \n",
    "add = num1 + num\n",
    "print('the addition of ',  num1, 'and ', num, 'is ', add)"
   ]
  },
  {
   "cell_type": "code",
   "execution_count": 29,
   "id": "c8abbd6e-1bb5-40c5-9cdc-277f2ae6262f",
   "metadata": {},
   "outputs": [
    {
     "ename": "SyntaxError",
     "evalue": "invalid syntax. Perhaps you forgot a comma? (3036769269.py, line 1)",
     "output_type": "error",
     "traceback": [
      "\u001b[1;36m  Cell \u001b[1;32mIn[29], line 1\u001b[1;36m\u001b[0m\n\u001b[1;33m    print('the addition of {} ,and {}, is =  {}'.format{num1,num,add})\u001b[0m\n\u001b[1;37m          ^\u001b[0m\n\u001b[1;31mSyntaxError\u001b[0m\u001b[1;31m:\u001b[0m invalid syntax. Perhaps you forgot a comma?\n"
     ]
    }
   ],
   "source": [
    "print('the addition of {} ,and {}, is =  {}'.format{num1,num,add})"
   ]
  },
  {
   "cell_type": "markdown",
   "id": "74abdb9b-9f28-4f8e-beb1-8de873fe912a",
   "metadata": {},
   "source": [
    "Assignment Operator"
   ]
  },
  {
   "cell_type": "code",
   "execution_count": 4,
   "id": "679153d7-3c89-4da6-8887-157065e36be3",
   "metadata": {},
   "outputs": [],
   "source": [
    "a = 10\n",
    "b = 5"
   ]
  },
  {
   "cell_type": "code",
   "execution_count": null,
   "id": "dddd27c2-3d47-4033-973c-4a38d3b5cb4a",
   "metadata": {},
   "outputs": [],
   "source": [
    "print()"
   ]
  },
  {
   "cell_type": "code",
   "execution_count": null,
   "id": "78b47454-c7e0-4318-a550-1eb694bd696a",
   "metadata": {},
   "outputs": [],
   "source": []
  },
  {
   "cell_type": "markdown",
   "id": "d06e1c0c-a2cf-497a-8c49-d5560006a33d",
   "metadata": {},
   "source": [
    "uniary operator"
   ]
  },
  {
   "cell_type": "code",
   "execution_count": 1,
   "id": "303646ed-1ed9-4860-958b-86eb88c97081",
   "metadata": {},
   "outputs": [
    {
     "data": {
      "text/plain": [
       "7"
      ]
     },
     "execution_count": 1,
     "metadata": {},
     "output_type": "execute_result"
    }
   ],
   "source": [
    "n=7\n",
    "n"
   ]
  },
  {
   "cell_type": "code",
   "execution_count": 2,
   "id": "72a0a42c-48fe-44f0-b4c0-864536a3f16d",
   "metadata": {},
   "outputs": [
    {
     "data": {
      "text/plain": [
       "-7"
      ]
     },
     "execution_count": 2,
     "metadata": {},
     "output_type": "execute_result"
    }
   ],
   "source": [
    "m = -(n)\n",
    "m"
   ]
  },
  {
   "cell_type": "code",
   "execution_count": 3,
   "id": "5d660a28-316d-4015-af12-e8ac179acdb6",
   "metadata": {},
   "outputs": [
    {
     "data": {
      "text/plain": [
       "-7"
      ]
     },
     "execution_count": 3,
     "metadata": {},
     "output_type": "execute_result"
    }
   ],
   "source": [
    "-n "
   ]
  },
  {
   "cell_type": "markdown",
   "id": "31203ad6-1f04-4ed4-9590-296a83396944",
   "metadata": {},
   "source": [
    "Relational Operator"
   ]
  },
  {
   "cell_type": "code",
   "execution_count": 5,
   "id": "c85c54bc-2ce4-4a9f-b88e-df8c23b98603",
   "metadata": {},
   "outputs": [],
   "source": [
    "a= 5 \n",
    "b = 6 "
   ]
  },
  {
   "cell_type": "code",
   "execution_count": 6,
   "id": "5e06bb19-fa00-4edf-be13-de38312a0634",
   "metadata": {},
   "outputs": [
    {
     "data": {
      "text/plain": [
       "True"
      ]
     },
     "execution_count": 6,
     "metadata": {},
     "output_type": "execute_result"
    }
   ],
   "source": [
    "a<b"
   ]
  },
  {
   "cell_type": "code",
   "execution_count": 7,
   "id": "bb9e9387-c109-435d-910b-88622920d398",
   "metadata": {},
   "outputs": [
    {
     "data": {
      "text/plain": [
       "False"
      ]
     },
     "execution_count": 7,
     "metadata": {},
     "output_type": "execute_result"
    }
   ],
   "source": [
    "b<a "
   ]
  },
  {
   "cell_type": "code",
   "execution_count": 13,
   "id": "c334fbfd-362e-475f-bd93-7c8dc8965719",
   "metadata": {},
   "outputs": [],
   "source": [
    "a  = b"
   ]
  },
  {
   "cell_type": "code",
   "execution_count": 16,
   "id": "cd076df9-cd9b-415a-a76d-b3eada9074d3",
   "metadata": {},
   "outputs": [
    {
     "data": {
      "text/plain": [
       "True"
      ]
     },
     "execution_count": 16,
     "metadata": {},
     "output_type": "execute_result"
    }
   ],
   "source": [
    "a==b"
   ]
  },
  {
   "cell_type": "code",
   "execution_count": 12,
   "id": "bec7d8ee-4ba8-4b24-aeac-f14a4f28a314",
   "metadata": {},
   "outputs": [],
   "source": [
    "b = 7"
   ]
  },
  {
   "cell_type": "code",
   "execution_count": 11,
   "id": "cd3101cc-3bc2-4d39-80ee-48df526e4abf",
   "metadata": {},
   "outputs": [
    {
     "data": {
      "text/plain": [
       "False"
      ]
     },
     "execution_count": 11,
     "metadata": {},
     "output_type": "execute_result"
    }
   ],
   "source": [
    "a == b"
   ]
  },
  {
   "cell_type": "code",
   "execution_count": 15,
   "id": "ce70b6c3-f737-4d63-aef5-c71bc9cbff08",
   "metadata": {},
   "outputs": [
    {
     "data": {
      "text/plain": [
       "True"
      ]
     },
     "execution_count": 15,
     "metadata": {},
     "output_type": "execute_result"
    }
   ],
   "source": [
    "a >= b"
   ]
  },
  {
   "cell_type": "code",
   "execution_count": 17,
   "id": "d976c6ad-d3fe-46f7-b783-d953dd57f9c5",
   "metadata": {},
   "outputs": [],
   "source": [
    "b= 7"
   ]
  },
  {
   "cell_type": "code",
   "execution_count": 18,
   "id": "24ee569f-7109-424c-ad35-3271d2813faa",
   "metadata": {},
   "outputs": [
    {
     "data": {
      "text/plain": [
       "True"
      ]
     },
     "execution_count": 18,
     "metadata": {},
     "output_type": "execute_result"
    }
   ],
   "source": [
    "a >= b"
   ]
  },
  {
   "cell_type": "code",
   "execution_count": 19,
   "id": "2f383c3f-5011-4d9e-9600-ca8539091799",
   "metadata": {},
   "outputs": [
    {
     "name": "stdout",
     "output_type": "stream",
     "text": [
      "7\n",
      "7\n"
     ]
    }
   ],
   "source": [
    "print(a)\n",
    "print(b)"
   ]
  },
  {
   "cell_type": "code",
   "execution_count": 20,
   "id": "18795c61-0998-4a50-882b-56716fd57cd9",
   "metadata": {},
   "outputs": [],
   "source": [
    "a = 9 "
   ]
  },
  {
   "cell_type": "code",
   "execution_count": 21,
   "id": "11977e0d-5201-4e0e-ab2c-7e446b07ae42",
   "metadata": {},
   "outputs": [
    {
     "data": {
      "text/plain": [
       "False"
      ]
     },
     "execution_count": 21,
     "metadata": {},
     "output_type": "execute_result"
    }
   ],
   "source": [
    "a <= b"
   ]
  },
  {
   "cell_type": "code",
   "execution_count": 22,
   "id": "3ceac92f-f78f-44d3-9cba-9e1945558a9c",
   "metadata": {},
   "outputs": [
    {
     "data": {
      "text/plain": [
       "True"
      ]
     },
     "execution_count": 22,
     "metadata": {},
     "output_type": "execute_result"
    }
   ],
   "source": [
    "a != b"
   ]
  },
  {
   "cell_type": "code",
   "execution_count": 23,
   "id": "a51c83fa-d5a8-44a2-ae1f-c800cb0da811",
   "metadata": {},
   "outputs": [],
   "source": [
    "# logical operator \n",
    "a1 = 5\n",
    "b1 =  4\n"
   ]
  },
  {
   "cell_type": "code",
   "execution_count": 24,
   "id": "395ccaa8-c726-4f9c-94b6-4254a75476d0",
   "metadata": {},
   "outputs": [
    {
     "data": {
      "text/plain": [
       "True"
      ]
     },
     "execution_count": 24,
     "metadata": {},
     "output_type": "execute_result"
    }
   ],
   "source": [
    "a1 < 8 and b1 < 5"
   ]
  },
  {
   "cell_type": "code",
   "execution_count": 25,
   "id": "8a1370a9-0a5f-441f-95d9-f63038373a31",
   "metadata": {},
   "outputs": [
    {
     "data": {
      "text/plain": [
       "False"
      ]
     },
     "execution_count": 25,
     "metadata": {},
     "output_type": "execute_result"
    }
   ],
   "source": [
    "a1 <8 and b1 < 2"
   ]
  },
  {
   "cell_type": "code",
   "execution_count": 26,
   "id": "a6036ccc-12f7-4571-9fc5-9f5f78978870",
   "metadata": {},
   "outputs": [
    {
     "data": {
      "text/plain": [
       "True"
      ]
     },
     "execution_count": 26,
     "metadata": {},
     "output_type": "execute_result"
    }
   ],
   "source": [
    "a1 < 8 or b1 < 2"
   ]
  },
  {
   "cell_type": "code",
   "execution_count": 27,
   "id": "a5e81469-8ac9-4f7b-9b68-faef5b6f119d",
   "metadata": {},
   "outputs": [
    {
     "data": {
      "text/plain": [
       "False"
      ]
     },
     "execution_count": 27,
     "metadata": {},
     "output_type": "execute_result"
    }
   ],
   "source": [
    "x = False \n",
    "x"
   ]
  },
  {
   "cell_type": "code",
   "execution_count": 28,
   "id": "db023b62-a73c-4c02-a575-907945443a51",
   "metadata": {},
   "outputs": [],
   "source": [
    "c1 = 9"
   ]
  },
  {
   "cell_type": "code",
   "execution_count": 29,
   "id": "27f54e32-1b55-4f33-8764-627324d0a660",
   "metadata": {},
   "outputs": [
    {
     "name": "stdout",
     "output_type": "stream",
     "text": [
      "5\n",
      "4\n",
      "9\n"
     ]
    }
   ],
   "source": [
    "print(a1)\n",
    "print(b1)\n",
    "print(c1)"
   ]
  },
  {
   "cell_type": "code",
   "execution_count": 30,
   "id": "803d963c-bb96-4939-9fb7-e261bdc3eb4b",
   "metadata": {},
   "outputs": [
    {
     "data": {
      "text/plain": [
       "True"
      ]
     },
     "execution_count": 30,
     "metadata": {},
     "output_type": "execute_result"
    }
   ],
   "source": [
    "a1 < 8 or b1 < 2 and c1 > 4"
   ]
  },
  {
   "cell_type": "code",
   "execution_count": 31,
   "id": "76bcf362-b1dc-410c-a150-9ba6cc31ef2f",
   "metadata": {},
   "outputs": [],
   "source": [
    "x = False "
   ]
  },
  {
   "cell_type": "code",
   "execution_count": 32,
   "id": "723efdc3-e4ad-4b47-9076-6924317e8935",
   "metadata": {},
   "outputs": [
    {
     "data": {
      "text/plain": [
       "True"
      ]
     },
     "execution_count": 32,
     "metadata": {},
     "output_type": "execute_result"
    }
   ],
   "source": [
    "not x"
   ]
  },
  {
   "cell_type": "code",
   "execution_count": 33,
   "id": "4fa24ccb-fe5c-4b74-bf75-4d1de1ee18ca",
   "metadata": {},
   "outputs": [],
   "source": [
    "# binary number system"
   ]
  },
  {
   "cell_type": "code",
   "execution_count": 34,
   "id": "b7a9e68c-e161-475f-b1d5-40e0162401b9",
   "metadata": {},
   "outputs": [
    {
     "data": {
      "text/plain": [
       "'0b11001'"
      ]
     },
     "execution_count": 34,
     "metadata": {},
     "output_type": "execute_result"
    }
   ],
   "source": [
    "bin(25)"
   ]
  },
  {
   "cell_type": "code",
   "execution_count": 36,
   "id": "7b3a6b8f-2703-4d06-afb1-fb8ab94751b7",
   "metadata": {},
   "outputs": [
    {
     "data": {
      "text/plain": [
       "25"
      ]
     },
     "execution_count": 36,
     "metadata": {},
     "output_type": "execute_result"
    }
   ],
   "source": [
    "int(0b11001)"
   ]
  },
  {
   "cell_type": "code",
   "execution_count": 37,
   "id": "1a1785aa-0d54-41d7-bf8f-40cccb61f0fa",
   "metadata": {},
   "outputs": [
    {
     "data": {
      "text/plain": [
       "'0b111'"
      ]
     },
     "execution_count": 37,
     "metadata": {},
     "output_type": "execute_result"
    }
   ],
   "source": [
    "bin(7)"
   ]
  },
  {
   "cell_type": "code",
   "execution_count": 38,
   "id": "6dd01b58-a757-4899-b255-513ccd56c26e",
   "metadata": {},
   "outputs": [
    {
     "data": {
      "text/plain": [
       "'0o37'"
      ]
     },
     "execution_count": 38,
     "metadata": {},
     "output_type": "execute_result"
    }
   ],
   "source": [
    "oct(31)"
   ]
  },
  {
   "cell_type": "code",
   "execution_count": 39,
   "id": "368a8605-0bba-495c-b770-93d4a6a4ebe0",
   "metadata": {},
   "outputs": [
    {
     "data": {
      "text/plain": [
       "200"
      ]
     },
     "execution_count": 39,
     "metadata": {},
     "output_type": "execute_result"
    }
   ],
   "source": [
    "int(0o310)"
   ]
  },
  {
   "cell_type": "code",
   "execution_count": 40,
   "id": "b993e1a1-e940-44fa-be1c-4f366c659c9d",
   "metadata": {},
   "outputs": [
    {
     "data": {
      "text/plain": [
       "'0o31'"
      ]
     },
     "execution_count": 40,
     "metadata": {},
     "output_type": "execute_result"
    }
   ],
   "source": [
    "oct(25)"
   ]
  },
  {
   "cell_type": "code",
   "execution_count": 41,
   "id": "d6b7c3b2-410b-446d-9176-ec346653e930",
   "metadata": {},
   "outputs": [
    {
     "data": {
      "text/plain": [
       "'0x1'"
      ]
     },
     "execution_count": 41,
     "metadata": {},
     "output_type": "execute_result"
    }
   ],
   "source": [
    "hex(1)"
   ]
  },
  {
   "cell_type": "code",
   "execution_count": 42,
   "id": "f0f6e3f8-b6da-4fb8-a8ef-0ae2df51972a",
   "metadata": {},
   "outputs": [
    {
     "data": {
      "text/plain": [
       "'0x9'"
      ]
     },
     "execution_count": 42,
     "metadata": {},
     "output_type": "execute_result"
    }
   ],
   "source": [
    "hex(9)"
   ]
  },
  {
   "cell_type": "code",
   "execution_count": 43,
   "id": "ea6aa544-485f-4df3-8f9b-c437402bd491",
   "metadata": {},
   "outputs": [
    {
     "data": {
      "text/plain": [
       "'0x19'"
      ]
     },
     "execution_count": 43,
     "metadata": {},
     "output_type": "execute_result"
    }
   ],
   "source": [
    "hex(25)"
   ]
  },
  {
   "cell_type": "code",
   "execution_count": 44,
   "id": "d3132678-968d-4630-a05a-a0ba94316398",
   "metadata": {},
   "outputs": [
    {
     "data": {
      "text/plain": [
       "10"
      ]
     },
     "execution_count": 44,
     "metadata": {},
     "output_type": "execute_result"
    }
   ],
   "source": [
    "0xa"
   ]
  },
  {
   "cell_type": "code",
   "execution_count": 45,
   "id": "7c68fd78-e27a-4809-bf17-6f0392bd7485",
   "metadata": {},
   "outputs": [
    {
     "data": {
      "text/plain": [
       "'0x19'"
      ]
     },
     "execution_count": 45,
     "metadata": {},
     "output_type": "execute_result"
    }
   ],
   "source": [
    "hex(25)"
   ]
  },
  {
   "cell_type": "code",
   "execution_count": 46,
   "id": "4a3f85a9-49cb-49b6-ae4d-042a88fec29e",
   "metadata": {},
   "outputs": [
    {
     "data": {
      "text/plain": [
       "15"
      ]
     },
     "execution_count": 46,
     "metadata": {},
     "output_type": "execute_result"
    }
   ],
   "source": [
    "0xf"
   ]
  },
  {
   "cell_type": "code",
   "execution_count": null,
   "id": "b48e87e4-ea6c-458c-b2de-e64e5239df46",
   "metadata": {},
   "outputs": [],
   "source": []
  },
  {
   "cell_type": "code",
   "execution_count": null,
   "id": "cd9ac734-8931-4020-bc82-735bb4eb2345",
   "metadata": {},
   "outputs": [],
   "source": []
  },
  {
   "cell_type": "code",
   "execution_count": null,
   "id": "997903cd-b031-4da0-b701-bfdb1bfaea93",
   "metadata": {},
   "outputs": [],
   "source": []
  },
  {
   "cell_type": "code",
   "execution_count": null,
   "id": "2597dee6-eda5-47b6-9990-48e6495b7d4f",
   "metadata": {},
   "outputs": [],
   "source": []
  },
  {
   "cell_type": "code",
   "execution_count": null,
   "id": "f981fa6b-42d5-470c-b90e-467f36ba1a30",
   "metadata": {},
   "outputs": [],
   "source": []
  },
  {
   "cell_type": "code",
   "execution_count": null,
   "id": "0db8f9c7-addd-4e63-ab4c-d27f0d75133f",
   "metadata": {},
   "outputs": [],
   "source": []
  },
  {
   "cell_type": "code",
   "execution_count": null,
   "id": "c6d7247a-148a-4bfa-a802-5d056f8d701a",
   "metadata": {},
   "outputs": [],
   "source": []
  }
 ],
 "metadata": {
  "kernelspec": {
   "display_name": "Python 3 (ipykernel)",
   "language": "python",
   "name": "python3"
  },
  "language_info": {
   "codemirror_mode": {
    "name": "ipython",
    "version": 3
   },
   "file_extension": ".py",
   "mimetype": "text/x-python",
   "name": "python",
   "nbconvert_exporter": "python",
   "pygments_lexer": "ipython3",
   "version": "3.13.5"
  }
 },
 "nbformat": 4,
 "nbformat_minor": 5
}
