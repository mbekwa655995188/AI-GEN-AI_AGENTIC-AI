{
 "cells": [
  {
   "cell_type": "code",
   "execution_count": 2,
   "id": "76ca4257-a600-400d-8840-4b882c8ae740",
   "metadata": {},
   "outputs": [
    {
     "name": "stdout",
     "output_type": "stream",
     "text": [
      "i am a teacher with ten years of experience teaching in an international school. \n",
      "I need to be ready for class through many things \n",
      "I need to work with some of my colleagues.\n"
     ]
    }
   ],
   "source": [
    "multiprint_string = '''i am a teacher with ten years of experience teaching in an international school. \n",
    "I need to be ready for class through many things \n",
    "I need to work with some of my colleagues.'''\n",
    "print(multiprint_string)"
   ]
  },
  {
   "cell_type": "code",
   "execution_count": 6,
   "id": "ca8a6bea-b90f-42b6-a1ee-c185f06aaf7c",
   "metadata": {},
   "outputs": [
    {
     "name": "stdout",
     "output_type": "stream",
     "text": [
      "Mbekwa Lemuel Nguh\n"
     ]
    }
   ],
   "source": [
    "first_name = 'Mbekwa '\n",
    "last_name = 'Lemuel Nguh'\n",
    "full_name = first_name +  last_name\n",
    "print(full_name)"
   ]
  },
  {
   "cell_type": "code",
   "execution_count": 12,
   "id": "ccd3076c-24ce-4168-968a-5167729b0f46",
   "metadata": {},
   "outputs": [
    {
     "name": "stdout",
     "output_type": "stream",
     "text": [
      "7\n",
      "11\n",
      "False\n",
      "18\n"
     ]
    }
   ],
   "source": [
    "print(len(first_name))\n",
    "print(len(last_name))\n",
    "print(len(first_name) > len(last_name))\n",
    "print(len(full_name))"
   ]
  },
  {
   "cell_type": "markdown",
   "id": "a4fb33c4-075f-4749-a312-220db4fb54c4",
   "metadata": {},
   "source": [
    "Unpacking characters"
   ]
  },
  {
   "cell_type": "code",
   "execution_count": 14,
   "id": "764e8acd-78e2-436c-86f2-b9c213235ecb",
   "metadata": {},
   "outputs": [
    {
     "name": "stdout",
     "output_type": "stream",
     "text": [
      "P\n",
      "y\n",
      "t\n",
      "h\n",
      "o\n",
      "n\n"
     ]
    }
   ],
   "source": [
    "language = 'Python'\n",
    "a,b,c,d,e,f = language\n",
    "print(a)\n",
    "print(b)\n",
    "print(c)\n",
    "print(d)\n",
    "print(e)\n",
    "print(f)"
   ]
  },
  {
   "cell_type": "markdown",
   "id": "b16caee8-4fae-40dd-b485-c739e56c08de",
   "metadata": {},
   "source": [
    "Accessing Characters in String by index"
   ]
  },
  {
   "cell_type": "code",
   "execution_count": 15,
   "id": "5c037c03-029c-4330-a5b7-b58edbe6377c",
   "metadata": {},
   "outputs": [
    {
     "name": "stdout",
     "output_type": "stream",
     "text": [
      "P\n"
     ]
    }
   ],
   "source": [
    "first_letter = language[0]\n",
    "print(first_letter)"
   ]
  },
  {
   "cell_type": "code",
   "execution_count": 16,
   "id": "7029edfc-e9c4-4a9a-af93-063a245c6259",
   "metadata": {},
   "outputs": [
    {
     "name": "stdout",
     "output_type": "stream",
     "text": [
      "y\n"
     ]
    }
   ],
   "source": [
    "second_letter = language[1]\n",
    "print(second_letter)"
   ]
  },
  {
   "cell_type": "code",
   "execution_count": 17,
   "id": "474be4ab-f892-4735-9a93-453705cde12b",
   "metadata": {},
   "outputs": [],
   "source": [
    "# if you want to print from the last element we use negaitve index"
   ]
  },
  {
   "cell_type": "code",
   "execution_count": 18,
   "id": "79b38a83-443a-4401-8140-f695180df77a",
   "metadata": {},
   "outputs": [
    {
     "name": "stdout",
     "output_type": "stream",
     "text": [
      "n\n"
     ]
    }
   ],
   "source": [
    "last_element = language[-1]\n",
    "print(last_element)"
   ]
  },
  {
   "cell_type": "markdown",
   "id": "419321ef-6429-4432-a07d-cd9d16e60e63",
   "metadata": {},
   "source": [
    "# Slicing"
   ]
  },
  {
   "cell_type": "code",
   "execution_count": 19,
   "id": "8784d270-655f-4d7f-a421-d8b1c41872f9",
   "metadata": {},
   "outputs": [
    {
     "name": "stdout",
     "output_type": "stream",
     "text": [
      "Pyt\n"
     ]
    }
   ],
   "source": [
    "language = 'Python' \n",
    "first_three = language[0:3]\n",
    "print(first_three)"
   ]
  },
  {
   "cell_type": "code",
   "execution_count": 20,
   "id": "c38698c3-62d2-4123-aaf6-ef06ca1d91f1",
   "metadata": {},
   "outputs": [
    {
     "name": "stdout",
     "output_type": "stream",
     "text": [
      "hon\n"
     ]
    }
   ],
   "source": [
    "last_three = language[3:6]\n",
    "print(last_three)"
   ]
  },
  {
   "cell_type": "markdown",
   "id": "956aba35-8f83-4831-8464-524282569011",
   "metadata": {},
   "source": [
    "# Skipping Characters while splitting python string "
   ]
  },
  {
   "cell_type": "code",
   "execution_count": 21,
   "id": "0517eb58-2c0e-4b2e-ba46-94f51339ce7d",
   "metadata": {},
   "outputs": [
    {
     "name": "stdout",
     "output_type": "stream",
     "text": [
      "Pto\n"
     ]
    }
   ],
   "source": [
    "language = 'Python'\n",
    "pto = language[0:6:2]\n",
    "print(pto)"
   ]
  },
  {
   "cell_type": "markdown",
   "id": "8387ccd1-10c6-465d-a9f7-9a969ed263ec",
   "metadata": {},
   "source": [
    "# Escape Sequence"
   ]
  },
  {
   "cell_type": "code",
   "execution_count": 23,
   "id": "f6d0bd95-f743-49da-afaa-f8022f0d9c21",
   "metadata": {},
   "outputs": [
    {
     "name": "stdout",
     "output_type": "stream",
     "text": [
      "I hope everyone is enjoying the python challenge.\n",
      "Do you?\n",
      "Days\tTopics\tExercises\n",
      "Day 1\t3\t5\n",
      "Day 3\t3\t5\n",
      "Day 4\t3\t5\n",
      "This is a backslash symbol(\\)\n",
      "in every programming language it start with \"Hello,World!\"\n"
     ]
    }
   ],
   "source": [
    "print('I hope everyone is enjoying the python challenge.\\nDo you?')\n",
    "print('Days\\tTopics\\tExercises')\n",
    "print('Day 1\\t3\\t5')\n",
    "print('Day 3\\t3\\t5')\n",
    "print('Day 4\\t3\\t5')\n",
    "print('This is a backslash symbol(\\\\)')\n",
    "print('in every programming language it start with \\\"Hello,World!\\\"')\n",
    "\n"
   ]
  },
  {
   "cell_type": "markdown",
   "id": "c3304eb6-6f11-4f0a-9c35-81648a077198",
   "metadata": {},
   "source": [
    "# String Methods"
   ]
  },
  {
   "cell_type": "code",
   "execution_count": 24,
   "id": "09888cef-b92e-46d5-83f0-7e4944e405b1",
   "metadata": {},
   "outputs": [],
   "source": [
    "# Captialised(): Convert the first character of the string to capital letter "
   ]
  },
  {
   "cell_type": "code",
   "execution_count": 25,
   "id": "cc590f7e-8e45-4eb5-8393-62cc53dcf7cc",
   "metadata": {},
   "outputs": [
    {
     "name": "stdout",
     "output_type": "stream",
     "text": [
      "Thirty days of python\n"
     ]
    }
   ],
   "source": [
    "challenge = 'thirty days of python'\n",
    "print(challenge.capitalize())"
   ]
  },
  {
   "cell_type": "markdown",
   "id": "09dc13ce-71f8-46ae-8c43-3a9704032943",
   "metadata": {},
   "source": [
    "# Count()"
   ]
  },
  {
   "cell_type": "code",
   "execution_count": 26,
   "id": "2f5ef9b1-dea1-4cd3-933c-cc60234bcfba",
   "metadata": {},
   "outputs": [
    {
     "name": "stdout",
     "output_type": "stream",
     "text": [
      "3\n"
     ]
    }
   ],
   "source": [
    "print(challenge.count('y'))"
   ]
  },
  {
   "cell_type": "code",
   "execution_count": 27,
   "id": "8f2332bc-ed3b-4134-9bcc-0adfca7eb61a",
   "metadata": {},
   "outputs": [
    {
     "name": "stdout",
     "output_type": "stream",
     "text": [
      "1\n"
     ]
    }
   ],
   "source": [
    "print(challenge.count('y',7,14))"
   ]
  },
  {
   "cell_type": "code",
   "execution_count": 28,
   "id": "895446ac-178d-434b-9752-04fbcb8bdbf9",
   "metadata": {},
   "outputs": [
    {
     "name": "stdout",
     "output_type": "stream",
     "text": [
      "2\n"
     ]
    }
   ],
   "source": [
    "print(challenge.count('th'))"
   ]
  },
  {
   "cell_type": "markdown",
   "id": "39cae7ef-132f-44e7-a386-4e1203e4bc9b",
   "metadata": {},
   "source": [
    "# endwith(): check if a string ends with a special ending"
   ]
  },
  {
   "cell_type": "code",
   "execution_count": 29,
   "id": "1b887918-83e0-4761-a779-f1698bd4aef9",
   "metadata": {},
   "outputs": [
    {
     "name": "stdout",
     "output_type": "stream",
     "text": [
      "True\n"
     ]
    }
   ],
   "source": [
    "print(challenge.endswith('on'))"
   ]
  },
  {
   "cell_type": "code",
   "execution_count": 30,
   "id": "0fd984c2-b44f-442d-8cff-8f8ae5988c93",
   "metadata": {},
   "outputs": [
    {
     "name": "stdout",
     "output_type": "stream",
     "text": [
      "False\n"
     ]
    }
   ],
   "source": [
    "print(challenge.endswith('tion'))"
   ]
  },
  {
   "cell_type": "markdown",
   "id": "0d72469d-1ace-4502-8614-8d6d01dec818",
   "metadata": {},
   "source": [
    "# expandtabs()"
   ]
  },
  {
   "cell_type": "code",
   "execution_count": 35,
   "id": "648b614e-6e80-478e-b6fe-69d44671e024",
   "metadata": {},
   "outputs": [
    {
     "name": "stdout",
     "output_type": "stream",
     "text": [
      "thirty days of python\n",
      "thirty days of python\n"
     ]
    }
   ],
   "source": [
    "print(challenge.expandtabs())\n",
    "print(challenge.expandtabs(20))"
   ]
  },
  {
   "cell_type": "markdown",
   "id": "38168de8-3fd1-417c-a9a1-e657e7ceb57c",
   "metadata": {},
   "source": [
    "# Find(): Replace tab character with spaces , default tab size is 18 is 8. it takes tab size argument"
   ]
  },
  {
   "cell_type": "code",
   "execution_count": 36,
   "id": "f5fbdbb4-83ec-4065-adfd-ed9993893664",
   "metadata": {},
   "outputs": [
    {
     "name": "stdout",
     "output_type": "stream",
     "text": [
      "5\n"
     ]
    }
   ],
   "source": [
    "print(challenge.find('y'))"
   ]
  },
  {
   "cell_type": "code",
   "execution_count": 37,
   "id": "89afeff2-3a9e-4da2-af66-527bcbb52038",
   "metadata": {},
   "outputs": [
    {
     "name": "stdout",
     "output_type": "stream",
     "text": [
      "0\n"
     ]
    }
   ],
   "source": [
    "print(challenge.find('th'))"
   ]
  },
  {
   "cell_type": "markdown",
   "id": "82b2cc56-60fb-4c55-af50-6b11f5947723",
   "metadata": {},
   "source": [
    "# format() "
   ]
  },
  {
   "cell_type": "code",
   "execution_count": 40,
   "id": "13e99239-f3d5-47c1-b4f9-a83656310785",
   "metadata": {},
   "outputs": [
    {
     "name": "stdout",
     "output_type": "stream",
     "text": [
      "I am a Barika lemuel. I live in teacher.\n"
     ]
    }
   ],
   "source": [
    "first_name = 'Barika'\n",
    "last_name = ' lemuel'\n",
    "job = 'teacher'\n",
    "country = 'Cameroon'\n",
    "sentence = 'I am a {}{}. I live in {}.'.format(first_name, last_name,job,country)\n",
    "print(sentence)"
   ]
  },
  {
   "cell_type": "code",
   "execution_count": 42,
   "id": "6e56d198-0a53-442e-93c5-bfefae048512",
   "metadata": {},
   "outputs": [
    {
     "name": "stdout",
     "output_type": "stream",
     "text": [
      "the area of circle with 10 is 314.0\n"
     ]
    }
   ],
   "source": [
    "radius = 10\n",
    "pi = 3.14\n",
    "area = pi * radius ** 2\n",
    "result = 'the area of circle with {} is {}'.format(str(radius),str(area))\n",
    "print(result)"
   ]
  },
  {
   "cell_type": "markdown",
   "id": "eedab797-c628-4cbe-9148-d7fa759297fd",
   "metadata": {},
   "source": [
    "# index(): return the index of a substring"
   ]
  },
  {
   "cell_type": "code",
   "execution_count": 3,
   "id": "e797876d-dfb2-44ed-b049-ca1a57fd3ef0",
   "metadata": {},
   "outputs": [
    {
     "name": "stdout",
     "output_type": "stream",
     "text": [
      "5\n",
      "0\n"
     ]
    }
   ],
   "source": [
    "challenge = 'thirty days of python'\n",
    "print(challenge.find('y'))\n",
    "print(challenge.find('th'))"
   ]
  },
  {
   "cell_type": "markdown",
   "id": "715b305e-6cb8-408c-8151-a6c1bb2b40cf",
   "metadata": {},
   "source": [
    "# isalnum() : check alphanumeric character"
   ]
  },
  {
   "cell_type": "code",
   "execution_count": 5,
   "id": "40997f2c-ce43-4287-8584-b8158ffe537d",
   "metadata": {},
   "outputs": [
    {
     "name": "stdout",
     "output_type": "stream",
     "text": [
      "True\n"
     ]
    }
   ],
   "source": [
    "challenge ='ThirtyDayspython'\n",
    "print(challenge.isalnum())"
   ]
  },
  {
   "cell_type": "code",
   "execution_count": 6,
   "id": "f27eb8e4-5da3-4c46-a6bc-597ab49c0479",
   "metadata": {},
   "outputs": [
    {
     "name": "stdout",
     "output_type": "stream",
     "text": [
      "True\n"
     ]
    }
   ],
   "source": [
    "challenge = '30DaysPython'\n",
    "print(challenge.isalnum())"
   ]
  },
  {
   "cell_type": "code",
   "execution_count": 7,
   "id": "205fd1d8-02ad-4040-a047-0df1695329ae",
   "metadata": {},
   "outputs": [
    {
     "name": "stdout",
     "output_type": "stream",
     "text": [
      "False\n"
     ]
    }
   ],
   "source": [
    "challenge = 'thirty days of python 2019'\n",
    "print(challenge.isalnum())"
   ]
  },
  {
   "cell_type": "markdown",
   "id": "469a6856-6adb-4108-aaf8-41c8b8516050",
   "metadata": {},
   "source": [
    "# isalpha(): Checks if all characters are alphabets"
   ]
  },
  {
   "cell_type": "code",
   "execution_count": 12,
   "id": "d0d78a81-c0cb-4440-b079-663881303499",
   "metadata": {},
   "outputs": [
    {
     "name": "stdout",
     "output_type": "stream",
     "text": [
      "False\n"
     ]
    }
   ],
   "source": [
    "challenge ='thirty days of python'\n",
    "print(challenge.isalpha())"
   ]
  },
  {
   "cell_type": "code",
   "execution_count": 13,
   "id": "6be0ccc0-5b3a-49e8-a812-c3cfc24f983c",
   "metadata": {},
   "outputs": [
    {
     "name": "stdout",
     "output_type": "stream",
     "text": [
      "False\n"
     ]
    }
   ],
   "source": [
    "num = '123'\n",
    "print(num.isalpha())"
   ]
  },
  {
   "cell_type": "markdown",
   "id": "e966e1a0-7f6a-46c5-b68c-62c2aa805130",
   "metadata": {},
   "source": [
    "# is Decimal(): Checks decimal characters "
   ]
  },
  {
   "cell_type": "code",
   "execution_count": 15,
   "id": "aa5a656d-9607-4371-bae3-6720f8e18f22",
   "metadata": {},
   "outputs": [
    {
     "name": "stdout",
     "output_type": "stream",
     "text": [
      "5\n"
     ]
    }
   ],
   "source": [
    "challenge = 'thirty days of python'\n",
    "print(challenge.find('y'))"
   ]
  },
  {
   "cell_type": "code",
   "execution_count": 16,
   "id": "5dcbad5d-36fd-4b51-bd66-a8b096ed7700",
   "metadata": {},
   "outputs": [
    {
     "name": "stdout",
     "output_type": "stream",
     "text": [
      "0\n"
     ]
    }
   ],
   "source": [
    "print(challenge.find('th'))"
   ]
  },
  {
   "cell_type": "markdown",
   "id": "c6e0e5d9-c0cd-40a2-8f40-6f08c35de48f",
   "metadata": {},
   "source": [
    "# isdigit(): Checks Digits Characters"
   ]
  },
  {
   "cell_type": "code",
   "execution_count": 17,
   "id": "ebac485d-537d-480c-ae9c-54eab3a75c80",
   "metadata": {},
   "outputs": [
    {
     "name": "stdout",
     "output_type": "stream",
     "text": [
      "False\n"
     ]
    }
   ],
   "source": [
    "challenge = 'thirty days of python'\n",
    "print(challenge.isdigit())"
   ]
  },
  {
   "cell_type": "code",
   "execution_count": 21,
   "id": "c40f4c8b-cc57-442c-aa18-c80235292951",
   "metadata": {},
   "outputs": [
    {
     "name": "stdout",
     "output_type": "stream",
     "text": [
      "True\n"
     ]
    }
   ],
   "source": [
    "challenge = '30' \n",
    "print(challenge.isdigit())"
   ]
  },
  {
   "cell_type": "markdown",
   "id": "e5282114-cadc-4bee-9093-b0381fa64fb5",
   "metadata": {},
   "source": [
    "# is decimal(); Checks for valid identifier means it check if a string is a valid variable name"
   ]
  },
  {
   "cell_type": "code",
   "execution_count": 22,
   "id": "5e005c53-ceb7-4b3b-b7d5-d2414d57b36c",
   "metadata": {},
   "outputs": [
    {
     "name": "stdout",
     "output_type": "stream",
     "text": [
      "True\n"
     ]
    }
   ],
   "source": [
    "num = '10'\n",
    "print(num.isdecimal())"
   ]
  },
  {
   "cell_type": "code",
   "execution_count": 23,
   "id": "502d1a5d-10a0-4f8c-ab48-797683dbede2",
   "metadata": {},
   "outputs": [
    {
     "name": "stdout",
     "output_type": "stream",
     "text": [
      "False\n"
     ]
    }
   ],
   "source": [
    "num = '10.5'\n",
    "print(num.isdecimal())"
   ]
  },
  {
   "cell_type": "markdown",
   "id": "f0dbc4e2-cc76-4732-9200-6aec770a1825",
   "metadata": {},
   "source": [
    "# isidentifier() : Checks for identifier means it check if a stribng is a valid variable name"
   ]
  },
  {
   "cell_type": "code",
   "execution_count": 24,
   "id": "0cc03d08-d674-4af9-baf7-ea5d53686719",
   "metadata": {},
   "outputs": [
    {
     "name": "stdout",
     "output_type": "stream",
     "text": [
      "False\n"
     ]
    }
   ],
   "source": [
    "challenge = '30DaysOfPython'\n",
    "print(challenge.isidentifier())"
   ]
  },
  {
   "cell_type": "code",
   "execution_count": 26,
   "id": "46930746-efd7-46c4-87d0-a4dd9a7be35b",
   "metadata": {},
   "outputs": [
    {
     "name": "stdout",
     "output_type": "stream",
     "text": [
      "True\n"
     ]
    }
   ],
   "source": [
    "challenge = 'thirty_days_of_python'\n",
    "print(challenge.isidentifier())"
   ]
  },
  {
   "cell_type": "markdown",
   "id": "52a3d2d7-617a-4b04-8188-a554adc0f53f",
   "metadata": {},
   "source": [
    "# islower(): Checks if all alphabets in a string are lowercase"
   ]
  },
  {
   "cell_type": "code",
   "execution_count": 27,
   "id": "8f175e87-a974-4aa2-a10f-8fc06166d02c",
   "metadata": {},
   "outputs": [
    {
     "name": "stdout",
     "output_type": "stream",
     "text": [
      "True\n"
     ]
    }
   ],
   "source": [
    "challenge = 'thirty days of python'\n",
    "print(challenge.islower())"
   ]
  },
  {
   "cell_type": "code",
   "execution_count": 28,
   "id": "9869dc8f-0062-4c81-974e-38e01d2bfa4e",
   "metadata": {},
   "outputs": [
    {
     "name": "stdout",
     "output_type": "stream",
     "text": [
      "False\n"
     ]
    }
   ],
   "source": [
    "challenge = \"THIRTY DAYS OF PYTHON\"\n",
    "print(challenge.islower())"
   ]
  },
  {
   "cell_type": "code",
   "execution_count": null,
   "id": "bbe732e1-5687-4640-a39a-84ba476dc2a7",
   "metadata": {},
   "outputs": [],
   "source": []
  },
  {
   "cell_type": "markdown",
   "id": "bb799ab0-b355-4ef5-af26-d29f7546ccce",
   "metadata": {},
   "source": [
    "# isupper() : Checks if all characters are uppercase"
   ]
  },
  {
   "cell_type": "code",
   "execution_count": 29,
   "id": "9db4e8c3-4f8d-4c8c-8987-d695c5827374",
   "metadata": {},
   "outputs": [
    {
     "name": "stdout",
     "output_type": "stream",
     "text": [
      "True\n"
     ]
    }
   ],
   "source": [
    "print(challenge.isupper())"
   ]
  },
  {
   "cell_type": "markdown",
   "id": "2c176cac-b36a-416a-9e6c-37dce15d324d",
   "metadata": {},
   "source": [
    "# isnumeric(): Checks if numeric characters"
   ]
  },
  {
   "cell_type": "code",
   "execution_count": 31,
   "id": "eb55eaf6-e2d1-4cc0-84fc-5d7b0bf7da8a",
   "metadata": {},
   "outputs": [
    {
     "name": "stdout",
     "output_type": "stream",
     "text": [
      "True\n"
     ]
    }
   ],
   "source": [
    "num = '10'\n",
    "print(num.isnumeric())"
   ]
  },
  {
   "cell_type": "code",
   "execution_count": 32,
   "id": "572923bd-91bd-442e-9fd2-539a83ed5d11",
   "metadata": {},
   "outputs": [
    {
     "name": "stdout",
     "output_type": "stream",
     "text": [
      "False\n"
     ]
    }
   ],
   "source": [
    "print('ten'.isnumeric())"
   ]
  },
  {
   "cell_type": "markdown",
   "id": "735340fd-3f7c-4af7-812d-c8e54d89b839",
   "metadata": {},
   "source": [
    "# join(): Returns a concatenated string "
   ]
  },
  {
   "cell_type": "code",
   "execution_count": 33,
   "id": "fda23f1b-c053-42bb-ae93-91fd33887714",
   "metadata": {},
   "outputs": [
    {
     "name": "stdout",
     "output_type": "stream",
     "text": [
      "HTML#, CSS#, Javasccript#, React\n"
     ]
    }
   ],
   "source": [
    "web_tech = ['HTML', 'CSS', 'Javasccript', 'React']\n",
    "result = '#, '.join(web_tech) \n",
    "print(result)"
   ]
  },
  {
   "cell_type": "markdown",
   "id": "0880bd3d-3855-4bf2-9120-f9e61c4204fb",
   "metadata": {},
   "source": [
    "# strip() : Remove both leading and trailing characters "
   ]
  },
  {
   "cell_type": "code",
   "execution_count": 40,
   "id": "942e18ea-832b-45db-9f8a-6ce367704562",
   "metadata": {},
   "outputs": [
    {
     "name": "stdout",
     "output_type": "stream",
     "text": [
      " thrity days if python \n"
     ]
    }
   ],
   "source": [
    "challenge = ' thrity days if python '\n",
    "print(challenge.strip('y'))"
   ]
  },
  {
   "cell_type": "markdown",
   "id": "8c4bd705-5a20-44ca-ab70-7900e6f7b859",
   "metadata": {},
   "source": [
    "# replace(): Replaces substring inside"
   ]
  },
  {
   "cell_type": "code",
   "execution_count": 41,
   "id": "9b26752d-cb8a-4a3e-9214-7c70ce359ccc",
   "metadata": {},
   "outputs": [
    {
     "name": "stdout",
     "output_type": "stream",
     "text": [
      "thirty days of coding\n"
     ]
    }
   ],
   "source": [
    "challenge = 'thirty days of python'\n",
    "print(challenge.replace('python','coding'))"
   ]
  },
  {
   "cell_type": "code",
   "execution_count": 42,
   "id": "296bdca5-1fe2-408b-bd54-98048929bad7",
   "metadata": {},
   "outputs": [
    {
     "name": "stdout",
     "output_type": "stream",
     "text": [
      "['thirty', 'days', 'of', 'python']\n"
     ]
    }
   ],
   "source": [
    "print(challenge.split())"
   ]
  },
  {
   "cell_type": "markdown",
   "id": "dc30f88f-959a-4939-964a-3d6158983b42",
   "metadata": {},
   "source": [
    "# tilte(): Returns a Title Cased String "
   ]
  },
  {
   "cell_type": "code",
   "execution_count": 43,
   "id": "17814810-fdaf-4bf3-8a72-56cca4077653",
   "metadata": {},
   "outputs": [
    {
     "name": "stdout",
     "output_type": "stream",
     "text": [
      "Thiry Day S Of Python \n"
     ]
    }
   ],
   "source": [
    "challenge = 'thiry day s of python '\n",
    "print(challenge.title())"
   ]
  },
  {
   "cell_type": "markdown",
   "id": "02809b05-f47d-4aac-9396-1d4bf3124e90",
   "metadata": {},
   "source": [
    "# swapcase(): Checks if string Start with the specified string "
   ]
  },
  {
   "cell_type": "code",
   "execution_count": 44,
   "id": "f4db63a4-aec5-4958-965c-f35b2451d61a",
   "metadata": {},
   "outputs": [
    {
     "name": "stdout",
     "output_type": "stream",
     "text": [
      "THIRTY DAYS OF PYTHON \n"
     ]
    }
   ],
   "source": [
    "challenge = 'thirty days of python '\n",
    "print(challenge.swapcase())"
   ]
  },
  {
   "cell_type": "markdown",
   "id": "e67a57ec-dd1a-4b55-b8b8-574b4d85274e",
   "metadata": {},
   "source": [
    "# startswith(): checks if String Starts with Specified String"
   ]
  },
  {
   "cell_type": "code",
   "execution_count": null,
   "id": "3e8a086c-a2d5-4a2d-911a-1e1ca42f95fc",
   "metadata": {},
   "outputs": [],
   "source": [
    "challenge = 'thrity days of python' "
   ]
  },
  {
   "cell_type": "code",
   "execution_count": null,
   "id": "91f36c6c-8ce0-48bf-9c15-fcaf003e52c4",
   "metadata": {},
   "outputs": [],
   "source": []
  },
  {
   "cell_type": "code",
   "execution_count": null,
   "id": "3a54ed52-b205-424d-911f-51dee8792206",
   "metadata": {},
   "outputs": [],
   "source": []
  },
  {
   "cell_type": "code",
   "execution_count": null,
   "id": "b0d7283a-222e-4b2d-8367-84effcd9d296",
   "metadata": {},
   "outputs": [],
   "source": []
  }
 ],
 "metadata": {
  "kernelspec": {
   "display_name": "Python 3 (ipykernel)",
   "language": "python",
   "name": "python3"
  },
  "language_info": {
   "codemirror_mode": {
    "name": "ipython",
    "version": 3
   },
   "file_extension": ".py",
   "mimetype": "text/x-python",
   "name": "python",
   "nbconvert_exporter": "python",
   "pygments_lexer": "ipython3",
   "version": "3.13.5"
  }
 },
 "nbformat": 4,
 "nbformat_minor": 5
}
