{
 "cells": [
  {
   "cell_type": "markdown",
   "id": "ae31b169-ac5d-43e3-aa1b-b170dd11360c",
   "metadata": {},
   "source": [
    "List"
   ]
  },
  {
   "cell_type": "code",
   "execution_count": 1,
   "id": "04f1b2ae-2426-43ea-bd7a-3ba3e899df38",
   "metadata": {},
   "outputs": [
    {
     "data": {
      "text/plain": [
       "[]"
      ]
     },
     "execution_count": 1,
     "metadata": {},
     "output_type": "execute_result"
    }
   ],
   "source": [
    "l = []\n",
    "l"
   ]
  },
  {
   "cell_type": "code",
   "execution_count": 2,
   "id": "66a44073-45f5-4df3-b1c2-aa56519087a3",
   "metadata": {},
   "outputs": [
    {
     "data": {
      "text/plain": [
       "list"
      ]
     },
     "execution_count": 2,
     "metadata": {},
     "output_type": "execute_result"
    }
   ],
   "source": [
    "type(l)"
   ]
  },
  {
   "cell_type": "code",
   "execution_count": 3,
   "id": "6e88bb17-1f5f-409d-a514-a9ed2e16fe9f",
   "metadata": {},
   "outputs": [],
   "source": [
    "# when you call function you have to used ."
   ]
  },
  {
   "cell_type": "code",
   "execution_count": 6,
   "id": "6247f8df-668a-4bac-86e8-7fd2a6ff4f8b",
   "metadata": {},
   "outputs": [
    {
     "data": {
      "text/plain": [
       "0"
      ]
     },
     "execution_count": 6,
     "metadata": {},
     "output_type": "execute_result"
    }
   ],
   "source": [
    "len(l)"
   ]
  },
  {
   "cell_type": "code",
   "execution_count": null,
   "id": "2a162017-ddd1-461b-b07f-d9934ffee30d",
   "metadata": {},
   "outputs": [],
   "source": [
    "l."
   ]
  },
  {
   "cell_type": "code",
   "execution_count": 7,
   "id": "66e24e93-8b81-453d-9e39-63ff9fd8d016",
   "metadata": {},
   "outputs": [],
   "source": [
    "l.append(10)\n"
   ]
  },
  {
   "cell_type": "code",
   "execution_count": 8,
   "id": "b6f2e891-91a1-4108-bb88-db3d50ad0952",
   "metadata": {},
   "outputs": [
    {
     "data": {
      "text/plain": [
       "[10]"
      ]
     },
     "execution_count": 8,
     "metadata": {},
     "output_type": "execute_result"
    }
   ],
   "source": [
    "l"
   ]
  },
  {
   "cell_type": "code",
   "execution_count": 9,
   "id": "26c2704c-69b1-4fc5-8659-34bd85546078",
   "metadata": {},
   "outputs": [
    {
     "ename": "TypeError",
     "evalue": "list.append() takes exactly one argument (2 given)",
     "output_type": "error",
     "traceback": [
      "\u001b[1;31m---------------------------------------------------------------------------\u001b[0m",
      "\u001b[1;31mTypeError\u001b[0m                                 Traceback (most recent call last)",
      "Cell \u001b[1;32mIn[9], line 1\u001b[0m\n\u001b[1;32m----> 1\u001b[0m l\u001b[38;5;241m.\u001b[39mappend(\u001b[38;5;241m10\u001b[39m , \u001b[38;5;241m20\u001b[39m)\n",
      "\u001b[1;31mTypeError\u001b[0m: list.append() takes exactly one argument (2 given)"
     ]
    }
   ],
   "source": [
    "l.append(10 , 20)"
   ]
  },
  {
   "cell_type": "code",
   "execution_count": 10,
   "id": "47fef7b5-c148-4998-a2f9-f32d92e9a01f",
   "metadata": {},
   "outputs": [],
   "source": [
    "l.append(20)\n",
    "l.append(30)\n",
    "l.append(40)\n",
    "l.append(50)"
   ]
  },
  {
   "cell_type": "code",
   "execution_count": 11,
   "id": "aa7d89f7-4f2c-4604-bb28-6ae4595b2a64",
   "metadata": {},
   "outputs": [
    {
     "data": {
      "text/plain": [
       "[10, 20, 30, 40, 50]"
      ]
     },
     "execution_count": 11,
     "metadata": {},
     "output_type": "execute_result"
    }
   ],
   "source": [
    "l"
   ]
  },
  {
   "cell_type": "code",
   "execution_count": 12,
   "id": "a020ed2d-c36d-4600-8132-d00664320761",
   "metadata": {},
   "outputs": [
    {
     "data": {
      "text/plain": [
       "5"
      ]
     },
     "execution_count": 12,
     "metadata": {},
     "output_type": "execute_result"
    }
   ],
   "source": [
    "len(l)"
   ]
  },
  {
   "cell_type": "code",
   "execution_count": 13,
   "id": "a375bbe2-5e66-4505-8179-cc5c8b70a066",
   "metadata": {},
   "outputs": [
    {
     "data": {
      "text/plain": [
       "[10, 20, 30, 40, 50]"
      ]
     },
     "execution_count": 13,
     "metadata": {},
     "output_type": "execute_result"
    }
   ],
   "source": [
    "l[:]"
   ]
  },
  {
   "cell_type": "code",
   "execution_count": 14,
   "id": "89831006-68bd-42cd-b8c5-87a54f22c200",
   "metadata": {},
   "outputs": [
    {
     "data": {
      "text/plain": [
       "[20, 30, 40, 50]"
      ]
     },
     "execution_count": 14,
     "metadata": {},
     "output_type": "execute_result"
    }
   ],
   "source": [
    "l[1:5]"
   ]
  },
  {
   "cell_type": "code",
   "execution_count": null,
   "id": "9b2f7c91-cac8-45d6-b9f2-494b538fd701",
   "metadata": {},
   "outputs": [],
   "source": []
  },
  {
   "cell_type": "code",
   "execution_count": null,
   "id": "23d889dd-dc31-45c2-9933-e0a95a0db1ff",
   "metadata": {},
   "outputs": [],
   "source": []
  },
  {
   "cell_type": "code",
   "execution_count": null,
   "id": "3c7f0da2-53b7-461e-a471-2030b3a6979d",
   "metadata": {},
   "outputs": [],
   "source": []
  }
 ],
 "metadata": {
  "kernelspec": {
   "display_name": "Python 3 (ipykernel)",
   "language": "python",
   "name": "python3"
  },
  "language_info": {
   "codemirror_mode": {
    "name": "ipython",
    "version": 3
   },
   "file_extension": ".py",
   "mimetype": "text/x-python",
   "name": "python",
   "nbconvert_exporter": "python",
   "pygments_lexer": "ipython3",
   "version": "3.13.5"
  }
 },
 "nbformat": 4,
 "nbformat_minor": 5
}
