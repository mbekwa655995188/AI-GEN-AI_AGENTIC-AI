{
 "cells": [
  {
   "cell_type": "markdown",
   "id": "ae31b169-ac5d-43e3-aa1b-b170dd11360c",
   "metadata": {},
   "source": [
    "List"
   ]
  },
  {
   "cell_type": "code",
   "execution_count": null,
   "id": "5d282a86-ee94-4756-a326-3fe314603e98",
   "metadata": {},
   "outputs": [],
   "source": []
  },
  {
   "cell_type": "code",
   "execution_count": null,
   "id": "1f46453c-d9c6-4501-b5ff-2c24fab62e63",
   "metadata": {},
   "outputs": [],
   "source": []
  },
  {
   "cell_type": "code",
   "execution_count": 1,
   "id": "04f1b2ae-2426-43ea-bd7a-3ba3e899df38",
   "metadata": {},
   "outputs": [
    {
     "data": {
      "text/plain": [
       "[]"
      ]
     },
     "execution_count": 1,
     "metadata": {},
     "output_type": "execute_result"
    }
   ],
   "source": [
    "l = []\n",
    "l"
   ]
  },
  {
   "cell_type": "code",
   "execution_count": 2,
   "id": "66a44073-45f5-4df3-b1c2-aa56519087a3",
   "metadata": {},
   "outputs": [
    {
     "data": {
      "text/plain": [
       "list"
      ]
     },
     "execution_count": 2,
     "metadata": {},
     "output_type": "execute_result"
    }
   ],
   "source": [
    "type(l)"
   ]
  },
  {
   "cell_type": "code",
   "execution_count": 3,
   "id": "6e88bb17-1f5f-409d-a514-a9ed2e16fe9f",
   "metadata": {},
   "outputs": [],
   "source": [
    "# when you call function you have to used ."
   ]
  },
  {
   "cell_type": "code",
   "execution_count": 6,
   "id": "6247f8df-668a-4bac-86e8-7fd2a6ff4f8b",
   "metadata": {},
   "outputs": [
    {
     "data": {
      "text/plain": [
       "0"
      ]
     },
     "execution_count": 6,
     "metadata": {},
     "output_type": "execute_result"
    }
   ],
   "source": [
    "len(l)"
   ]
  },
  {
   "cell_type": "code",
   "execution_count": null,
   "id": "2a162017-ddd1-461b-b07f-d9934ffee30d",
   "metadata": {},
   "outputs": [],
   "source": [
    "l."
   ]
  },
  {
   "cell_type": "code",
   "execution_count": 7,
   "id": "66e24e93-8b81-453d-9e39-63ff9fd8d016",
   "metadata": {},
   "outputs": [],
   "source": [
    "l.append(10)\n"
   ]
  },
  {
   "cell_type": "code",
   "execution_count": 8,
   "id": "b6f2e891-91a1-4108-bb88-db3d50ad0952",
   "metadata": {},
   "outputs": [
    {
     "data": {
      "text/plain": [
       "[10]"
      ]
     },
     "execution_count": 8,
     "metadata": {},
     "output_type": "execute_result"
    }
   ],
   "source": [
    "l"
   ]
  },
  {
   "cell_type": "code",
   "execution_count": 9,
   "id": "26c2704c-69b1-4fc5-8659-34bd85546078",
   "metadata": {},
   "outputs": [
    {
     "ename": "TypeError",
     "evalue": "list.append() takes exactly one argument (2 given)",
     "output_type": "error",
     "traceback": [
      "\u001b[1;31m---------------------------------------------------------------------------\u001b[0m",
      "\u001b[1;31mTypeError\u001b[0m                                 Traceback (most recent call last)",
      "Cell \u001b[1;32mIn[9], line 1\u001b[0m\n\u001b[1;32m----> 1\u001b[0m l\u001b[38;5;241m.\u001b[39mappend(\u001b[38;5;241m10\u001b[39m , \u001b[38;5;241m20\u001b[39m)\n",
      "\u001b[1;31mTypeError\u001b[0m: list.append() takes exactly one argument (2 given)"
     ]
    }
   ],
   "source": [
    "l.append(10 , 20)"
   ]
  },
  {
   "cell_type": "code",
   "execution_count": 10,
   "id": "47fef7b5-c148-4998-a2f9-f32d92e9a01f",
   "metadata": {},
   "outputs": [],
   "source": [
    "l.append(20)\n",
    "l.append(30)\n",
    "l.append(40)\n",
    "l.append(50)"
   ]
  },
  {
   "cell_type": "code",
   "execution_count": 11,
   "id": "aa7d89f7-4f2c-4604-bb28-6ae4595b2a64",
   "metadata": {},
   "outputs": [
    {
     "data": {
      "text/plain": [
       "[10, 20, 30, 40, 50]"
      ]
     },
     "execution_count": 11,
     "metadata": {},
     "output_type": "execute_result"
    }
   ],
   "source": [
    "l"
   ]
  },
  {
   "cell_type": "code",
   "execution_count": 12,
   "id": "a020ed2d-c36d-4600-8132-d00664320761",
   "metadata": {},
   "outputs": [
    {
     "data": {
      "text/plain": [
       "5"
      ]
     },
     "execution_count": 12,
     "metadata": {},
     "output_type": "execute_result"
    }
   ],
   "source": [
    "len(l)"
   ]
  },
  {
   "cell_type": "code",
   "execution_count": 13,
   "id": "a375bbe2-5e66-4505-8179-cc5c8b70a066",
   "metadata": {},
   "outputs": [
    {
     "data": {
      "text/plain": [
       "[10, 20, 30, 40, 50]"
      ]
     },
     "execution_count": 13,
     "metadata": {},
     "output_type": "execute_result"
    }
   ],
   "source": [
    "l[:]"
   ]
  },
  {
   "cell_type": "code",
   "execution_count": 14,
   "id": "89831006-68bd-42cd-b8c5-87a54f22c200",
   "metadata": {},
   "outputs": [
    {
     "data": {
      "text/plain": [
       "[20, 30, 40, 50]"
      ]
     },
     "execution_count": 14,
     "metadata": {},
     "output_type": "execute_result"
    }
   ],
   "source": [
    "l[1:5]"
   ]
  },
  {
   "cell_type": "code",
   "execution_count": 2,
   "id": "173c7b28-9602-4e39-8743-de3ca2cc0485",
   "metadata": {},
   "outputs": [
    {
     "data": {
      "text/plain": [
       "[10, 'a3max', 2.3, True, (1+2j)]"
      ]
     },
     "execution_count": 2,
     "metadata": {},
     "output_type": "execute_result"
    }
   ],
   "source": [
    "l1 = [10,'a3max',2.3, True,1 + 2j]\n",
    "l1"
   ]
  },
  {
   "cell_type": "code",
   "execution_count": 5,
   "id": "58187ca5-c8ed-4f15-af5f-6f36ffd22e7f",
   "metadata": {},
   "outputs": [
    {
     "data": {
      "text/plain": [
       "[10, 'a3max', 2.3, True, (1+2j)]"
      ]
     },
     "execution_count": 5,
     "metadata": {},
     "output_type": "execute_result"
    }
   ],
   "source": [
    "l2 = l1.copy()\n",
    "l2"
   ]
  },
  {
   "cell_type": "code",
   "execution_count": 6,
   "id": "24e071bf-aa07-409b-929a-f784b31b436a",
   "metadata": {},
   "outputs": [
    {
     "data": {
      "text/plain": [
       "[10, 'a3max', 2.3, True, (1+2j)]"
      ]
     },
     "execution_count": 6,
     "metadata": {},
     "output_type": "execute_result"
    }
   ],
   "source": [
    "l2"
   ]
  },
  {
   "cell_type": "code",
   "execution_count": 9,
   "id": "dc0c48f7-1756-461f-bdc9-bed9c9dcae83",
   "metadata": {},
   "outputs": [
    {
     "data": {
      "text/plain": [
       "[10, 'a3max', 2.3, True, (1+2j), 10, 30]"
      ]
     },
     "execution_count": 9,
     "metadata": {},
     "output_type": "execute_result"
    }
   ],
   "source": [
    "l2.append(30)\n",
    "l2"
   ]
  },
  {
   "cell_type": "code",
   "execution_count": 10,
   "id": "a0544fa4-25f3-408a-8605-5ac1b509f711",
   "metadata": {},
   "outputs": [
    {
     "data": {
      "text/plain": [
       "2510604027264"
      ]
     },
     "execution_count": 10,
     "metadata": {},
     "output_type": "execute_result"
    }
   ],
   "source": [
    "id(l2)"
   ]
  },
  {
   "cell_type": "code",
   "execution_count": 12,
   "id": "661d3572-1014-41d6-ba2f-a45d90a338c4",
   "metadata": {},
   "outputs": [],
   "source": [
    "l2.clear()"
   ]
  },
  {
   "cell_type": "code",
   "execution_count": 14,
   "id": "f0f4fdce-9196-42f4-818f-ec25b27a2e03",
   "metadata": {},
   "outputs": [
    {
     "data": {
      "text/plain": [
       "1"
      ]
     },
     "execution_count": 14,
     "metadata": {},
     "output_type": "execute_result"
    }
   ],
   "source": [
    "l1.count(10)"
   ]
  },
  {
   "cell_type": "code",
   "execution_count": 16,
   "id": "4b250bc4-6285-4562-9b63-fcb7603730a3",
   "metadata": {},
   "outputs": [
    {
     "data": {
      "text/plain": [
       "2"
      ]
     },
     "execution_count": 16,
     "metadata": {},
     "output_type": "execute_result"
    }
   ],
   "source": [
    "l1.index(2.3)"
   ]
  },
  {
   "cell_type": "code",
   "execution_count": 18,
   "id": "23d889dd-dc31-45c2-9933-e0a95a0db1ff",
   "metadata": {},
   "outputs": [],
   "source": [
    "l1.append(10)\n"
   ]
  },
  {
   "cell_type": "code",
   "execution_count": 19,
   "id": "7dc88255-d6a2-4034-9818-ed1727870090",
   "metadata": {},
   "outputs": [
    {
     "data": {
      "text/plain": [
       "[10, 'a3max', 2.3, True, (1+2j), 10, 10]"
      ]
     },
     "execution_count": 19,
     "metadata": {},
     "output_type": "execute_result"
    }
   ],
   "source": [
    "l1"
   ]
  },
  {
   "cell_type": "code",
   "execution_count": 20,
   "id": "3b13b669-ec5c-4e9d-94ef-302d6c9ac0ba",
   "metadata": {},
   "outputs": [
    {
     "data": {
      "text/plain": [
       "0"
      ]
     },
     "execution_count": 20,
     "metadata": {},
     "output_type": "execute_result"
    }
   ],
   "source": [
    "l1.index(10)"
   ]
  },
  {
   "cell_type": "code",
   "execution_count": 21,
   "id": "681660e9-f01a-4ae4-a744-57d3ae0cc613",
   "metadata": {},
   "outputs": [
    {
     "data": {
      "text/plain": [
       "[]"
      ]
     },
     "execution_count": 21,
     "metadata": {},
     "output_type": "execute_result"
    }
   ],
   "source": [
    "l2 = []\n",
    "l2"
   ]
  },
  {
   "cell_type": "code",
   "execution_count": 22,
   "id": "b19fa20f-f6fe-4256-8e13-fc36d200af46",
   "metadata": {},
   "outputs": [
    {
     "name": "stdout",
     "output_type": "stream",
     "text": [
      "[10, 'a3max', 2.3, True, (1+2j), 10, 10]\n",
      "[]\n"
     ]
    }
   ],
   "source": [
    "print(l1)\n",
    "print(l2)"
   ]
  },
  {
   "cell_type": "code",
   "execution_count": 23,
   "id": "d7c83e68-bbcc-4d69-8e9c-16b483d6d333",
   "metadata": {},
   "outputs": [],
   "source": [
    "a = [1,2,3]\n",
    "b = [4,5,6]"
   ]
  },
  {
   "cell_type": "code",
   "execution_count": 25,
   "id": "d1a89343-a0a5-4229-a098-1debee3a1a5b",
   "metadata": {},
   "outputs": [],
   "source": [
    "c = a.extend(b)"
   ]
  },
  {
   "cell_type": "code",
   "execution_count": 26,
   "id": "34d3d5fa-c113-445e-8468-3da527065f2b",
   "metadata": {},
   "outputs": [],
   "source": [
    "c"
   ]
  },
  {
   "cell_type": "code",
   "execution_count": 27,
   "id": "fd0e5018-ffe3-4c61-a70a-86f9a3560374",
   "metadata": {},
   "outputs": [],
   "source": [
    "l1.insert(0,45)"
   ]
  },
  {
   "cell_type": "code",
   "execution_count": 28,
   "id": "ccc04f88-5865-453d-b51e-05864186feae",
   "metadata": {},
   "outputs": [
    {
     "data": {
      "text/plain": [
       "[45, 10, 'a3max', 2.3, True, (1+2j), 10, 10]"
      ]
     },
     "execution_count": 28,
     "metadata": {},
     "output_type": "execute_result"
    }
   ],
   "source": [
    "l1"
   ]
  },
  {
   "cell_type": "code",
   "execution_count": 30,
   "id": "5379442c-cc7a-4bdd-8934-a6465f0066cb",
   "metadata": {},
   "outputs": [
    {
     "data": {
      "text/plain": [
       "10"
      ]
     },
     "execution_count": 30,
     "metadata": {},
     "output_type": "execute_result"
    }
   ],
   "source": [
    "l1.pop(7)"
   ]
  },
  {
   "cell_type": "code",
   "execution_count": 31,
   "id": "7adcf5a4-2d7f-4fb6-90bc-6baa93ec5e24",
   "metadata": {},
   "outputs": [
    {
     "data": {
      "text/plain": [
       "[45, 10, 'a3max', 2.3, True, (1+2j), 10]"
      ]
     },
     "execution_count": 31,
     "metadata": {},
     "output_type": "execute_result"
    }
   ],
   "source": [
    "l1"
   ]
  },
  {
   "cell_type": "code",
   "execution_count": 33,
   "id": "cd840e80-764f-4ae2-af3d-f204958a495d",
   "metadata": {},
   "outputs": [
    {
     "data": {
      "text/plain": [
       "10"
      ]
     },
     "execution_count": 33,
     "metadata": {},
     "output_type": "execute_result"
    }
   ],
   "source": [
    "l1.pop(6)"
   ]
  },
  {
   "cell_type": "code",
   "execution_count": 34,
   "id": "0bac1f4d-01ab-4fe4-9b07-cef4913efafb",
   "metadata": {},
   "outputs": [
    {
     "data": {
      "text/plain": [
       "[45, 10, 'a3max', 2.3, True, (1+2j)]"
      ]
     },
     "execution_count": 34,
     "metadata": {},
     "output_type": "execute_result"
    }
   ],
   "source": [
    "l1"
   ]
  },
  {
   "cell_type": "code",
   "execution_count": 36,
   "id": "e5d3f020-5426-4550-84ea-f46386b54bb2",
   "metadata": {},
   "outputs": [
    {
     "data": {
      "text/plain": [
       "[45, 10, 'a3max', 2.3, True]"
      ]
     },
     "execution_count": 36,
     "metadata": {},
     "output_type": "execute_result"
    }
   ],
   "source": [
    "l1.remove(1 + 2j)\n",
    "l1"
   ]
  },
  {
   "cell_type": "raw",
   "id": "baf4e7a3-b105-4fed-abb7-fc9f333cf4a5",
   "metadata": {},
   "source": [
    "# "
   ]
  },
  {
   "cell_type": "code",
   "execution_count": 37,
   "id": "9eef35ec-e515-4e93-a217-d8148db57e0f",
   "metadata": {},
   "outputs": [],
   "source": [
    "l1.reverse()"
   ]
  },
  {
   "cell_type": "code",
   "execution_count": 38,
   "id": "874d315a-9519-4899-9e1d-cb404b81b341",
   "metadata": {},
   "outputs": [
    {
     "data": {
      "text/plain": [
       "[True, 2.3, 'a3max', 10, 45]"
      ]
     },
     "execution_count": 38,
     "metadata": {},
     "output_type": "execute_result"
    }
   ],
   "source": [
    "l1"
   ]
  },
  {
   "cell_type": "code",
   "execution_count": 39,
   "id": "6829c39b-dd4c-47f2-9f9d-5aa51bea2725",
   "metadata": {},
   "outputs": [],
   "source": [
    "l3 = [30 ,5,2,50,100, 'a3max']"
   ]
  },
  {
   "cell_type": "code",
   "execution_count": 46,
   "id": "e9e35563-5577-4786-9fd1-32008339ce8c",
   "metadata": {},
   "outputs": [
    {
     "ename": "ValueError",
     "evalue": "'a3max' is not in list",
     "output_type": "error",
     "traceback": [
      "\u001b[1;31m---------------------------------------------------------------------------\u001b[0m",
      "\u001b[1;31mValueError\u001b[0m                                Traceback (most recent call last)",
      "Cell \u001b[1;32mIn[46], line 1\u001b[0m\n\u001b[1;32m----> 1\u001b[0m l3\u001b[38;5;241m.\u001b[39mindex(\u001b[38;5;124m'\u001b[39m\u001b[38;5;124ma3max\u001b[39m\u001b[38;5;124m'\u001b[39m)\n",
      "\u001b[1;31mValueError\u001b[0m: 'a3max' is not in list"
     ]
    }
   ],
   "source": [
    "l3.index('a3max')"
   ]
  },
  {
   "cell_type": "code",
   "execution_count": null,
   "id": "291e3715-4009-4d2d-bf75-2a58c6d25434",
   "metadata": {},
   "outputs": [],
   "source": []
  },
  {
   "cell_type": "code",
   "execution_count": null,
   "id": "9cb48e14-b33d-4c7c-8ab3-ef0f3684f7a3",
   "metadata": {},
   "outputs": [],
   "source": []
  },
  {
   "cell_type": "code",
   "execution_count": 40,
   "id": "4d6370a0-fc43-4312-9c80-2470d7082b95",
   "metadata": {},
   "outputs": [],
   "source": [
    "l3.sort()"
   ]
  },
  {
   "cell_type": "code",
   "execution_count": 41,
   "id": "41ec5e88-4927-430e-ae37-ae1619eeed0f",
   "metadata": {},
   "outputs": [
    {
     "data": {
      "text/plain": [
       "[2, 5, 30, 50, 100]"
      ]
     },
     "execution_count": 41,
     "metadata": {},
     "output_type": "execute_result"
    }
   ],
   "source": [
    "l3"
   ]
  },
  {
   "cell_type": "code",
   "execution_count": 43,
   "id": "fd518a07-0028-48f8-8bde-f7ea2172ac6f",
   "metadata": {},
   "outputs": [],
   "source": [
    "l3.sort(reverse=True )"
   ]
  },
  {
   "cell_type": "code",
   "execution_count": 44,
   "id": "735d379f-9bf5-40fd-ba67-cadd9d751a67",
   "metadata": {},
   "outputs": [
    {
     "data": {
      "text/plain": [
       "[100, 50, 30, 5, 2]"
      ]
     },
     "execution_count": 44,
     "metadata": {},
     "output_type": "execute_result"
    }
   ],
   "source": [
    "l3"
   ]
  },
  {
   "cell_type": "markdown",
   "id": "628660d9-a7df-47bf-bf69-0f64dd2fbc96",
   "metadata": {},
   "source": [
    "List is completed"
   ]
  },
  {
   "cell_type": "code",
   "execution_count": 8,
   "id": "93608a16-d0ed-446d-99fe-bb645bcb5187",
   "metadata": {},
   "outputs": [],
   "source": [
    "# tuple  9/09/2025"
   ]
  },
  {
   "cell_type": "code",
   "execution_count": 2,
   "id": "3bbb33c1-9101-4bc1-a738-a693c06a0c54",
   "metadata": {},
   "outputs": [
    {
     "data": {
      "text/plain": [
       "()"
      ]
     },
     "execution_count": 2,
     "metadata": {},
     "output_type": "execute_result"
    }
   ],
   "source": [
    "t = ()\n",
    "t"
   ]
  },
  {
   "cell_type": "code",
   "execution_count": 3,
   "id": "02ec878f-86a6-4917-b433-290c740f42a1",
   "metadata": {},
   "outputs": [
    {
     "data": {
      "text/plain": [
       "tuple"
      ]
     },
     "execution_count": 3,
     "metadata": {},
     "output_type": "execute_result"
    }
   ],
   "source": [
    "type(t)"
   ]
  },
  {
   "cell_type": "code",
   "execution_count": 4,
   "id": "d0ddea2c-95ff-4a48-bee3-174a48c788cd",
   "metadata": {},
   "outputs": [
    {
     "data": {
      "text/plain": [
       "(10, 20, 30)"
      ]
     },
     "execution_count": 4,
     "metadata": {},
     "output_type": "execute_result"
    }
   ],
   "source": [
    "t1 = (10,20,30)\n",
    "t1"
   ]
  },
  {
   "cell_type": "code",
   "execution_count": 6,
   "id": "8b94b21d-2146-4ff4-bd80-e8e6d744bc22",
   "metadata": {},
   "outputs": [
    {
     "ename": "TypeError",
     "evalue": "tuple.count() takes exactly one argument (0 given)",
     "output_type": "error",
     "traceback": [
      "\u001b[1;31m---------------------------------------------------------------------------\u001b[0m",
      "\u001b[1;31mTypeError\u001b[0m                                 Traceback (most recent call last)",
      "Cell \u001b[1;32mIn[6], line 1\u001b[0m\n\u001b[1;32m----> 1\u001b[0m t1\u001b[38;5;241m.\u001b[39mcount()\n",
      "\u001b[1;31mTypeError\u001b[0m: tuple.count() takes exactly one argument (0 given)"
     ]
    }
   ],
   "source": [
    "t1.count()"
   ]
  },
  {
   "cell_type": "code",
   "execution_count": 7,
   "id": "1b5db9f6-364b-426b-baad-31c82874d601",
   "metadata": {},
   "outputs": [],
   "source": [
    "# tuple means keep your information permenant without change and it represented by () while list is represented by []"
   ]
  },
  {
   "cell_type": "code",
   "execution_count": null,
   "id": "b1a5c579-4271-4458-ab45-1b81fd250365",
   "metadata": {},
   "outputs": [],
   "source": [
    "t2 = t1.copy()"
   ]
  },
  {
   "cell_type": "markdown",
   "id": "72aa6f34-853a-482b-9532-ac06b79210ff",
   "metadata": {},
   "source": [
    "set "
   ]
  },
  {
   "cell_type": "code",
   "execution_count": 9,
   "id": "b5eee6df-7b7a-4d46-9879-b711437a0946",
   "metadata": {},
   "outputs": [],
   "source": [
    "# you should note that for llst we used l for tuple we used t and for set we use s "
   ]
  },
  {
   "cell_type": "code",
   "execution_count": 11,
   "id": "d735255b-a6a6-4df6-bf49-84862ca64347",
   "metadata": {},
   "outputs": [
    {
     "data": {
      "text/plain": [
       "{}"
      ]
     },
     "execution_count": 11,
     "metadata": {},
     "output_type": "execute_result"
    }
   ],
   "source": [
    "s1 = {}\n",
    "s1"
   ]
  },
  {
   "cell_type": "code",
   "execution_count": 13,
   "id": "020d1ddf-c462-443a-bc50-1f86bc61b7f3",
   "metadata": {},
   "outputs": [
    {
     "data": {
      "text/plain": [
       "dict"
      ]
     },
     "execution_count": 13,
     "metadata": {},
     "output_type": "execute_result"
    }
   ],
   "source": [
    "type(s1)"
   ]
  },
  {
   "cell_type": "code",
   "execution_count": 14,
   "id": "be78191d-d627-48fc-992c-7cabb3073e54",
   "metadata": {},
   "outputs": [
    {
     "name": "stdout",
     "output_type": "stream",
     "text": [
      "set()\n",
      "<class 'set'>\n"
     ]
    }
   ],
   "source": [
    "s1 = set()\n",
    "print(s1)\n",
    "print(type(s1))"
   ]
  },
  {
   "cell_type": "code",
   "execution_count": 16,
   "id": "e829ab3b-2b4d-443a-94f2-a2271cff6249",
   "metadata": {},
   "outputs": [
    {
     "name": "stdout",
     "output_type": "stream",
     "text": [
      "<class 'set'>\n"
     ]
    }
   ],
   "source": [
    "print(type(s1))\n"
   ]
  },
  {
   "cell_type": "code",
   "execution_count": 17,
   "id": "ea320941-304e-4006-be2e-488a2da768b0",
   "metadata": {},
   "outputs": [],
   "source": [
    "# when a function is defined inside a class is turns as a method "
   ]
  },
  {
   "cell_type": "code",
   "execution_count": 18,
   "id": "25341a5e-53e8-4852-87ad-3f0bce65e883",
   "metadata": {},
   "outputs": [
    {
     "data": {
      "text/plain": [
       "{0, 1, 6, 20, 57, 200}"
      ]
     },
     "execution_count": 18,
     "metadata": {},
     "output_type": "execute_result"
    }
   ],
   "source": [
    "s1 = {20,200,1,0,57,6}\n",
    "s1"
   ]
  },
  {
   "cell_type": "code",
   "execution_count": 19,
   "id": "a8719678-6071-4c43-9dc7-5b0f3dd4b9b0",
   "metadata": {},
   "outputs": [],
   "source": [
    "# when a set is ordered if we passed the same datatype within it . Also know that in set duplicate are not alloweds"
   ]
  },
  {
   "cell_type": "code",
   "execution_count": 20,
   "id": "1d7b5e58-7a48-45fa-a875-75c05db7b1ff",
   "metadata": {},
   "outputs": [
    {
     "data": {
      "text/plain": [
       "{'a', 'b', 'c', 'z'}"
      ]
     },
     "execution_count": 20,
     "metadata": {},
     "output_type": "execute_result"
    }
   ],
   "source": [
    "s2 = {'z','b','c','a'}\n",
    "s2"
   ]
  },
  {
   "cell_type": "code",
   "execution_count": 22,
   "id": "657bb11a-a634-4dc8-8469-5ad1a6ee1c10",
   "metadata": {},
   "outputs": [
    {
     "data": {
      "text/plain": [
       "{(1+2j), 1, 2.3, 'Lemuel'}"
      ]
     },
     "execution_count": 22,
     "metadata": {},
     "output_type": "execute_result"
    }
   ],
   "source": [
    "s3 = {1,2.3,True,'Lemuel',1 + 2j}\n",
    "s3"
   ]
  },
  {
   "cell_type": "code",
   "execution_count": 23,
   "id": "47ee599e-93ec-4b12-acb9-f90176aa4090",
   "metadata": {},
   "outputs": [
    {
     "name": "stdout",
     "output_type": "stream",
     "text": [
      "{0, 1, 20, 6, 200, 57}\n",
      "{'z', 'c', 'b', 'a'}\n",
      "{1, 2.3, 'Lemuel', (1+2j)}\n"
     ]
    }
   ],
   "source": [
    "print(s1)\n",
    "print(s2)\n",
    "print(s3)"
   ]
  },
  {
   "cell_type": "code",
   "execution_count": 24,
   "id": "0c453843-deca-4d4c-9bfe-28a5605877c7",
   "metadata": {},
   "outputs": [
    {
     "data": {
      "text/plain": [
       "{0, 1, 6, 20, 57, 200}"
      ]
     },
     "execution_count": 24,
     "metadata": {},
     "output_type": "execute_result"
    }
   ],
   "source": [
    "s1"
   ]
  },
  {
   "cell_type": "code",
   "execution_count": 25,
   "id": "c6d4c9ab-f8da-420e-a5d5-e3b27c56f886",
   "metadata": {},
   "outputs": [],
   "source": [
    "s1.add(40)"
   ]
  },
  {
   "cell_type": "code",
   "execution_count": 26,
   "id": "d2a7f827-9cbf-42b3-afb0-b129cc6aa621",
   "metadata": {},
   "outputs": [
    {
     "data": {
      "text/plain": [
       "{0, 1, 6, 20, 40, 57, 200}"
      ]
     },
     "execution_count": 26,
     "metadata": {},
     "output_type": "execute_result"
    }
   ],
   "source": [
    "s1"
   ]
  },
  {
   "cell_type": "code",
   "execution_count": 28,
   "id": "b80edcad-c749-4be3-9592-033d0bdc367b",
   "metadata": {},
   "outputs": [
    {
     "data": {
      "text/plain": [
       "{0, 1, 6, 20, 40, 57, 200, 300}"
      ]
     },
     "execution_count": 28,
     "metadata": {},
     "output_type": "execute_result"
    }
   ],
   "source": [
    "s1.add(300)\n",
    "s1"
   ]
  },
  {
   "cell_type": "code",
   "execution_count": 29,
   "id": "d11d4526-b81a-447a-a7bc-d5384cc58681",
   "metadata": {},
   "outputs": [
    {
     "data": {
      "text/plain": [
       "{0, 1, 6, 20, 40, 57, 200, 300}"
      ]
     },
     "execution_count": 29,
     "metadata": {},
     "output_type": "execute_result"
    }
   ],
   "source": [
    "s4 = s1.copy()\n",
    "s4"
   ]
  },
  {
   "cell_type": "code",
   "execution_count": 30,
   "id": "b7c33dfd-c4b6-4251-a7d2-4e6d8ec68733",
   "metadata": {},
   "outputs": [
    {
     "name": "stdout",
     "output_type": "stream",
     "text": [
      "{0, 1, 20, 6, 200, 57, 40, 300}\n",
      "{'z', 'c', 300, 'a', 'b'}\n",
      "{1, 2.3, 'Lemuel', (1+2j)}\n",
      "{0, 1, 6, 200, 40, 300, 20, 57}\n"
     ]
    }
   ],
   "source": [
    "print(s1)\n",
    "print(s2)\n",
    "print(s3)\n",
    "print(s4)"
   ]
  },
  {
   "cell_type": "code",
   "execution_count": 31,
   "id": "8ac15887-dffd-43a5-9818-3b54d062f7b7",
   "metadata": {},
   "outputs": [
    {
     "data": {
      "text/plain": [
       "{0, 1, 6, 20, 40, 57, 200, 300}"
      ]
     },
     "execution_count": 31,
     "metadata": {},
     "output_type": "execute_result"
    }
   ],
   "source": [
    "s1"
   ]
  },
  {
   "cell_type": "code",
   "execution_count": 33,
   "id": "f14d6111-9e9c-4e5b-a058-66817a7dd7a2",
   "metadata": {},
   "outputs": [
    {
     "ename": "TypeError",
     "evalue": "set.pop() takes no arguments (1 given)",
     "output_type": "error",
     "traceback": [
      "\u001b[1;31m---------------------------------------------------------------------------\u001b[0m",
      "\u001b[1;31mTypeError\u001b[0m                                 Traceback (most recent call last)",
      "Cell \u001b[1;32mIn[33], line 1\u001b[0m\n\u001b[1;32m----> 1\u001b[0m s1\u001b[38;5;241m.\u001b[39mpop(\u001b[38;5;241m1\u001b[39m)\n",
      "\u001b[1;31mTypeError\u001b[0m: set.pop() takes no arguments (1 given)"
     ]
    }
   ],
   "source": [
    "s1.pop(1)"
   ]
  },
  {
   "cell_type": "code",
   "execution_count": null,
   "id": "e2e13fc8-9682-4a9c-831d-7781df64ba33",
   "metadata": {},
   "outputs": [],
   "source": [
    "# index is not working with in set so to slicing will not work."
   ]
  },
  {
   "cell_type": "code",
   "execution_count": 34,
   "id": "5e52055f-2874-477a-8357-52fb06b39872",
   "metadata": {},
   "outputs": [],
   "source": [
    "s2.remove('z')"
   ]
  },
  {
   "cell_type": "code",
   "execution_count": 35,
   "id": "42d31cbd-a89e-465f-98ab-6445405a6cc0",
   "metadata": {},
   "outputs": [
    {
     "data": {
      "text/plain": [
       "{300, 'a', 'b', 'c'}"
      ]
     },
     "execution_count": 35,
     "metadata": {},
     "output_type": "execute_result"
    }
   ],
   "source": [
    "s2"
   ]
  },
  {
   "cell_type": "code",
   "execution_count": 36,
   "id": "9bd566a6-91be-4478-9b26-81ca0f6a1f2c",
   "metadata": {},
   "outputs": [
    {
     "data": {
      "text/plain": [
       "{1, 6, 20, 40, 57, 200, 300}"
      ]
     },
     "execution_count": 36,
     "metadata": {},
     "output_type": "execute_result"
    }
   ],
   "source": [
    "s1"
   ]
  },
  {
   "cell_type": "code",
   "execution_count": 37,
   "id": "942d5cab-34a4-4083-8883-bec3b67b21fd",
   "metadata": {},
   "outputs": [
    {
     "ename": "KeyError",
     "evalue": "400",
     "output_type": "error",
     "traceback": [
      "\u001b[1;31m---------------------------------------------------------------------------\u001b[0m",
      "\u001b[1;31mKeyError\u001b[0m                                  Traceback (most recent call last)",
      "Cell \u001b[1;32mIn[37], line 1\u001b[0m\n\u001b[1;32m----> 1\u001b[0m s1\u001b[38;5;241m.\u001b[39mremove(\u001b[38;5;241m400\u001b[39m)\n",
      "\u001b[1;31mKeyError\u001b[0m: 400"
     ]
    }
   ],
   "source": [
    "s1.remove(400)"
   ]
  },
  {
   "cell_type": "code",
   "execution_count": 38,
   "id": "08fe7e99-e346-4926-b314-0fbeec2a088a",
   "metadata": {},
   "outputs": [],
   "source": [
    "s1.discard(400)"
   ]
  },
  {
   "cell_type": "code",
   "execution_count": 39,
   "id": "1929a5cd-09b8-4033-993b-b9319b7adfba",
   "metadata": {},
   "outputs": [],
   "source": [
    "s1.discard(300)"
   ]
  },
  {
   "cell_type": "code",
   "execution_count": 40,
   "id": "a8287f55-bb0e-455a-8dd3-568996a80259",
   "metadata": {},
   "outputs": [
    {
     "data": {
      "text/plain": [
       "{1, 6, 20, 40, 57, 200}"
      ]
     },
     "execution_count": 40,
     "metadata": {},
     "output_type": "execute_result"
    }
   ],
   "source": [
    "s1"
   ]
  },
  {
   "cell_type": "code",
   "execution_count": 41,
   "id": "335551d6-f076-446b-aa69-35b85a8597d5",
   "metadata": {},
   "outputs": [
    {
     "name": "stdout",
     "output_type": "stream",
     "text": [
      "(0, 1)\n",
      "(1, 20)\n",
      "(2, 6)\n",
      "(3, 200)\n",
      "(4, 57)\n",
      "(5, 40)\n"
     ]
    }
   ],
   "source": [
    "for i in enumerate(s1):\n",
    "    print(i)"
   ]
  },
  {
   "cell_type": "code",
   "execution_count": 42,
   "id": "179624e1-51b7-4ce9-86f3-a4614a2f57d4",
   "metadata": {},
   "outputs": [
    {
     "name": "stdout",
     "output_type": "stream",
     "text": [
      "(0, 'c')\n",
      "(1, 300)\n",
      "(2, 'a')\n",
      "(3, 'b')\n"
     ]
    }
   ],
   "source": [
    "for i in enumerate(s2):\n",
    "    print(i)"
   ]
  },
  {
   "cell_type": "code",
   "execution_count": 43,
   "id": "22ff59dc-d0d4-4edd-b836-ea1aa89cc486",
   "metadata": {},
   "outputs": [
    {
     "data": {
      "text/plain": [
       "{1, 6, 20, 40, 57, 200}"
      ]
     },
     "execution_count": 43,
     "metadata": {},
     "output_type": "execute_result"
    }
   ],
   "source": [
    "s1"
   ]
  },
  {
   "cell_type": "code",
   "execution_count": 44,
   "id": "b95bc7f0-29eb-4d1e-9ec0-b48d53807416",
   "metadata": {},
   "outputs": [
    {
     "data": {
      "text/plain": [
       "{1, 2, 3, 6, 20, 40, 57, 200}"
      ]
     },
     "execution_count": 44,
     "metadata": {},
     "output_type": "execute_result"
    }
   ],
   "source": [
    "s1.update([1,2,3])\n",
    "s1"
   ]
  },
  {
   "cell_type": "code",
   "execution_count": null,
   "id": "fc20362b-82a6-4a72-a0e1-6ba4e7cb78d8",
   "metadata": {},
   "outputs": [],
   "source": []
  },
  {
   "cell_type": "code",
   "execution_count": null,
   "id": "f1d2066d-e962-4c40-96f6-0152992265a5",
   "metadata": {},
   "outputs": [],
   "source": []
  },
  {
   "cell_type": "code",
   "execution_count": null,
   "id": "81f2651e-c714-4bf1-9cde-d05acaf28f1f",
   "metadata": {},
   "outputs": [],
   "source": []
  },
  {
   "cell_type": "code",
   "execution_count": null,
   "id": "24670688-0986-4e13-b6b7-78541608a94f",
   "metadata": {},
   "outputs": [],
   "source": []
  },
  {
   "cell_type": "code",
   "execution_count": null,
   "id": "c7ec69b1-d84c-4208-ac21-d4ccef1d0a7e",
   "metadata": {},
   "outputs": [],
   "source": []
  },
  {
   "cell_type": "code",
   "execution_count": null,
   "id": "f764c670-37d2-4408-9b24-4306a565c4ff",
   "metadata": {},
   "outputs": [],
   "source": []
  },
  {
   "cell_type": "code",
   "execution_count": null,
   "id": "7a2fb97a-f7a6-4a9e-83fa-bf4f6ef34a74",
   "metadata": {},
   "outputs": [],
   "source": []
  },
  {
   "cell_type": "code",
   "execution_count": null,
   "id": "7dea7e01-dc56-4a56-8341-767f60f647c6",
   "metadata": {},
   "outputs": [],
   "source": []
  }
 ],
 "metadata": {
  "kernelspec": {
   "display_name": "Python 3 (ipykernel)",
   "language": "python",
   "name": "python3"
  },
  "language_info": {
   "codemirror_mode": {
    "name": "ipython",
    "version": 3
   },
   "file_extension": ".py",
   "mimetype": "text/x-python",
   "name": "python",
   "nbconvert_exporter": "python",
   "pygments_lexer": "ipython3",
   "version": "3.13.5"
  }
 },
 "nbformat": 4,
 "nbformat_minor": 5
}
