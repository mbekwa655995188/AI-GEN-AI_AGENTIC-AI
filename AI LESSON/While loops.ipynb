{
 "cells": [
  {
   "cell_type": "code",
   "execution_count": null,
   "id": "9e381bf3-82e1-4242-894a-23fb76e0783d",
   "metadata": {},
   "outputs": [],
   "source": [
    "print('datascience')\n",
    "print('datascience')\n",
    "print('datascience')\n",
    "print('datascience')\n",
    "print('datascience')"
   ]
  },
  {
   "cell_type": "code",
   "execution_count": 1,
   "id": "b3999ad8-d7ec-4e2f-bbdd-663f5556e26d",
   "metadata": {},
   "outputs": [
    {
     "name": "stdout",
     "output_type": "stream",
     "text": [
      "Data science\n",
      "Data science\n",
      "Data science\n",
      "Data science\n",
      "Data science\n"
     ]
    }
   ],
   "source": [
    "i = 1\n",
    "while i <= 5:\n",
    "    print('Data science')\n",
    "    i = i+1"
   ]
  },
  {
   "cell_type": "code",
   "execution_count": 2,
   "id": "a7dcc8c9-cd73-4c25-bbcf-50bc4cf6f161",
   "metadata": {},
   "outputs": [
    {
     "name": "stdout",
     "output_type": "stream",
     "text": [
      "Data Science : 1\n",
      "Data Science : 2\n",
      "Data Science : 3\n",
      "Data Science : 4\n",
      "Data Science : 5\n"
     ]
    }
   ],
   "source": [
    " i = 1\n",
    "while i<= 5:\n",
    "    print('Data Science :',i)\n",
    "    i = i +1"
   ]
  },
  {
   "cell_type": "code",
   "execution_count": 3,
   "id": "01e8afe3-02b5-4c87-b5df-0b9a8dab4cc6",
   "metadata": {},
   "outputs": [
    {
     "name": "stdout",
     "output_type": "stream",
     "text": [
      "Data science : 5\n",
      "Data science : 4\n",
      "Data science : 3\n",
      "Data science : 2\n",
      "Data science : 1\n"
     ]
    }
   ],
   "source": [
    "i = 5\n",
    "while i>=1:\n",
    "    print('Data science :', i )\n",
    "    i = i - 1"
   ]
  },
  {
   "cell_type": "code",
   "execution_count": 7,
   "id": "d795a72e-dc33-411f-a466-f9cdfbeff2bb",
   "metadata": {},
   "outputs": [
    {
     "name": "stdout",
     "output_type": "stream",
     "text": [
      "Data science \n",
      "Technology \n",
      "Technology \n",
      "Technology \n",
      "Technology \n",
      "\n",
      "Data science \n",
      "Technology \n",
      "Technology \n",
      "Technology \n",
      "Technology \n",
      "\n",
      "Data science \n",
      "Technology \n",
      "Technology \n",
      "Technology \n",
      "Technology \n",
      "\n",
      "Data science \n",
      "Technology \n",
      "Technology \n",
      "Technology \n",
      "Technology \n",
      "\n",
      "Data science \n",
      "Technology \n",
      "Technology \n",
      "Technology \n",
      "Technology \n",
      "\n"
     ]
    }
   ],
   "source": [
    "i =  1\n",
    "while i <= 5:\n",
    "    print('Data science ')\n",
    "    j = 1\n",
    "    while j<= 4:\n",
    "        print(\"Technology \")\n",
    "        j = j+1\n",
    "    i = i+1\n",
    "    print()\n",
    "    "
   ]
  },
  {
   "cell_type": "markdown",
   "id": "f79f0052-0cbf-4be2-b67b-7ef5ca5d8987",
   "metadata": {},
   "source": [
    "# For Loops "
   ]
  },
  {
   "cell_type": "code",
   "execution_count": 8,
   "id": "2ec9ede8-a9a1-4e65-91a6-97abf87aad0e",
   "metadata": {},
   "outputs": [
    {
     "name": "stdout",
     "output_type": "stream",
     "text": [
      "L\n",
      "e\n",
      "m\n",
      "u\n",
      "e\n",
      "l\n",
      " \n"
     ]
    }
   ],
   "source": [
    "name = 'Lemuel '\n",
    "for i in name:\n",
    "    print(i)"
   ]
  },
  {
   "cell_type": "code",
   "execution_count": 9,
   "id": "9ec2ac58-8dba-4984-94aa-f8403311594d",
   "metadata": {},
   "outputs": [
    {
     "name": "stdout",
     "output_type": "stream",
     "text": [
      "1\n",
      "2\n",
      "3\n",
      "4\n",
      "hi\n"
     ]
    }
   ],
   "source": [
    "name1 = [1,2,3,4, 'hi']\n",
    "for i in name1:\n",
    "    print(i)"
   ]
  },
  {
   "cell_type": "code",
   "execution_count": 10,
   "id": "cb31091c-6f23-4dcc-8c0a-04d7732224b9",
   "metadata": {},
   "outputs": [
    {
     "name": "stdout",
     "output_type": "stream",
     "text": [
      "0\n",
      "1\n",
      "2\n",
      "3\n",
      "4\n"
     ]
    }
   ],
   "source": [
    "for i in range(0,5):\n",
    "    print(i)"
   ]
  },
  {
   "cell_type": "code",
   "execution_count": 11,
   "id": "a893d139-c726-41a3-bdba-93b08d780790",
   "metadata": {},
   "outputs": [],
   "source": [
    "# print the multiple of 5 in python."
   ]
  },
  {
   "cell_type": "code",
   "execution_count": 16,
   "id": "e338937f-7535-417e-b7ab-e270cf9aa4a2",
   "metadata": {},
   "outputs": [
    {
     "name": "stdout",
     "output_type": "stream",
     "text": [
      "5\n",
      "10\n",
      "15\n",
      "20\n",
      "25\n",
      "30\n",
      "35\n",
      "40\n",
      "45\n",
      "50\n"
     ]
    }
   ],
   "source": [
    "for i in range(1,51):\n",
    "    if i % 5 ==0:\n",
    "        print(i)"
   ]
  },
  {
   "cell_type": "code",
   "execution_count": 15,
   "id": "266c9158-6d17-4273-8f54-e6182d07432b",
   "metadata": {},
   "outputs": [],
   "source": [
    "# in the for loop we have 3 important concept is break , continue and pass."
   ]
  },
  {
   "cell_type": "code",
   "execution_count": 17,
   "id": "a8da1965-6a93-4684-92a6-74087a0b3efb",
   "metadata": {},
   "outputs": [
    {
     "name": "stdout",
     "output_type": "stream",
     "text": [
      "1\n",
      "2\n",
      "3\n",
      "4\n",
      "5\n",
      "6\n",
      "7\n",
      "8\n",
      "9\n",
      "10\n"
     ]
    }
   ],
   "source": [
    "for i in range(1,11):\n",
    "    print(i)"
   ]
  },
  {
   "cell_type": "code",
   "execution_count": 18,
   "id": "41c4e92a-7119-43df-be26-a64e31c2743e",
   "metadata": {},
   "outputs": [
    {
     "name": "stdout",
     "output_type": "stream",
     "text": [
      "1\n",
      "2\n",
      "3\n",
      "4\n",
      "5\n"
     ]
    }
   ],
   "source": [
    "for i in range(1,11):\n",
    "    if i ==6:\n",
    "        break\n",
    "    print(i)"
   ]
  },
  {
   "cell_type": "code",
   "execution_count": 19,
   "id": "ee985ca5-25e0-44e0-9f3e-3d34b917d9eb",
   "metadata": {},
   "outputs": [
    {
     "name": "stdout",
     "output_type": "stream",
     "text": [
      "1\n",
      "2\n",
      "3\n",
      "4\n",
      "5\n",
      "7\n",
      "8\n",
      "9\n",
      "10\n"
     ]
    }
   ],
   "source": [
    "for i in range(1,11):\n",
    "    if i ==6:\n",
    "        continue \n",
    "    print(i)"
   ]
  },
  {
   "cell_type": "code",
   "execution_count": 20,
   "id": "0829edab-8797-4b10-96ad-bdb7af92541b",
   "metadata": {},
   "outputs": [
    {
     "ename": "_IncompleteInputError",
     "evalue": "incomplete input (1116375593.py, line 2)",
     "output_type": "error",
     "traceback": [
      "\u001b[1;36m  Cell \u001b[1;32mIn[20], line 2\u001b[1;36m\u001b[0m\n\u001b[1;33m    \u001b[0m\n\u001b[1;37m    ^\u001b[0m\n\u001b[1;31m_IncompleteInputError\u001b[0m\u001b[1;31m:\u001b[0m incomplete input\n"
     ]
    }
   ],
   "source": [
    "for i in range(1,11):\n",
    "    "
   ]
  },
  {
   "cell_type": "code",
   "execution_count": 21,
   "id": "e73c0f38-e465-4661-b11e-c5cd4a292e78",
   "metadata": {},
   "outputs": [],
   "source": [
    "# how to bypass the errors in python."
   ]
  },
  {
   "cell_type": "code",
   "execution_count": 22,
   "id": "7d782050-9a00-42c1-a82b-0d118da317ec",
   "metadata": {},
   "outputs": [],
   "source": [
    "for i in range(1,11):\n",
    "    pass"
   ]
  },
  {
   "cell_type": "code",
   "execution_count": 23,
   "id": "5dc663e5-a98f-4b65-be46-84f0888b4e36",
   "metadata": {},
   "outputs": [
    {
     "name": "stdout",
     "output_type": "stream",
     "text": [
      "3\n",
      "6\n",
      "9\n",
      "12\n",
      "15\n",
      "18\n",
      "21\n",
      "24\n",
      "27\n",
      "30\n",
      "33\n",
      "36\n",
      "39\n",
      "42\n",
      "45\n",
      "48\n",
      "end\n"
     ]
    }
   ],
   "source": [
    "for i in range(1,51):\n",
    "    if i % 3 ==0:\n",
    "        print(i)\n",
    "print('end')"
   ]
  },
  {
   "cell_type": "code",
   "execution_count": 39,
   "id": "0b459ee9-a306-4160-b24f-7f71123f2333",
   "metadata": {},
   "outputs": [
    {
     "name": "stdout",
     "output_type": "stream",
     "text": [
      "1\n",
      "2\n",
      "4\n",
      "7\n",
      "8\n",
      "11\n",
      "13\n",
      "14\n",
      "16\n",
      "17\n",
      "19\n",
      "22\n",
      "23\n",
      "26\n",
      "28\n",
      "29\n",
      "31\n",
      "32\n",
      "34\n",
      "37\n",
      "38\n",
      "41\n",
      "43\n",
      "44\n",
      "46\n",
      "47\n",
      "49\n",
      "end\n"
     ]
    }
   ],
   "source": [
    "for i in range(1,51):\n",
    "   if i % 5 == 0 or i % 3 ==0 :\n",
    "            continue\n",
    "   print(i)\n",
    "print('end')"
   ]
  },
  {
   "cell_type": "code",
   "execution_count": 41,
   "id": "e46c5a29-9719-4d6e-9c40-032a020dc552",
   "metadata": {},
   "outputs": [
    {
     "name": "stdout",
     "output_type": "stream",
     "text": [
      "# # # #\n",
      "# # # #\n",
      "# # # #\n",
      "# # # #\n"
     ]
    }
   ],
   "source": [
    "for i in range(1,5):\n",
    "    i =i+1\n",
    "    print('# # # #')"
   ]
  },
  {
   "cell_type": "code",
   "execution_count": 42,
   "id": "ada68e73-6008-4c1e-b4ed-e528e9310d9a",
   "metadata": {},
   "outputs": [
    {
     "name": "stdout",
     "output_type": "stream",
     "text": [
      "# # # #\n",
      "# # # #\n",
      "# # # #\n",
      "# # # #\n",
      "# # # #\n"
     ]
    }
   ],
   "source": [
    "for i in range(1,6):\n",
    "    if i <= 5:\n",
    "        print('# # # #')"
   ]
  },
  {
   "cell_type": "code",
   "execution_count": 45,
   "id": "6d357251-d4b9-40b5-a5ff-1e7870a3682f",
   "metadata": {},
   "outputs": [
    {
     "name": "stdout",
     "output_type": "stream",
     "text": [
      "\n",
      "\n",
      "* \n",
      "* * \n",
      "* * * \n",
      "* * * * \n"
     ]
    }
   ],
   "source": [
    "for i in range(6):\n",
    "    for j in range(i-1):\n",
    "        print('*', end = ' ')\n",
    "    print()\n",
    "    "
   ]
  },
  {
   "cell_type": "code",
   "execution_count": 46,
   "id": "18cd4ff3-5902-44d2-8c1d-6f76d1ba5bb1",
   "metadata": {},
   "outputs": [
    {
     "name": "stdout",
     "output_type": "stream",
     "text": [
      " # \n",
      " #  # \n",
      " #  #  # \n",
      " #  #  #  # \n"
     ]
    }
   ],
   "source": [
    "for i in range(1,5):\n",
    "    print(' # '* i)"
   ]
  },
  {
   "cell_type": "code",
   "execution_count": 49,
   "id": "4658d251-b0a6-4385-877a-86f9008e8243",
   "metadata": {},
   "outputs": [
    {
     "name": "stdout",
     "output_type": "stream",
     "text": [
      " *  *  *  *  * \n",
      " *  *  *  * \n",
      " *  *  * \n",
      " *  * \n",
      " * \n"
     ]
    }
   ],
   "source": [
    "for i in range(5, 0 ,-1):\n",
    "    print(' * ' *i)"
   ]
  },
  {
   "cell_type": "code",
   "execution_count": 51,
   "id": "81b7e7d5-76c0-4511-b3e1-e44d9bdbb2c8",
   "metadata": {},
   "outputs": [
    {
     "name": "stdout",
     "output_type": "stream",
     "text": [
      "\n",
      " * \n",
      " *  *  * \n",
      " *  *  *  *  * \n",
      " *  *  *  *  *  *  * \n",
      " *  *  *  *  *  *  *  *  * \n"
     ]
    }
   ],
   "source": [
    "for i in range(6):\n",
    "    print(''*(5-i)+' * '*(2*i-1))"
   ]
  },
  {
   "cell_type": "code",
   "execution_count": 52,
   "id": "b39294c2-f6f3-46ec-a9ac-94c1efc49e72",
   "metadata": {},
   "outputs": [
    {
     "name": "stdout",
     "output_type": "stream",
     "text": [
      " * \n",
      " *  *  * \n",
      " *  *  *  *  * \n",
      " *  *  *  *  *  *  * \n",
      " *  *  *  *  *  *  *  *  * \n",
      " *  *  *  *  *  *  * \n",
      " *  *  *  *  * \n",
      " *  *  * \n",
      " * \n"
     ]
    }
   ],
   "source": [
    "for i in range(1,6):\n",
    "    print(''*(5-i)+' * '*(2*i-1))\n",
    "for i in range(4,0,-1):\n",
    "    print(''*(5-i)+' * '*(2*i-1))"
   ]
  },
  {
   "cell_type": "code",
   "execution_count": 56,
   "id": "ec0a7148-ce17-47a3-ae9d-fecce983e6b3",
   "metadata": {},
   "outputs": [
    {
     "name": "stdout",
     "output_type": "stream",
     "text": [
      "*****\n",
      "*   *\n",
      "*   *\n",
      "*   *\n",
      "*****\n"
     ]
    }
   ],
   "source": [
    "for i in range(5):\n",
    "    for j in range(5):\n",
    "        if i==0 or i==4 or j==0  or j==4:\n",
    "            print('*',end = '')\n",
    "        else:\n",
    "            print(' ',end='')\n",
    "    print()"
   ]
  },
  {
   "cell_type": "code",
   "execution_count": 57,
   "id": "9ab653ad-bfb9-473e-ba14-ebf28a259b66",
   "metadata": {},
   "outputs": [
    {
     "name": "stdout",
     "output_type": "stream",
     "text": [
      "1\n",
      "1 2\n",
      "1 2 3\n",
      "1 2 3 4\n",
      "1 2 3 4 5\n"
     ]
    }
   ],
   "source": [
    "for i in range(1,6):\n",
    "    print(' '.join(str(x) for x in range(1,i+ 1)) )"
   ]
  },
  {
   "cell_type": "code",
   "execution_count": 58,
   "id": "bec9b40c-e49c-47ce-a855-a577c82b705a",
   "metadata": {},
   "outputs": [
    {
     "name": "stdout",
     "output_type": "stream",
     "text": [
      "1 2 3 4 5\n",
      "1 2 3 4\n",
      "1 2 3\n",
      "1 2\n",
      "1\n"
     ]
    }
   ],
   "source": [
    "for i in range(5,0 ,-1):\n",
    "    print(' '.join(str(x) for x in range(1,i + 1)))"
   ]
  },
  {
   "cell_type": "code",
   "execution_count": 60,
   "id": "a7ead493-5b38-4bc4-b1b6-099e29166321",
   "metadata": {},
   "outputs": [
    {
     "name": "stdout",
     "output_type": "stream",
     "text": [
      "1 \n",
      "2 3 \n",
      "4 5 6 \n",
      "7 8 9 10 \n",
      "11 12 13 14 15 \n"
     ]
    }
   ],
   "source": [
    "# Floyed's Triangle \n",
    "num = 1\n",
    "for i in range(1,6):\n",
    "    for j in range(1,i+1):\n",
    "        print(num , end= ' ')\n",
    "        num+=1\n",
    "    print()"
   ]
  },
  {
   "cell_type": "code",
   "execution_count": 64,
   "id": "3ae6bddd-e32f-4009-89e9-a86d58aed439",
   "metadata": {},
   "outputs": [
    {
     "name": "stdout",
     "output_type": "stream",
     "text": [
      "        * \n",
      "      *   * \n",
      "    *       * \n",
      "  *           * \n",
      "* * * * * * * * * \n"
     ]
    }
   ],
   "source": [
    "# Hallow Right Angle Triangle\n",
    "for i in range(1,6):\n",
    "    for j in range(5-i):\n",
    "        print(' ', end = ' ')\n",
    "    for j in range(2* i - 1):\n",
    "        if j==0 or j==2* i-2  or i ==5:\n",
    "            print('*', end = ' ')\n",
    "        else:\n",
    "            print(' ', end = ' ')\n",
    "    print()\n",
    "\n"
   ]
  },
  {
   "cell_type": "code",
   "execution_count": 65,
   "id": "00f86464-521d-4414-b7b8-4b6e2a7bfcd8",
   "metadata": {},
   "outputs": [
    {
     "name": "stdout",
     "output_type": "stream",
     "text": [
      "15\n",
      "5\n"
     ]
    }
   ],
   "source": [
    "nums = [12,15,3,4,8,5]\n",
    "for num in nums:\n",
    "    if num % 5 ==0:\n",
    "        print(num)"
   ]
  },
  {
   "cell_type": "code",
   "execution_count": 71,
   "id": "2a3cef7e-2e24-41ea-97ac-ef236d7c64ab",
   "metadata": {},
   "outputs": [],
   "source": [
    "nums = [12,3,4,8,7]\n",
    "for num in nums:\n",
    "    if num % 5 ==0:\n",
    "        print(num)\n",
    "        break"
   ]
  },
  {
   "cell_type": "code",
   "execution_count": 73,
   "id": "33347c18-b1a7-441a-b161-14b71489ce70",
   "metadata": {},
   "outputs": [
    {
     "name": "stdout",
     "output_type": "stream",
     "text": [
      "Number is not found\n"
     ]
    }
   ],
   "source": [
    "nums = [12,3,4,8,7]\n",
    "for num in nums:\n",
    "    if num % 5 ==0:\n",
    "        print(num)\n",
    "        break\n",
    "else:\n",
    "    print('Number is not found')"
   ]
  },
  {
   "cell_type": "code",
   "execution_count": null,
   "id": "1756f487-ec2e-41fe-9d9f-95db4e9dcc05",
   "metadata": {},
   "outputs": [],
   "source": []
  }
 ],
 "metadata": {
  "kernelspec": {
   "display_name": "Python 3 (ipykernel)",
   "language": "python",
   "name": "python3"
  },
  "language_info": {
   "codemirror_mode": {
    "name": "ipython",
    "version": 3
   },
   "file_extension": ".py",
   "mimetype": "text/x-python",
   "name": "python",
   "nbconvert_exporter": "python",
   "pygments_lexer": "ipython3",
   "version": "3.13.5"
  }
 },
 "nbformat": 4,
 "nbformat_minor": 5
}
