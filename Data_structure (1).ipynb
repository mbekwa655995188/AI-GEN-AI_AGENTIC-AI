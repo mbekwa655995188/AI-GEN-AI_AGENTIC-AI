{
 "cells": [
  {
   "cell_type": "markdown",
   "id": "ae31b169-ac5d-43e3-aa1b-b170dd11360c",
   "metadata": {},
   "source": [
    "List"
   ]
  },
  {
   "cell_type": "code",
   "execution_count": null,
   "id": "5d282a86-ee94-4756-a326-3fe314603e98",
   "metadata": {},
   "outputs": [],
   "source": []
  },
  {
   "cell_type": "code",
   "execution_count": null,
   "id": "1f46453c-d9c6-4501-b5ff-2c24fab62e63",
   "metadata": {},
   "outputs": [],
   "source": []
  },
  {
   "cell_type": "code",
   "execution_count": 1,
   "id": "04f1b2ae-2426-43ea-bd7a-3ba3e899df38",
   "metadata": {},
   "outputs": [
    {
     "data": {
      "text/plain": [
       "[]"
      ]
     },
     "execution_count": 1,
     "metadata": {},
     "output_type": "execute_result"
    }
   ],
   "source": [
    "l = []\n",
    "l"
   ]
  },
  {
   "cell_type": "code",
   "execution_count": 2,
   "id": "66a44073-45f5-4df3-b1c2-aa56519087a3",
   "metadata": {},
   "outputs": [
    {
     "data": {
      "text/plain": [
       "list"
      ]
     },
     "execution_count": 2,
     "metadata": {},
     "output_type": "execute_result"
    }
   ],
   "source": [
    "type(l)"
   ]
  },
  {
   "cell_type": "code",
   "execution_count": 3,
   "id": "6e88bb17-1f5f-409d-a514-a9ed2e16fe9f",
   "metadata": {},
   "outputs": [],
   "source": [
    "# when you call function you have to used ."
   ]
  },
  {
   "cell_type": "code",
   "execution_count": 6,
   "id": "6247f8df-668a-4bac-86e8-7fd2a6ff4f8b",
   "metadata": {},
   "outputs": [
    {
     "data": {
      "text/plain": [
       "0"
      ]
     },
     "execution_count": 6,
     "metadata": {},
     "output_type": "execute_result"
    }
   ],
   "source": [
    "len(l)"
   ]
  },
  {
   "cell_type": "code",
   "execution_count": null,
   "id": "2a162017-ddd1-461b-b07f-d9934ffee30d",
   "metadata": {},
   "outputs": [],
   "source": [
    "l."
   ]
  },
  {
   "cell_type": "code",
   "execution_count": 7,
   "id": "66e24e93-8b81-453d-9e39-63ff9fd8d016",
   "metadata": {},
   "outputs": [],
   "source": [
    "l.append(10)\n"
   ]
  },
  {
   "cell_type": "code",
   "execution_count": 8,
   "id": "b6f2e891-91a1-4108-bb88-db3d50ad0952",
   "metadata": {},
   "outputs": [
    {
     "data": {
      "text/plain": [
       "[10]"
      ]
     },
     "execution_count": 8,
     "metadata": {},
     "output_type": "execute_result"
    }
   ],
   "source": [
    "l"
   ]
  },
  {
   "cell_type": "code",
   "execution_count": 9,
   "id": "26c2704c-69b1-4fc5-8659-34bd85546078",
   "metadata": {},
   "outputs": [
    {
     "ename": "TypeError",
     "evalue": "list.append() takes exactly one argument (2 given)",
     "output_type": "error",
     "traceback": [
      "\u001b[1;31m---------------------------------------------------------------------------\u001b[0m",
      "\u001b[1;31mTypeError\u001b[0m                                 Traceback (most recent call last)",
      "Cell \u001b[1;32mIn[9], line 1\u001b[0m\n\u001b[1;32m----> 1\u001b[0m l\u001b[38;5;241m.\u001b[39mappend(\u001b[38;5;241m10\u001b[39m , \u001b[38;5;241m20\u001b[39m)\n",
      "\u001b[1;31mTypeError\u001b[0m: list.append() takes exactly one argument (2 given)"
     ]
    }
   ],
   "source": [
    "l.append(10 , 20)"
   ]
  },
  {
   "cell_type": "code",
   "execution_count": 10,
   "id": "47fef7b5-c148-4998-a2f9-f32d92e9a01f",
   "metadata": {},
   "outputs": [],
   "source": [
    "l.append(20)\n",
    "l.append(30)\n",
    "l.append(40)\n",
    "l.append(50)"
   ]
  },
  {
   "cell_type": "code",
   "execution_count": 11,
   "id": "aa7d89f7-4f2c-4604-bb28-6ae4595b2a64",
   "metadata": {},
   "outputs": [
    {
     "data": {
      "text/plain": [
       "[10, 20, 30, 40, 50]"
      ]
     },
     "execution_count": 11,
     "metadata": {},
     "output_type": "execute_result"
    }
   ],
   "source": [
    "l"
   ]
  },
  {
   "cell_type": "code",
   "execution_count": 12,
   "id": "a020ed2d-c36d-4600-8132-d00664320761",
   "metadata": {},
   "outputs": [
    {
     "data": {
      "text/plain": [
       "5"
      ]
     },
     "execution_count": 12,
     "metadata": {},
     "output_type": "execute_result"
    }
   ],
   "source": [
    "len(l)"
   ]
  },
  {
   "cell_type": "code",
   "execution_count": 13,
   "id": "a375bbe2-5e66-4505-8179-cc5c8b70a066",
   "metadata": {},
   "outputs": [
    {
     "data": {
      "text/plain": [
       "[10, 20, 30, 40, 50]"
      ]
     },
     "execution_count": 13,
     "metadata": {},
     "output_type": "execute_result"
    }
   ],
   "source": [
    "l[:]"
   ]
  },
  {
   "cell_type": "code",
   "execution_count": 14,
   "id": "89831006-68bd-42cd-b8c5-87a54f22c200",
   "metadata": {},
   "outputs": [
    {
     "data": {
      "text/plain": [
       "[20, 30, 40, 50]"
      ]
     },
     "execution_count": 14,
     "metadata": {},
     "output_type": "execute_result"
    }
   ],
   "source": [
    "l[1:5]"
   ]
  },
  {
   "cell_type": "code",
   "execution_count": 2,
   "id": "173c7b28-9602-4e39-8743-de3ca2cc0485",
   "metadata": {},
   "outputs": [
    {
     "data": {
      "text/plain": [
       "[10, 'a3max', 2.3, True, (1+2j)]"
      ]
     },
     "execution_count": 2,
     "metadata": {},
     "output_type": "execute_result"
    }
   ],
   "source": [
    "l1 = [10,'a3max',2.3, True,1 + 2j]\n",
    "l1"
   ]
  },
  {
   "cell_type": "code",
   "execution_count": 5,
   "id": "58187ca5-c8ed-4f15-af5f-6f36ffd22e7f",
   "metadata": {},
   "outputs": [
    {
     "data": {
      "text/plain": [
       "[10, 'a3max', 2.3, True, (1+2j)]"
      ]
     },
     "execution_count": 5,
     "metadata": {},
     "output_type": "execute_result"
    }
   ],
   "source": [
    "l2 = l1.copy()\n",
    "l2"
   ]
  },
  {
   "cell_type": "code",
   "execution_count": 6,
   "id": "24e071bf-aa07-409b-929a-f784b31b436a",
   "metadata": {},
   "outputs": [
    {
     "data": {
      "text/plain": [
       "[10, 'a3max', 2.3, True, (1+2j)]"
      ]
     },
     "execution_count": 6,
     "metadata": {},
     "output_type": "execute_result"
    }
   ],
   "source": [
    "l2"
   ]
  },
  {
   "cell_type": "code",
   "execution_count": 9,
   "id": "dc0c48f7-1756-461f-bdc9-bed9c9dcae83",
   "metadata": {},
   "outputs": [
    {
     "data": {
      "text/plain": [
       "[10, 'a3max', 2.3, True, (1+2j), 10, 30]"
      ]
     },
     "execution_count": 9,
     "metadata": {},
     "output_type": "execute_result"
    }
   ],
   "source": [
    "l2.append(30)\n",
    "l2"
   ]
  },
  {
   "cell_type": "code",
   "execution_count": 10,
   "id": "a0544fa4-25f3-408a-8605-5ac1b509f711",
   "metadata": {},
   "outputs": [
    {
     "data": {
      "text/plain": [
       "2510604027264"
      ]
     },
     "execution_count": 10,
     "metadata": {},
     "output_type": "execute_result"
    }
   ],
   "source": [
    "id(l2)"
   ]
  },
  {
   "cell_type": "code",
   "execution_count": 12,
   "id": "661d3572-1014-41d6-ba2f-a45d90a338c4",
   "metadata": {},
   "outputs": [],
   "source": [
    "l2.clear()"
   ]
  },
  {
   "cell_type": "code",
   "execution_count": 14,
   "id": "f0f4fdce-9196-42f4-818f-ec25b27a2e03",
   "metadata": {},
   "outputs": [
    {
     "data": {
      "text/plain": [
       "1"
      ]
     },
     "execution_count": 14,
     "metadata": {},
     "output_type": "execute_result"
    }
   ],
   "source": [
    "l1.count(10)"
   ]
  },
  {
   "cell_type": "code",
   "execution_count": 16,
   "id": "4b250bc4-6285-4562-9b63-fcb7603730a3",
   "metadata": {},
   "outputs": [
    {
     "data": {
      "text/plain": [
       "2"
      ]
     },
     "execution_count": 16,
     "metadata": {},
     "output_type": "execute_result"
    }
   ],
   "source": [
    "l1.index(2.3)"
   ]
  },
  {
   "cell_type": "code",
   "execution_count": 18,
   "id": "23d889dd-dc31-45c2-9933-e0a95a0db1ff",
   "metadata": {},
   "outputs": [],
   "source": [
    "l1.append(10)\n"
   ]
  },
  {
   "cell_type": "code",
   "execution_count": 19,
   "id": "7dc88255-d6a2-4034-9818-ed1727870090",
   "metadata": {},
   "outputs": [
    {
     "data": {
      "text/plain": [
       "[10, 'a3max', 2.3, True, (1+2j), 10, 10]"
      ]
     },
     "execution_count": 19,
     "metadata": {},
     "output_type": "execute_result"
    }
   ],
   "source": [
    "l1"
   ]
  },
  {
   "cell_type": "code",
   "execution_count": 20,
   "id": "3b13b669-ec5c-4e9d-94ef-302d6c9ac0ba",
   "metadata": {},
   "outputs": [
    {
     "data": {
      "text/plain": [
       "0"
      ]
     },
     "execution_count": 20,
     "metadata": {},
     "output_type": "execute_result"
    }
   ],
   "source": [
    "l1.index(10)"
   ]
  },
  {
   "cell_type": "code",
   "execution_count": 21,
   "id": "681660e9-f01a-4ae4-a744-57d3ae0cc613",
   "metadata": {},
   "outputs": [
    {
     "data": {
      "text/plain": [
       "[]"
      ]
     },
     "execution_count": 21,
     "metadata": {},
     "output_type": "execute_result"
    }
   ],
   "source": [
    "l2 = []\n",
    "l2"
   ]
  },
  {
   "cell_type": "code",
   "execution_count": 22,
   "id": "b19fa20f-f6fe-4256-8e13-fc36d200af46",
   "metadata": {},
   "outputs": [
    {
     "name": "stdout",
     "output_type": "stream",
     "text": [
      "[10, 'a3max', 2.3, True, (1+2j), 10, 10]\n",
      "[]\n"
     ]
    }
   ],
   "source": [
    "print(l1)\n",
    "print(l2)"
   ]
  },
  {
   "cell_type": "code",
   "execution_count": 23,
   "id": "d7c83e68-bbcc-4d69-8e9c-16b483d6d333",
   "metadata": {},
   "outputs": [],
   "source": [
    "a = [1,2,3]\n",
    "b = [4,5,6]"
   ]
  },
  {
   "cell_type": "code",
   "execution_count": 25,
   "id": "d1a89343-a0a5-4229-a098-1debee3a1a5b",
   "metadata": {},
   "outputs": [],
   "source": [
    "c = a.extend(b)"
   ]
  },
  {
   "cell_type": "code",
   "execution_count": 26,
   "id": "34d3d5fa-c113-445e-8468-3da527065f2b",
   "metadata": {},
   "outputs": [],
   "source": [
    "c"
   ]
  },
  {
   "cell_type": "code",
   "execution_count": 27,
   "id": "fd0e5018-ffe3-4c61-a70a-86f9a3560374",
   "metadata": {},
   "outputs": [],
   "source": [
    "l1.insert(0,45)"
   ]
  },
  {
   "cell_type": "code",
   "execution_count": 28,
   "id": "ccc04f88-5865-453d-b51e-05864186feae",
   "metadata": {},
   "outputs": [
    {
     "data": {
      "text/plain": [
       "[45, 10, 'a3max', 2.3, True, (1+2j), 10, 10]"
      ]
     },
     "execution_count": 28,
     "metadata": {},
     "output_type": "execute_result"
    }
   ],
   "source": [
    "l1"
   ]
  },
  {
   "cell_type": "code",
   "execution_count": 30,
   "id": "5379442c-cc7a-4bdd-8934-a6465f0066cb",
   "metadata": {},
   "outputs": [
    {
     "data": {
      "text/plain": [
       "10"
      ]
     },
     "execution_count": 30,
     "metadata": {},
     "output_type": "execute_result"
    }
   ],
   "source": [
    "l1.pop(7)"
   ]
  },
  {
   "cell_type": "code",
   "execution_count": 31,
   "id": "7adcf5a4-2d7f-4fb6-90bc-6baa93ec5e24",
   "metadata": {},
   "outputs": [
    {
     "data": {
      "text/plain": [
       "[45, 10, 'a3max', 2.3, True, (1+2j), 10]"
      ]
     },
     "execution_count": 31,
     "metadata": {},
     "output_type": "execute_result"
    }
   ],
   "source": [
    "l1"
   ]
  },
  {
   "cell_type": "code",
   "execution_count": 33,
   "id": "cd840e80-764f-4ae2-af3d-f204958a495d",
   "metadata": {},
   "outputs": [
    {
     "data": {
      "text/plain": [
       "10"
      ]
     },
     "execution_count": 33,
     "metadata": {},
     "output_type": "execute_result"
    }
   ],
   "source": [
    "l1.pop(6)"
   ]
  },
  {
   "cell_type": "code",
   "execution_count": 34,
   "id": "0bac1f4d-01ab-4fe4-9b07-cef4913efafb",
   "metadata": {},
   "outputs": [
    {
     "data": {
      "text/plain": [
       "[45, 10, 'a3max', 2.3, True, (1+2j)]"
      ]
     },
     "execution_count": 34,
     "metadata": {},
     "output_type": "execute_result"
    }
   ],
   "source": [
    "l1"
   ]
  },
  {
   "cell_type": "code",
   "execution_count": 36,
   "id": "e5d3f020-5426-4550-84ea-f46386b54bb2",
   "metadata": {},
   "outputs": [
    {
     "data": {
      "text/plain": [
       "[45, 10, 'a3max', 2.3, True]"
      ]
     },
     "execution_count": 36,
     "metadata": {},
     "output_type": "execute_result"
    }
   ],
   "source": [
    "l1.remove(1 + 2j)\n",
    "l1"
   ]
  },
  {
   "cell_type": "raw",
   "id": "baf4e7a3-b105-4fed-abb7-fc9f333cf4a5",
   "metadata": {},
   "source": [
    "# "
   ]
  },
  {
   "cell_type": "code",
   "execution_count": 37,
   "id": "9eef35ec-e515-4e93-a217-d8148db57e0f",
   "metadata": {},
   "outputs": [],
   "source": [
    "l1.reverse()"
   ]
  },
  {
   "cell_type": "code",
   "execution_count": 38,
   "id": "874d315a-9519-4899-9e1d-cb404b81b341",
   "metadata": {},
   "outputs": [
    {
     "data": {
      "text/plain": [
       "[True, 2.3, 'a3max', 10, 45]"
      ]
     },
     "execution_count": 38,
     "metadata": {},
     "output_type": "execute_result"
    }
   ],
   "source": [
    "l1"
   ]
  },
  {
   "cell_type": "code",
   "execution_count": 39,
   "id": "6829c39b-dd4c-47f2-9f9d-5aa51bea2725",
   "metadata": {},
   "outputs": [],
   "source": [
    "l3 = [30 ,5,2,50,100, 'a3max']"
   ]
  },
  {
   "cell_type": "code",
   "execution_count": 46,
   "id": "e9e35563-5577-4786-9fd1-32008339ce8c",
   "metadata": {},
   "outputs": [
    {
     "ename": "ValueError",
     "evalue": "'a3max' is not in list",
     "output_type": "error",
     "traceback": [
      "\u001b[1;31m---------------------------------------------------------------------------\u001b[0m",
      "\u001b[1;31mValueError\u001b[0m                                Traceback (most recent call last)",
      "Cell \u001b[1;32mIn[46], line 1\u001b[0m\n\u001b[1;32m----> 1\u001b[0m l3\u001b[38;5;241m.\u001b[39mindex(\u001b[38;5;124m'\u001b[39m\u001b[38;5;124ma3max\u001b[39m\u001b[38;5;124m'\u001b[39m)\n",
      "\u001b[1;31mValueError\u001b[0m: 'a3max' is not in list"
     ]
    }
   ],
   "source": [
    "l3.index('a3max')"
   ]
  },
  {
   "cell_type": "code",
   "execution_count": null,
   "id": "291e3715-4009-4d2d-bf75-2a58c6d25434",
   "metadata": {},
   "outputs": [],
   "source": []
  },
  {
   "cell_type": "code",
   "execution_count": null,
   "id": "9cb48e14-b33d-4c7c-8ab3-ef0f3684f7a3",
   "metadata": {},
   "outputs": [],
   "source": []
  },
  {
   "cell_type": "code",
   "execution_count": 40,
   "id": "4d6370a0-fc43-4312-9c80-2470d7082b95",
   "metadata": {},
   "outputs": [],
   "source": [
    "l3.sort()"
   ]
  },
  {
   "cell_type": "code",
   "execution_count": 41,
   "id": "41ec5e88-4927-430e-ae37-ae1619eeed0f",
   "metadata": {},
   "outputs": [
    {
     "data": {
      "text/plain": [
       "[2, 5, 30, 50, 100]"
      ]
     },
     "execution_count": 41,
     "metadata": {},
     "output_type": "execute_result"
    }
   ],
   "source": [
    "l3"
   ]
  },
  {
   "cell_type": "code",
   "execution_count": 43,
   "id": "fd518a07-0028-48f8-8bde-f7ea2172ac6f",
   "metadata": {},
   "outputs": [],
   "source": [
    "l3.sort(reverse=True )"
   ]
  },
  {
   "cell_type": "code",
   "execution_count": 44,
   "id": "735d379f-9bf5-40fd-ba67-cadd9d751a67",
   "metadata": {},
   "outputs": [
    {
     "data": {
      "text/plain": [
       "[100, 50, 30, 5, 2]"
      ]
     },
     "execution_count": 44,
     "metadata": {},
     "output_type": "execute_result"
    }
   ],
   "source": [
    "l3"
   ]
  },
  {
   "cell_type": "markdown",
   "id": "628660d9-a7df-47bf-bf69-0f64dd2fbc96",
   "metadata": {},
   "source": [
    "List is completed"
   ]
  },
  {
   "cell_type": "code",
   "execution_count": null,
   "id": "93608a16-d0ed-446d-99fe-bb645bcb5187",
   "metadata": {},
   "outputs": [],
   "source": []
  }
 ],
 "metadata": {
  "kernelspec": {
   "display_name": "Python 3 (ipykernel)",
   "language": "python",
   "name": "python3"
  },
  "language_info": {
   "codemirror_mode": {
    "name": "ipython",
    "version": 3
   },
   "file_extension": ".py",
   "mimetype": "text/x-python",
   "name": "python",
   "nbconvert_exporter": "python",
   "pygments_lexer": "ipython3",
   "version": "3.13.5"
  }
 },
 "nbformat": 4,
 "nbformat_minor": 5
}
