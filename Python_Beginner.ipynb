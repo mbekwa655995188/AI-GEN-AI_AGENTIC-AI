{
 "cells": [
  {
   "cell_type": "code",
   "execution_count": 2,
   "id": "1ff57f6a-2d2e-45fe-a495-4442aed70532",
   "metadata": {},
   "outputs": [
    {
     "data": {
      "text/plain": [
       "'3.13.5 | packaged by Anaconda, Inc. | (main, Jun 12 2025, 16:37:03) [MSC v.1929 64 bit (AMD64)]'"
      ]
     },
     "execution_count": 2,
     "metadata": {},
     "output_type": "execute_result"
    }
   ],
   "source": [
    "import sys\n",
    "sys.version"
   ]
  },
  {
   "cell_type": "markdown",
   "id": "b33a53ad-2bf8-46bf-b953-e4822570814b",
   "metadata": {},
   "source": [
    "#  variables = object= identifier\n",
    "# syntax(variable name = value)\n",
    "# means variable first before value .not the reverse that is variable cannot start with digit \n",
    "# Variable are case sensitive that is if define with lower variable you need to use that too.\n",
    "# Name Error.\n",
    "# if is python keyword\n",
    "#  Everykeyword has meaning \n",
    "# keywords cannot be use as a variable \n",
    "# When you what "
   ]
  },
  {
   "cell_type": "code",
   "execution_count": 3,
   "id": "f970280f-8268-4092-8ff2-470a38e7c604",
   "metadata": {},
   "outputs": [],
   "source": [
    "v= 8 "
   ]
  },
  {
   "cell_type": "code",
   "execution_count": 4,
   "id": "52959579-41e7-4d1f-bfc8-a0eac045a0ca",
   "metadata": {},
   "outputs": [
    {
     "ename": "SyntaxError",
     "evalue": "cannot assign to literal here. Maybe you meant '==' instead of '='? (1726677972.py, line 1)",
     "output_type": "error",
     "traceback": [
      "\u001b[1;36m  Cell \u001b[1;32mIn[4], line 1\u001b[1;36m\u001b[0m\n\u001b[1;33m    8 = v\u001b[0m\n\u001b[1;37m    ^\u001b[0m\n\u001b[1;31mSyntaxError\u001b[0m\u001b[1;31m:\u001b[0m cannot assign to literal here. Maybe you meant '==' instead of '='?\n"
     ]
    }
   ],
   "source": [
    "8 = v"
   ]
  },
  {
   "cell_type": "code",
   "execution_count": 5,
   "id": "f631bf34-9ddd-4825-9fdf-2447032f0176",
   "metadata": {},
   "outputs": [
    {
     "ename": "SyntaxError",
     "evalue": "invalid decimal literal (3028599967.py, line 1)",
     "output_type": "error",
     "traceback": [
      "\u001b[1;36m  Cell \u001b[1;32mIn[5], line 1\u001b[1;36m\u001b[0m\n\u001b[1;33m    1v = 9\u001b[0m\n\u001b[1;37m    ^\u001b[0m\n\u001b[1;31mSyntaxError\u001b[0m\u001b[1;31m:\u001b[0m invalid decimal literal\n"
     ]
    }
   ],
   "source": [
    "1v = 9"
   ]
  },
  {
   "cell_type": "code",
   "execution_count": 6,
   "id": "4919e04e-4404-4d9f-90ca-c8756065e84e",
   "metadata": {},
   "outputs": [],
   "source": [
    "v1 =9"
   ]
  },
  {
   "cell_type": "code",
   "execution_count": 7,
   "id": "210d680c-2a54-4e43-ab29-06cd85c162f9",
   "metadata": {},
   "outputs": [
    {
     "data": {
      "text/plain": [
       "10"
      ]
     },
     "execution_count": 7,
     "metadata": {},
     "output_type": "execute_result"
    }
   ],
   "source": [
    "v2 = 10 \n",
    "v2"
   ]
  },
  {
   "cell_type": "code",
   "execution_count": 8,
   "id": "8af2fdfc-ba04-4ee9-97b9-28cf904d98ea",
   "metadata": {},
   "outputs": [
    {
     "ename": "SyntaxError",
     "evalue": "invalid syntax (3169636511.py, line 1)",
     "output_type": "error",
     "traceback": [
      "\u001b[1;36m  Cell \u001b[1;32mIn[8], line 1\u001b[1;36m\u001b[0m\n\u001b[1;33m    if =67\u001b[0m\n\u001b[1;37m       ^\u001b[0m\n\u001b[1;31mSyntaxError\u001b[0m\u001b[1;31m:\u001b[0m invalid syntax\n"
     ]
    }
   ],
   "source": [
    "if =67\n",
    "if"
   ]
  },
  {
   "cell_type": "code",
   "execution_count": 9,
   "id": "613776ad-8ff8-4149-9fab-c4b01806a7c9",
   "metadata": {},
   "outputs": [
    {
     "data": {
      "text/plain": [
       "['False',\n",
       " 'None',\n",
       " 'True',\n",
       " 'and',\n",
       " 'as',\n",
       " 'assert',\n",
       " 'async',\n",
       " 'await',\n",
       " 'break',\n",
       " 'class',\n",
       " 'continue',\n",
       " 'def',\n",
       " 'del',\n",
       " 'elif',\n",
       " 'else',\n",
       " 'except',\n",
       " 'finally',\n",
       " 'for',\n",
       " 'from',\n",
       " 'global',\n",
       " 'if',\n",
       " 'import',\n",
       " 'in',\n",
       " 'is',\n",
       " 'lambda',\n",
       " 'nonlocal',\n",
       " 'not',\n",
       " 'or',\n",
       " 'pass',\n",
       " 'raise',\n",
       " 'return',\n",
       " 'try',\n",
       " 'while',\n",
       " 'with',\n",
       " 'yield']"
      ]
     },
     "execution_count": 9,
     "metadata": {},
     "output_type": "execute_result"
    }
   ],
   "source": [
    "import keyword\n",
    "keyword.kwlist"
   ]
  },
  {
   "cell_type": "code",
   "execution_count": 10,
   "id": "503ef74c-ad7e-43e1-a795-1ff2b323dad1",
   "metadata": {},
   "outputs": [
    {
     "data": {
      "text/plain": [
       "35"
      ]
     },
     "execution_count": 10,
     "metadata": {},
     "output_type": "execute_result"
    }
   ],
   "source": [
    "len(keyword.kwlist)"
   ]
  },
  {
   "cell_type": "code",
   "execution_count": 11,
   "id": "33fe8348-657a-4af2-8d0a-2991e29c10b1",
   "metadata": {},
   "outputs": [
    {
     "ename": "SyntaxError",
     "evalue": "expected ':' (3254977504.py, line 1)",
     "output_type": "error",
     "traceback": [
      "\u001b[1;36m  Cell \u001b[1;32mIn[11], line 1\u001b[1;36m\u001b[0m\n\u001b[1;33m    try = 56\u001b[0m\n\u001b[1;37m        ^\u001b[0m\n\u001b[1;31mSyntaxError\u001b[0m\u001b[1;31m:\u001b[0m expected ':'\n"
     ]
    }
   ],
   "source": [
    "try = 56"
   ]
  },
  {
   "cell_type": "code",
   "execution_count": 12,
   "id": "b30aa1aa-f25e-42ec-b5c9-77ca9893b01a",
   "metadata": {},
   "outputs": [
    {
     "ename": "SyntaxError",
     "evalue": "invalid syntax (4052195488.py, line 1)",
     "output_type": "error",
     "traceback": [
      "\u001b[1;36m  Cell \u001b[1;32mIn[12], line 1\u001b[1;36m\u001b[0m\n\u001b[1;33m    for = 45\u001b[0m\n\u001b[1;37m        ^\u001b[0m\n\u001b[1;31mSyntaxError\u001b[0m\u001b[1;31m:\u001b[0m invalid syntax\n"
     ]
    }
   ],
   "source": [
    "for = 45"
   ]
  },
  {
   "cell_type": "code",
   "execution_count": 13,
   "id": "d59a3151-d894-4ba8-b2a0-37e4b9cfcfcc",
   "metadata": {},
   "outputs": [
    {
     "data": {
      "text/plain": [
       "45"
      ]
     },
     "execution_count": 13,
     "metadata": {},
     "output_type": "execute_result"
    }
   ],
   "source": [
    "For = 45\n",
    "For"
   ]
  },
  {
   "cell_type": "code",
   "execution_count": 15,
   "id": "4e715874-7dbf-4ac4-ab75-3f71c3ba615c",
   "metadata": {},
   "outputs": [
    {
     "data": {
      "text/plain": [
       "67"
      ]
     },
     "execution_count": 15,
     "metadata": {},
     "output_type": "execute_result"
    }
   ],
   "source": [
    "true =67\n",
    "true"
   ]
  },
  {
   "cell_type": "code",
   "execution_count": 16,
   "id": "8e29a30f-173d-4637-b9d3-cf791d7db224",
   "metadata": {},
   "outputs": [
    {
     "ename": "SyntaxError",
     "evalue": "cannot assign to True (1130465602.py, line 1)",
     "output_type": "error",
     "traceback": [
      "\u001b[1;36m  Cell \u001b[1;32mIn[16], line 1\u001b[1;36m\u001b[0m\n\u001b[1;33m    True = 67\u001b[0m\n\u001b[1;37m    ^\u001b[0m\n\u001b[1;31mSyntaxError\u001b[0m\u001b[1;31m:\u001b[0m cannot assign to True\n"
     ]
    }
   ],
   "source": [
    "True = 67 \n",
    "True "
   ]
  },
  {
   "cell_type": "code",
   "execution_count": 17,
   "id": "a1904960-5dc4-4336-9c90-2657286b49cc",
   "metadata": {},
   "outputs": [
    {
     "ename": "SyntaxError",
     "evalue": "invalid syntax (3130354363.py, line 1)",
     "output_type": "error",
     "traceback": [
      "\u001b[1;36m  Cell \u001b[1;32mIn[17], line 1\u001b[1;36m\u001b[0m\n\u001b[1;33m    a3max%  = 89\u001b[0m\n\u001b[1;37m            ^\u001b[0m\n\u001b[1;31mSyntaxError\u001b[0m\u001b[1;31m:\u001b[0m invalid syntax\n"
     ]
    }
   ],
   "source": [
    "a3max%  = 89"
   ]
  },
  {
   "cell_type": "code",
   "execution_count": 18,
   "id": "dcd70acf-0efc-461d-8b53-818eb22bb038",
   "metadata": {},
   "outputs": [
    {
     "ename": "SyntaxError",
     "evalue": "invalid syntax (3478908110.py, line 1)",
     "output_type": "error",
     "traceback": [
      "\u001b[1;36m  Cell \u001b[1;32mIn[18], line 1\u001b[1;36m\u001b[0m\n\u001b[1;33m    a3max$ = 89\u001b[0m\n\u001b[1;37m         ^\u001b[0m\n\u001b[1;31mSyntaxError\u001b[0m\u001b[1;31m:\u001b[0m invalid syntax\n"
     ]
    }
   ],
   "source": [
    "a3max$ = 89"
   ]
  },
  {
   "cell_type": "code",
   "execution_count": 21,
   "id": "10f098a8-d214-48d5-b6ea-f4605331693d",
   "metadata": {},
   "outputs": [
    {
     "data": {
      "text/plain": [
       "5"
      ]
     },
     "execution_count": 21,
     "metadata": {},
     "output_type": "execute_result"
    }
   ],
   "source": [
    "10 + 5\n",
    "10 - 5"
   ]
  },
  {
   "cell_type": "code",
   "execution_count": 20,
   "id": "0d97dfba-2773-4000-9556-6cd0b4645010",
   "metadata": {},
   "outputs": [
    {
     "data": {
      "text/plain": [
       "5"
      ]
     },
     "execution_count": 20,
     "metadata": {},
     "output_type": "execute_result"
    }
   ],
   "source": [
    "10 - 5\n"
   ]
  },
  {
   "cell_type": "code",
   "execution_count": null,
   "id": "df96085b-b35d-4fbc-a4f9-36f43cd73d0d",
   "metadata": {},
   "outputs": [],
   "source": [
    "print(10+ 5)\n",
    "print(10 -5)\n",
    "print(10* 5)\n",
    "print(10 // 5)"
   ]
  }
 ],
 "metadata": {
  "kernelspec": {
   "display_name": "Python 3 (ipykernel)",
   "language": "python",
   "name": "python3"
  },
  "language_info": {
   "codemirror_mode": {
    "name": "ipython",
    "version": 3
   },
   "file_extension": ".py",
   "mimetype": "text/x-python",
   "name": "python",
   "nbconvert_exporter": "python",
   "pygments_lexer": "ipython3",
   "version": "3.13.5"
  }
 },
 "nbformat": 4,
 "nbformat_minor": 5
}
